{
  "nbformat": 4,
  "nbformat_minor": 0,
  "metadata": {
    "colab": {
      "name": "Copia de Neural Clusters.ipynb ",
      "version": "0.3.2",
      "provenance": [],
      "collapsed_sections": [],
      "toc_visible": true,
      "include_colab_link": true
    },
    "kernelspec": {
      "name": "python3",
      "display_name": "Python 3"
    },
    "accelerator": "TPU"
  },
  "cells": [
    {
      "cell_type": "markdown",
      "metadata": {
        "id": "view-in-github",
        "colab_type": "text"
      },
      "source": [
        "<a href=\"https://colab.research.google.com/github/JoseJD7/proyecto_neuralclusters/blob/master/Copia_de_Neural_Clusters.ipynb\" target=\"_parent\"><img src=\"https://colab.research.google.com/assets/colab-badge.svg\" alt=\"Open In Colab\"/></a>"
      ]
    },
    {
      "cell_type": "markdown",
      "metadata": {
        "id": "ILrFj60aE-XA",
        "colab_type": "text"
      },
      "source": [
        "Se predecirá la temperatura efectiva de una estrella a través de sus magnitudes absolutas en cinco bandas fotométricas (problema de regresión). Se ha utilizado la base de datos del SDSS, consultando el mismo a través de astroquery."
      ]
    },
    {
      "cell_type": "code",
      "metadata": {
        "id": "_3BVRc6M-Ci8",
        "colab_type": "code",
        "colab": {}
      },
      "source": [
        "!pip install --pre --quiet astroquery"
      ],
      "execution_count": 0,
      "outputs": []
    },
    {
      "cell_type": "code",
      "metadata": {
        "id": "t5_yOjQBE4gz",
        "colab_type": "code",
        "outputId": "2398125f-5546-427b-f053-545e6e9bb61d",
        "colab": {
          "base_uri": "https://localhost:8080/",
          "height": 34
        }
      },
      "source": [
        "from __future__ import absolute_import, division, print_function, unicode_literals\n",
        "\n",
        "from time import time\n",
        "from astroquery.sdss import SDSS\n",
        "\n",
        "import matplotlib.pyplot as plt\n",
        "import pandas as pd\n",
        "\n",
        "import tensorflow as tf\n",
        "from tensorflow import keras\n",
        "from tensorflow.keras import layers\n",
        "\n",
        "\n",
        "print(tf.__version__)"
      ],
      "execution_count": 2,
      "outputs": [
        {
          "output_type": "stream",
          "text": [
            "1.14.0\n"
          ],
          "name": "stdout"
        }
      ]
    },
    {
      "cell_type": "markdown",
      "metadata": {
        "id": "hnipyp1PEwNi",
        "colab_type": "text"
      },
      "source": [
        "## Datos del SDSS\n",
        "\n",
        "Disponible en enlace\n",
        "\n"
      ]
    },
    {
      "cell_type": "markdown",
      "metadata": {
        "id": "KKOzVSMUrt1F",
        "colab_type": "text"
      },
      "source": [
        "###Consulta con Astroquery###"
      ]
    },
    {
      "cell_type": "code",
      "metadata": {
        "id": "l3cvu2Kj-iOB",
        "colab_type": "code",
        "colab": {}
      },
      "source": [
        "t_ini = time()\n",
        "\n",
        "data = SDSS.query_sql(\"\"\"SELECT TOP 100000\n",
        "                      p.fiberMag_u, p.fiberMag_g, p.fiberMag_r, p.fiberMag_i, \n",
        "                      p.fiberMag_z, s.elodieTEff\n",
        "                   \n",
        "                      \n",
        "                      FROM PhotoObjAll AS p JOIN specObjAll s ON s.bestobjid = p.objid\n",
        "                      \n",
        "                      WHERE p.mode = 1 AND s.sciencePrimary = 1 AND p.clean = 1 AND s.class = 'STAR'\n",
        "                      \n",
        "                      \"\"\")"
      ],
      "execution_count": 0,
      "outputs": []
    },
    {
      "cell_type": "code",
      "metadata": {
        "id": "aYU1l2WHCUJI",
        "colab_type": "code",
        "outputId": "4a14a3b4-e548-4f4a-bba8-ebaba45d5000",
        "colab": {
          "base_uri": "https://localhost:8080/",
          "height": 1000
        }
      },
      "source": [
        "datapd=data.to_pandas()\n",
        "datapd = datapd[(datapd != -9999).dropna()]\n",
        "datapd = datapd.dropna()\n",
        "print(datapd)"
      ],
      "execution_count": 4,
      "outputs": [
        {
          "output_type": "stream",
          "text": [
            "       fiberMag_u  fiberMag_g  fiberMag_r  fiberMag_i  fiberMag_z  elodieTEff\n",
            "0        23.96692    23.71592    22.07448    20.88824    20.17535        6537\n",
            "1        22.45498    21.39898    21.14221    21.13898    21.19300        4949\n",
            "2        23.04208    22.43817    22.21309    22.59951    21.13734        3900\n",
            "3        23.23459    22.13259    21.89314    21.59264    20.95732        7652\n",
            "4        23.84488    22.24959    21.81773    21.63126    21.57564        5807\n",
            "5        19.88988    18.97729    18.61057    18.45963    18.40128        9899\n",
            "6        22.88934    21.56195    21.29082    21.07423    21.40925        4949\n",
            "7        22.09479    21.05033    20.85268    20.66345    20.33288        4949\n",
            "8        21.94799    20.72320    20.20987    20.35761    20.02630        9899\n",
            "9        22.00782    20.80491    20.49119    20.43349    20.84085        4662\n",
            "10       20.98806    20.01780    19.80793    19.71838    19.42414        3900\n",
            "11       23.06621    21.78392    21.78530    22.13173    21.42382        4949\n",
            "12       23.11455    21.66994    21.37536    21.22211    20.95718        9899\n",
            "13       23.70884    22.00272    22.04298    21.84762    22.11914        3705\n",
            "14       22.49532    21.54152    21.34805    21.17750    20.98578        3705\n",
            "15       22.04502    21.24329    21.02368    20.89965    20.59493        3705\n",
            "16       21.97198    21.05861    20.76596    20.78142    20.77782        3705\n",
            "17       21.95938    21.33727    21.09377    21.05513    20.76736        9899\n",
            "18       22.52082    21.07647    20.72961    20.74330    20.60865        9899\n",
            "19       24.29414    22.46613    22.40621    22.54823    22.44926        3705\n",
            "20       21.18065    20.17270    20.01160    19.94129    19.80136        6684\n",
            "21       21.94243    21.38619    21.03736    21.00050    20.93418        4949\n",
            "22       22.52348    21.36265    21.21152    21.18332    21.00994        4318\n",
            "23       22.25973    21.32091    20.98615    20.88252    20.75583        5063\n",
            "24       22.12939    21.37047    21.02024    20.93354    20.51610        9899\n",
            "25       19.39353    18.45202    18.13400    18.01031    17.98102        3714\n",
            "26       24.57396    22.29948    21.77409    21.57434    21.49364        4395\n",
            "27       22.72559    21.77712    21.61691    21.66792    21.14861        5063\n",
            "28       23.05232    21.74709    21.61626    21.56266    21.85746        5807\n",
            "29       22.69156    21.73847    21.43509    21.27050    20.89892        5820\n",
            "...           ...         ...         ...         ...         ...         ...\n",
            "99970    20.92167    19.34589    18.88560    18.67604    18.56666        5221\n",
            "99971    21.26369    19.81235    19.26249    19.01127    18.91464        5047\n",
            "99972    21.30314    20.38428    20.16631    20.07575    20.05900        6500\n",
            "99973    20.37630    19.00521    18.46545    18.26254    18.20948        5480\n",
            "99974    20.03979    18.64737    18.09610    17.89937    17.88683        5285\n",
            "99975    21.10304    19.62162    19.01765    18.81406    18.72042        5047\n",
            "99976    17.90313    16.83622    16.46621    16.31832    16.29406        5704\n",
            "99977    20.36538    18.93886    18.42623    18.26358    18.22323        5426\n",
            "99978    20.20702    18.10998    17.25878    16.96311    16.82189        4775\n",
            "99979    20.93056    19.61493    19.09071    18.85804    18.71880        5320\n",
            "99980    19.51461    18.63946    18.29336    18.17057    18.12698        6000\n",
            "99981    19.89825    18.52301    17.94462    17.69110    17.60120        5073\n",
            "99982    20.17137    17.73271    16.55507    16.07135    15.80510        4382\n",
            "99983    20.31997    17.66703    16.56301    16.12426    15.89530        4382\n",
            "99984    22.30838    20.21726    19.63975    19.39562    19.16933        5221\n",
            "99985    21.56207    20.73648    20.62573    20.52396    20.33825       11048\n",
            "99986    21.32384    20.29302    20.11415    20.02208    20.16687        6500\n",
            "99987    20.93307    19.75927    19.18560    18.96612    18.83760        5405\n",
            "99988    20.24781    18.90175    18.36371    18.19939    18.07631        5320\n",
            "99989    18.92322    17.35451    16.72538    16.47907    16.35621        5059\n",
            "99990    20.48730    18.65242    17.89434    17.61057    17.43784        4955\n",
            "99991    19.27114    17.81832    17.20240    16.95415    16.81582        5132\n",
            "99992    22.20653    21.15803    20.65856    20.43286    20.19475        4204\n",
            "99993    17.60478    16.53073    16.16278    16.02802    15.98301        6000\n",
            "99994    22.01063    20.80404    20.60572    20.49314    20.38896        5949\n",
            "99995    21.28820    19.86375    19.34855    19.20412    19.17462        5285\n",
            "99996    20.38788    19.56595    19.32884    19.27430    19.18848        6000\n",
            "99997    20.86557    19.71946    19.22085    19.04792    18.96370        5665\n",
            "99998    18.67838    17.22666    16.64388    16.41539    16.31507        5455\n",
            "99999    19.49130    17.98496    17.40025    17.16764    17.07466        5285\n",
            "\n",
            "[99985 rows x 6 columns]\n"
          ],
          "name": "stdout"
        }
      ]
    },
    {
      "cell_type": "markdown",
      "metadata": {
        "id": "RbqnaZgMEOdV",
        "colab_type": "text"
      },
      "source": [
        "### Separación entre datos de entrenamiento y datos de prueba "
      ]
    },
    {
      "cell_type": "code",
      "metadata": {
        "id": "ytPIaTCAEMqe",
        "colab_type": "code",
        "colab": {}
      },
      "source": [
        "train_datapd = datapd.sample(frac=0.8,random_state=0)\n",
        "test_datapd = datapd.drop(train_datapd.index)"
      ],
      "execution_count": 0,
      "outputs": []
    },
    {
      "cell_type": "markdown",
      "metadata": {
        "id": "un9FMCKeEKJk",
        "colab_type": "text"
      },
      "source": [
        "### Chequeo a los datos"
      ]
    },
    {
      "cell_type": "markdown",
      "metadata": {
        "id": "hJMy5AApEEMv",
        "colab_type": "text"
      },
      "source": [
        "Estadísticas:"
      ]
    },
    {
      "cell_type": "code",
      "metadata": {
        "id": "IXMZjr7HEBTf",
        "colab_type": "code",
        "outputId": "2c791b8a-9e95-463c-c242-640a80d5bf0e",
        "colab": {
          "base_uri": "https://localhost:8080/",
          "height": 204
        }
      },
      "source": [
        "train_stats = train_datapd.describe()\n",
        "train_stats.pop(\"elodieTEff\")\n",
        "train_stats = train_stats.transpose()\n",
        "train_stats\n"
      ],
      "execution_count": 6,
      "outputs": [
        {
          "output_type": "execute_result",
          "data": {
            "text/html": [
              "<div>\n",
              "<style scoped>\n",
              "    .dataframe tbody tr th:only-of-type {\n",
              "        vertical-align: middle;\n",
              "    }\n",
              "\n",
              "    .dataframe tbody tr th {\n",
              "        vertical-align: top;\n",
              "    }\n",
              "\n",
              "    .dataframe thead th {\n",
              "        text-align: right;\n",
              "    }\n",
              "</style>\n",
              "<table border=\"1\" class=\"dataframe\">\n",
              "  <thead>\n",
              "    <tr style=\"text-align: right;\">\n",
              "      <th></th>\n",
              "      <th>count</th>\n",
              "      <th>mean</th>\n",
              "      <th>std</th>\n",
              "      <th>min</th>\n",
              "      <th>25%</th>\n",
              "      <th>50%</th>\n",
              "      <th>75%</th>\n",
              "      <th>max</th>\n",
              "    </tr>\n",
              "  </thead>\n",
              "  <tbody>\n",
              "    <tr>\n",
              "      <th>fiberMag_u</th>\n",
              "      <td>79988.0</td>\n",
              "      <td>20.973024</td>\n",
              "      <td>2.113711</td>\n",
              "      <td>14.01740</td>\n",
              "      <td>19.413077</td>\n",
              "      <td>20.775560</td>\n",
              "      <td>22.606797</td>\n",
              "      <td>26.94147</td>\n",
              "    </tr>\n",
              "    <tr>\n",
              "      <th>fiberMag_g</th>\n",
              "      <td>79988.0</td>\n",
              "      <td>19.577631</td>\n",
              "      <td>1.991266</td>\n",
              "      <td>13.51540</td>\n",
              "      <td>18.106253</td>\n",
              "      <td>19.426890</td>\n",
              "      <td>21.239757</td>\n",
              "      <td>28.84941</td>\n",
              "    </tr>\n",
              "    <tr>\n",
              "      <th>fiberMag_r</th>\n",
              "      <td>79988.0</td>\n",
              "      <td>18.970401</td>\n",
              "      <td>1.881092</td>\n",
              "      <td>12.84478</td>\n",
              "      <td>17.515595</td>\n",
              "      <td>18.928100</td>\n",
              "      <td>20.578902</td>\n",
              "      <td>25.23663</td>\n",
              "    </tr>\n",
              "    <tr>\n",
              "      <th>fiberMag_i</th>\n",
              "      <td>79988.0</td>\n",
              "      <td>18.637717</td>\n",
              "      <td>1.810723</td>\n",
              "      <td>12.73436</td>\n",
              "      <td>17.223698</td>\n",
              "      <td>18.640360</td>\n",
              "      <td>20.095367</td>\n",
              "      <td>26.08713</td>\n",
              "    </tr>\n",
              "    <tr>\n",
              "      <th>fiberMag_z</th>\n",
              "      <td>79988.0</td>\n",
              "      <td>18.444477</td>\n",
              "      <td>1.797687</td>\n",
              "      <td>12.13546</td>\n",
              "      <td>17.056623</td>\n",
              "      <td>18.400075</td>\n",
              "      <td>19.842400</td>\n",
              "      <td>23.82155</td>\n",
              "    </tr>\n",
              "  </tbody>\n",
              "</table>\n",
              "</div>"
            ],
            "text/plain": [
              "              count       mean       std  ...        50%        75%       max\n",
              "fiberMag_u  79988.0  20.973024  2.113711  ...  20.775560  22.606797  26.94147\n",
              "fiberMag_g  79988.0  19.577631  1.991266  ...  19.426890  21.239757  28.84941\n",
              "fiberMag_r  79988.0  18.970401  1.881092  ...  18.928100  20.578902  25.23663\n",
              "fiberMag_i  79988.0  18.637717  1.810723  ...  18.640360  20.095367  26.08713\n",
              "fiberMag_z  79988.0  18.444477  1.797687  ...  18.400075  19.842400  23.82155\n",
              "\n",
              "[5 rows x 8 columns]"
            ]
          },
          "metadata": {
            "tags": []
          },
          "execution_count": 6
        }
      ]
    },
    {
      "cell_type": "markdown",
      "metadata": {
        "id": "MAH7deWED8tk",
        "colab_type": "text"
      },
      "source": [
        "### Separacaión entre atributos y etiquetas\n",
        "\n",
        "En este caso, la temperatura es la etiqueta, mientras que los atributos son las magnitudes absolutas en cinco bandas fotométricas."
      ]
    },
    {
      "cell_type": "code",
      "metadata": {
        "id": "1PsmBwsvD55i",
        "colab_type": "code",
        "colab": {}
      },
      "source": [
        "train_labels = train_datapd.pop('elodieTEff')\n",
        "test_labels = test_datapd.pop('elodieTEff')\n",
        "\n",
        "train_feat = train_datapd\n",
        "test_feat = test_datapd\n"
      ],
      "execution_count": 0,
      "outputs": []
    },
    {
      "cell_type": "markdown",
      "metadata": {
        "id": "Q2fH1vq7D1Tw",
        "colab_type": "text"
      },
      "source": [
        "### Normalización de los datos\n"
      ]
    },
    {
      "cell_type": "code",
      "metadata": {
        "id": "lgbVr0RWSsom",
        "colab_type": "code",
        "colab": {}
      },
      "source": [
        "def norm(x):\n",
        "  r=(x-x.mean())/x.std()\n",
        "  return r"
      ],
      "execution_count": 0,
      "outputs": []
    },
    {
      "cell_type": "code",
      "metadata": {
        "id": "mWW9QfEXDxnA",
        "colab_type": "code",
        "colab": {}
      },
      "source": [
        "norm_train_labels = norm(train_labels)\n",
        "norm_train_feat = norm(train_feat)\n",
        "\n",
        "norm_test_feat = norm(test_feat)"
      ],
      "execution_count": 0,
      "outputs": []
    },
    {
      "cell_type": "markdown",
      "metadata": {
        "id": "Di-_dkBrDrul",
        "colab_type": "text"
      },
      "source": [
        "Se utilizarán los datos normalizados para entrenar el modelo.\n"
      ]
    },
    {
      "cell_type": "markdown",
      "metadata": {
        "id": "p9KUKRQFDlPn",
        "colab_type": "text"
      },
      "source": [
        "## El modelo"
      ]
    },
    {
      "cell_type": "markdown",
      "metadata": {
        "id": "fj8zlMCwvSKL",
        "colab_type": "text"
      },
      "source": [
        "###Estructura de la red neuronal"
      ]
    },
    {
      "cell_type": "code",
      "metadata": {
        "id": "Asg0O1TLDjAy",
        "colab_type": "code",
        "outputId": "ccd61848-b501-4b61-954d-2c09b2363974",
        "colab": {
          "base_uri": "https://localhost:8080/",
          "height": 105
        }
      },
      "source": [
        "def build_model():\n",
        "  model = keras.Sequential([\n",
        "    layers.Dense(1, activation=tf.nn.tanh, input_shape=[len(train_datapd.keys())]),\n",
        "    #layers.Dense(0, activation=tf.nn.tanh),\n",
        "    #layers.Dense(4, activation=tf.nn.relu),\n",
        "    layers.Dense(1)\n",
        "  ])\n",
        "\n",
        "  optimizer = tf.keras.optimizers.RMSprop(0.001)\n",
        "\n",
        "  model.compile(loss='mean_squared_error',\n",
        "                optimizer=optimizer,\n",
        "                metrics=['mean_absolute_error', 'mean_squared_error'])\n",
        "  return model\n",
        "\n",
        "model = build_model()"
      ],
      "execution_count": 10,
      "outputs": [
        {
          "output_type": "stream",
          "text": [
            "WARNING: Logging before flag parsing goes to stderr.\n",
            "W0709 05:31:50.475810 140438585706368 deprecation.py:506] From /usr/local/lib/python3.6/dist-packages/tensorflow/python/ops/init_ops.py:1251: calling VarianceScaling.__init__ (from tensorflow.python.ops.init_ops) with dtype is deprecated and will be removed in a future version.\n",
            "Instructions for updating:\n",
            "Call initializer instance with the dtype argument instead of passing it to the constructor\n"
          ],
          "name": "stderr"
        }
      ]
    },
    {
      "cell_type": "markdown",
      "metadata": {
        "id": "fRs-X--DeKcQ",
        "colab_type": "text"
      },
      "source": [
        "###Desnormalización"
      ]
    },
    {
      "cell_type": "code",
      "metadata": {
        "id": "2aaIKxJbeJZA",
        "colab_type": "code",
        "colab": {}
      },
      "source": [
        "def desnorm(dato, media, std):\n",
        "  datonuevo = dato*std + media\n",
        "  return datonuevo"
      ],
      "execution_count": 0,
      "outputs": []
    },
    {
      "cell_type": "markdown",
      "metadata": {
        "id": "-LaH9J7aDb1B",
        "colab_type": "text"
      },
      "source": [
        "### Inspección del modelo"
      ]
    },
    {
      "cell_type": "code",
      "metadata": {
        "id": "eMeilODVDZ8L",
        "colab_type": "code",
        "outputId": "8ff928a3-2a41-446c-9523-5218c2a0c19f",
        "colab": {
          "base_uri": "https://localhost:8080/",
          "height": 221
        }
      },
      "source": [
        "model.summary()"
      ],
      "execution_count": 12,
      "outputs": [
        {
          "output_type": "stream",
          "text": [
            "Model: \"sequential\"\n",
            "_________________________________________________________________\n",
            "Layer (type)                 Output Shape              Param #   \n",
            "=================================================================\n",
            "dense (Dense)                (None, 1)                 6         \n",
            "_________________________________________________________________\n",
            "dense_1 (Dense)              (None, 1)                 2         \n",
            "=================================================================\n",
            "Total params: 8\n",
            "Trainable params: 8\n",
            "Non-trainable params: 0\n",
            "_________________________________________________________________\n"
          ],
          "name": "stdout"
        }
      ]
    },
    {
      "cell_type": "markdown",
      "metadata": {
        "id": "elZqEAdBDKF8",
        "colab_type": "text"
      },
      "source": [
        "### Entrenamiento del modelo"
      ]
    },
    {
      "cell_type": "code",
      "metadata": {
        "id": "bW0KSl6iDHb0",
        "colab_type": "code",
        "outputId": "7f63131a-e6ce-44f9-ceef-24b76943bf72",
        "colab": {
          "base_uri": "https://localhost:8080/",
          "height": 204
        }
      },
      "source": [
        "# Imprime un punto por cada epoch completado\n",
        "class PrintDot(keras.callbacks.Callback):\n",
        "  def on_epoch_end(self, epoch, logs):\n",
        "    if epoch % 100 == 0: print('')\n",
        "    print('.', end='')\n",
        "\n",
        "EPOCHS = 1000\n",
        "\n",
        "history = model.fit(\n",
        "  norm_train_feat, norm_train_labels,\n",
        "  epochs=EPOCHS, validation_split = 0.2, verbose=0,\n",
        "  callbacks=[PrintDot()])"
      ],
      "execution_count": 13,
      "outputs": [
        {
          "output_type": "stream",
          "text": [
            "\n",
            "....................................................................................................\n",
            "....................................................................................................\n",
            "....................................................................................................\n",
            "....................................................................................................\n",
            "....................................................................................................\n",
            "....................................................................................................\n",
            "....................................................................................................\n",
            "....................................................................................................\n",
            "....................................................................................................\n",
            "...................................................................................................."
          ],
          "name": "stdout"
        }
      ]
    },
    {
      "cell_type": "markdown",
      "metadata": {
        "id": "iRMaIjLWDCKA",
        "colab_type": "text"
      },
      "source": [
        "El progreso de entrenamiento del sistema está en el objeto `history`."
      ]
    },
    {
      "cell_type": "code",
      "metadata": {
        "id": "UHXhcQ-sDAN7",
        "colab_type": "code",
        "outputId": "bde6730d-5bd6-452d-95ac-0cbcae7f4f29",
        "colab": {
          "base_uri": "https://localhost:8080/",
          "height": 566
        }
      },
      "source": [
        "hist = pd.DataFrame(history.history)\n",
        "hist['epoch'] = history.epoch\n",
        "hist.tail()\n",
        "\n",
        "print(history)\n",
        "\n",
        "def plot_history(history):\n",
        "  hist = pd.DataFrame(history.history)\n",
        "  hist['epoch'] = history.epoch\n",
        "\n",
        "  plt.figure()\n",
        "  plt.xlabel('Epoch')\n",
        "  plt.ylabel('Mean Abs Error [K]')\n",
        "  plt.plot(hist['epoch'], hist['mean_absolute_error'],\n",
        "           label='Train Error')\n",
        "  plt.plot(hist['epoch'], hist['val_mean_absolute_error'],\n",
        "           label = 'Val Error')\n",
        "  #plt.ylim([0,5])\n",
        "  plt.legend()\n",
        "\n",
        "  plt.figure()\n",
        "  plt.xlabel('Epoch')\n",
        "  plt.ylabel('Mean Square Error [$K^2$]')\n",
        "  plt.plot(hist['epoch'], hist['mean_squared_error'],\n",
        "           label='Train Error')\n",
        "  plt.plot(hist['epoch'], hist['val_mean_squared_error'],\n",
        "           label = 'Val Error')\n",
        "  #plt.ylim([0,20])\n",
        "  plt.legend()\n",
        "  plt.show()\n",
        "\n",
        "\n",
        "plot_history(history)"
      ],
      "execution_count": 14,
      "outputs": [
        {
          "output_type": "stream",
          "text": [
            "<tensorflow.python.keras.callbacks.History object at 0x7fba615d2470>\n"
          ],
          "name": "stdout"
        },
        {
          "output_type": "display_data",
          "data": {
            "image/png": "[encoded data removed]",
            "text/plain": [
              "<Figure size 432x288 with 1 Axes>"
            ]
          },
          "metadata": {
            "tags": []
          }
        },
        {
          "output_type": "display_data",
          "data": {
            "image/png": "[encoded data removed]",
            "text/plain": [
              "<Figure size 432x288 with 1 Axes>"
            ]
          },
          "metadata": {
            "tags": []
          }
        }
      ]
    },
    {
      "cell_type": "markdown",
      "metadata": {
        "id": "9OiJUrMvzz4k",
        "colab_type": "text"
      },
      "source": [
        "###Tiempo de Ejecución"
      ]
    },
    {
      "cell_type": "code",
      "metadata": {
        "id": "MBV0HbkYzzFa",
        "colab_type": "code",
        "colab": {}
      },
      "source": [
        "t_fin = time()\n",
        "t_ejecucion = t_fin - t_ini"
      ],
      "execution_count": 0,
      "outputs": []
    },
    {
      "cell_type": "markdown",
      "metadata": {
        "id": "T3FTCj6gChEg",
        "colab_type": "text"
      },
      "source": [
        "### Predicción con los datos de prueba"
      ]
    },
    {
      "cell_type": "code",
      "metadata": {
        "id": "go8xaaLkCdxN",
        "colab_type": "code",
        "outputId": "6bf7313a-c69e-4192-f095-29328b9c6c07",
        "colab": {
          "base_uri": "https://localhost:8080/",
          "height": 300
        }
      },
      "source": [
        "test_predictions = model.predict(norm_test_feat).flatten()\n",
        "\n",
        "test_predictions = desnorm(test_predictions, train_labels.mean(), train_labels.std())\n",
        "m1 = min(test_labels)\n",
        "M1 = max(test_labels)\n",
        "\n",
        "m2 = min(test_predictions)\n",
        "M2 = max(test_predictions)\n",
        "\n",
        "m = min([m1, m2])\n",
        "M = max([M1, M2])\n",
        "\n",
        "plt.scatter(test_labels, test_predictions,s=10, alpha = 0.01,color='red')\n",
        "plt.plot([m , M], [m, M])\n",
        "plt.xlabel('True Values [K]')\n",
        "plt.ylabel('Predictions [K]')\n",
        "plt.axis('equal')\n",
        "plt.axis('square')\n",
        "#plt.xlim([0,plt.xlim()[1]])\n",
        "#plt.ylim([0,100])\n",
        "#plt.ylim([0,plt.ylim()[1]])\n",
        "#_ = plt.plot([-100, 100], [-100, 100])"
      ],
      "execution_count": 19,
      "outputs": [
        {
          "output_type": "execute_result",
          "data": {
            "text/plain": [
              "(3195.394805099423, 14076.605194900574, 3195.4, 14076.610389801152)"
            ]
          },
          "metadata": {
            "tags": []
          },
          "execution_count": 19
        },
        {
          "output_type": "display_data",
          "data": {
            "image/png": "[encoded data removed]",
            "text/plain": [
              "<Figure size 432x288 with 1 Axes>"
            ]
          },
          "metadata": {
            "tags": []
          }
        }
      ]
    },
    {
      "cell_type": "markdown",
      "metadata": {
        "id": "bBQjihVVCWkc",
        "colab_type": "text"
      },
      "source": [
        "Notemos que nuestro modelo se debe acercar a la función de  identidad. Ahora veamos la distribución del error absoluto:\n",
        "\n"
      ]
    },
    {
      "cell_type": "markdown",
      "metadata": {
        "id": "m5gflQ0P81Ml",
        "colab_type": "text"
      },
      "source": [
        "### Errores"
      ]
    },
    {
      "cell_type": "code",
      "metadata": {
        "id": "o6Re1hClCN37",
        "colab_type": "code",
        "outputId": "cb00e963-cb8e-472e-adf6-3027c17224df",
        "colab": {
          "base_uri": "https://localhost:8080/",
          "height": 334
        }
      },
      "source": [
        "import numpy as np\n",
        "error = test_predictions - test_labels\n",
        "error2 = error**2\n",
        "\n",
        "plt.hist(error, bins = 30)\n",
        "plt.xlabel(\"Prediction Error [K]\")\n",
        "_ = plt.ylabel(\"Count\")\n",
        "\n",
        "MeanAbsError = np.abs(error).mean()\n",
        "MeanSQError = error2.mean()\n",
        "\n",
        "print('Tiempo de Ejecución:', t_ejecucion)\n",
        "print('Error Absoluto Medio:', MeanAbsError)\n",
        "print('Error Cuadrático Medio:', MeanSQError)"
      ],
      "execution_count": 17,
      "outputs": [
        {
          "output_type": "stream",
          "text": [
            "Tiempo de Ejecución: 2138.384582042694\n",
            "Error Absoluto Medio: 987.2830200195312\n",
            "Error Cuadrático Medio: 1875690.5\n"
          ],
          "name": "stdout"
        },
        {
          "output_type": "display_data",
          "data": {
            "image/png": "[encoded data removed]",
            "text/plain": [
              "<Figure size 432x288 with 1 Axes>"
            ]
          },
          "metadata": {
            "tags": []
          }
        }
      ]
    }
  ]
}