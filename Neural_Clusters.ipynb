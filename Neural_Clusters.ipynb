{
  "nbformat": 4,
  "nbformat_minor": 0,
  "metadata": {
    "colab": {
      "name": "Neural Clusters.ipynb ",
      "version": "0.3.2",
      "provenance": [],
      "collapsed_sections": [],
      "toc_visible": true,
      "include_colab_link": true
    },
    "kernelspec": {
      "name": "python3",
      "display_name": "Python 3"
    },
    "accelerator": "TPU"
  },
  "cells": [
    {
      "cell_type": "markdown",
      "metadata": {
        "id": "view-in-github",
        "colab_type": "text"
      },
      "source": [
        "<a href=\"https://colab.research.google.com/github/astrodatos/proyecto_neuralclusters/blob/master/Neural_Clusters.ipynb\" target=\"_parent\"><img src=\"https://colab.research.google.com/assets/colab-badge.svg\" alt=\"Open In Colab\"/></a>"
      ]
    },
    {
      "cell_type": "markdown",
      "metadata": {
        "id": "ILrFj60aE-XA",
        "colab_type": "text"
      },
      "source": [
        "Se predecirá la temperatura efectiva de una estrella a través de sus magnitudes absolutas en cinco bandas fotométricas (problema de regresión). Se ha utilizado la base de datos del SDSS, consultando el mismo a través de astroquery."
      ]
    },
    {
      "cell_type": "code",
      "metadata": {
        "id": "_3BVRc6M-Ci8",
        "colab_type": "code",
        "colab": {
          "base_uri": "https://localhost:8080/",
          "height": 102
        },
        "outputId": "180e2dd3-22e2-4d4b-f2f5-3e8c3eb566c0"
      },
      "source": [
        "!pip install --pre --quiet astroquery"
      ],
      "execution_count": 3,
      "outputs": [
        {
          "output_type": "stream",
          "text": [
            "\u001b[K     |████████████████████████████████| 4.3MB 3.5MB/s \n",
            "\u001b[K     |████████████████████████████████| 61kB 20.9MB/s \n",
            "\u001b[K     |████████████████████████████████| 2.3MB 48.7MB/s \n",
            "\u001b[K     |████████████████████████████████| 102kB 30.3MB/s \n",
            "\u001b[?25h  Building wheel for astroquery (setup.py) ... \u001b[?25l\u001b[?25hdone\n"
          ],
          "name": "stdout"
        }
      ]
    },
    {
      "cell_type": "code",
      "metadata": {
        "id": "t5_yOjQBE4gz",
        "colab_type": "code",
        "outputId": "4bf0a129-82f0-49d4-a725-30908ec347bd",
        "colab": {
          "base_uri": "https://localhost:8080/",
          "height": 34
        }
      },
      "source": [
        "from __future__ import absolute_import, division, print_function, unicode_literals\n",
        "\n",
        "from time import time\n",
        "from astroquery.sdss import SDSS\n",
        "\n",
        "import matplotlib.pyplot as plt\n",
        "import pandas as pd\n",
        "\n",
        "import tensorflow as tf\n",
        "from tensorflow import keras\n",
        "from tensorflow.keras import layers\n",
        "\n",
        "\n",
        "print(tf.__version__)"
      ],
      "execution_count": 4,
      "outputs": [
        {
          "output_type": "stream",
          "text": [
            "1.14.0\n"
          ],
          "name": "stdout"
        }
      ]
    },
    {
      "cell_type": "markdown",
      "metadata": {
        "id": "hnipyp1PEwNi",
        "colab_type": "text"
      },
      "source": [
        "## Datos del SDSS\n",
        "\n",
        "Disponible en enlace\n",
        "\n"
      ]
    },
    {
      "cell_type": "markdown",
      "metadata": {
        "id": "KKOzVSMUrt1F",
        "colab_type": "text"
      },
      "source": [
        "###Consulta con Astroquery###"
      ]
    },
    {
      "cell_type": "code",
      "metadata": {
        "id": "l3cvu2Kj-iOB",
        "colab_type": "code",
        "colab": {}
      },
      "source": [
        "t_ini = time()\n",
        "\n",
        "data = SDSS.query_sql(\"\"\"SELECT TOP 100000\n",
        "                      p.fiberMag_u, p.fiberMag_g, p.fiberMag_r, p.fiberMag_i, \n",
        "                      p.fiberMag_z, s.elodieTEff\n",
        "                   \n",
        "                      \n",
        "                      FROM PhotoObjAll AS p JOIN specObjAll s ON s.bestobjid = p.objid\n",
        "                      \n",
        "                      WHERE p.mode = 1 AND s.sciencePrimary = 1 AND p.clean = 1 AND s.class = 'STAR'\n",
        "                      \n",
        "                      \"\"\")"
      ],
      "execution_count": 0,
      "outputs": []
    },
    {
      "cell_type": "code",
      "metadata": {
        "id": "aYU1l2WHCUJI",
        "colab_type": "code",
        "outputId": "f7837900-c2eb-463f-d070-90274d3c72d4",
        "colab": {
          "base_uri": "https://localhost:8080/",
          "height": 1000
        }
      },
      "source": [
        "datapd=data.to_pandas()\n",
        "datapd = datapd[(datapd != -9999).dropna()]\n",
        "datapd = datapd.dropna()\n",
        "print(datapd)"
      ],
      "execution_count": 6,
      "outputs": [
        {
          "output_type": "stream",
          "text": [
            "       fiberMag_u  fiberMag_g  fiberMag_r  fiberMag_i  fiberMag_z  elodieTEff\n",
            "0        20.61476    19.07773    18.44994    18.19621    18.09862        6537\n",
            "1        20.90283    18.44140    17.15449    16.62602    16.31397        4949\n",
            "2        20.03025    17.85256    16.96864    16.66069    16.50116        6537\n",
            "3        19.45459    17.57932    16.87726    16.59240    16.47760        6537\n",
            "4        21.61806    19.27507    18.30501    17.96653    17.75421        6537\n",
            "5        20.18830    18.24758    17.47840    17.15451    16.97976        6537\n",
            "6        20.43100    18.74983    18.11139    17.88227    17.80330        6537\n",
            "7        20.50722    18.08455    17.05109    16.68785    16.51112        6537\n",
            "8        21.82453    19.24894    18.01070    17.45260    17.15175        6537\n",
            "9        21.06848    19.02095    18.23732    17.96908    17.84173        6537\n",
            "10       20.78361    18.78680    18.00673    17.72570    17.58845        6537\n",
            "11       21.25049    19.03931    18.15933    17.83993    17.67090        6537\n",
            "12       19.25276    17.89315    17.42543    17.30014    17.18372        9899\n",
            "13       21.10845    19.03767    18.20302    17.93878    17.77543        6537\n",
            "14       21.14247    18.95411    18.09762    17.81257    17.64036        6537\n",
            "15       20.58743    18.75253    18.05945    17.84251    17.72880        6537\n",
            "16       20.45845    19.00837    18.45904    18.35811    18.28089        6537\n",
            "17       21.50496    18.78312    17.52110    16.99277    16.71057        6537\n",
            "18       19.02754    17.36685    16.78321    16.58324    16.52507        6537\n",
            "19       18.74680    18.53959    17.58130    16.82279    16.30652        5820\n",
            "20       22.06967    19.22411    18.05897    17.52496    17.33528        6537\n",
            "21       19.26273    17.49147    16.76923    16.48989    16.33770        6537\n",
            "22       20.44692    18.06465    17.12551    16.76052    16.55586        6537\n",
            "23       21.94194    19.46788    18.31545    17.90162    17.65396        6537\n",
            "24       21.00327    18.60943    17.57893    17.21988    17.00339        6537\n",
            "25       20.94749    18.58724    17.63990    17.30657    17.11636        6537\n",
            "26       20.81215    19.37367    18.77519    18.55033    18.57071        6537\n",
            "27       22.17554    19.44808    18.18525    17.65640    17.37514        4949\n",
            "28       20.05260    17.99318    17.14906    16.85375    16.68776        6537\n",
            "29       20.43661    18.82366    18.18643    17.97195    17.86461        6537\n",
            "...           ...         ...         ...         ...         ...         ...\n",
            "99970    22.58386    20.77099    20.03131    19.60378    19.57788        6537\n",
            "99971    22.69351    20.36675    18.91612    18.07943    17.62733        5807\n",
            "99972    20.12450    19.04720    18.76348    18.65192    18.64702        9899\n",
            "99973    21.70312    20.39418    19.83503    19.54906    19.30956        3705\n",
            "99974    20.28664    19.19368    18.91925    18.83364    18.82211        3705\n",
            "99975    20.27654    19.20994    18.96292    18.87599    18.82027        3705\n",
            "99976    21.88953    21.01710    21.04734    20.84361    20.58657        4966\n",
            "99977    23.00861    21.89322    21.68348    21.62632    21.53166        5807\n",
            "99978    25.45360    22.65704    21.27938    20.17713    19.44455        4949\n",
            "99979    23.46922    21.67912    21.27985    21.11545    20.94072        6537\n",
            "99980    22.30365    20.74494    20.15083    19.89118    19.74934        6537\n",
            "99981    23.94703    22.91239    21.35192    20.29156    19.63707        6000\n",
            "99982    23.47251    23.15529    21.45027    20.54388    20.31603        4949\n",
            "99983    22.02640    20.74932    20.07312    19.47758    19.09858        5807\n",
            "99984    23.74704    22.49574    21.37549    20.32071    19.77186        5373\n",
            "99985    21.82422    20.43558    19.23238    18.60352    18.37949        4949\n",
            "99986    23.72901    22.21889    20.58554    19.85021    19.43716        4949\n",
            "99987    23.69957    22.13662    21.64047    21.68059    21.72688        6537\n",
            "99988    25.41238    23.12783    21.78823    20.27621    19.48741        6163\n",
            "99989    22.47862    20.60475    20.06848    19.30585    19.82171        6537\n",
            "99990    22.49602    21.80092    20.73799    19.98606    19.48180        5373\n",
            "99991    22.70949    22.03568    22.04238    22.08476    21.79667        4318\n",
            "99992    20.77759    19.61609    19.29563    19.19591    19.16650        9899\n",
            "99993    23.09707    21.59023    21.09775    21.01144    21.05333        9899\n",
            "99994    24.39749    21.73392    20.83800    20.06445    19.65743        4949\n",
            "99995    24.45099    23.46931    21.75333    20.40812    19.80271        6000\n",
            "99996    24.15559    20.72079    19.45516    18.67483    17.96399        4949\n",
            "99997    20.82208    20.39984    20.45195    20.49651    20.67009        7652\n",
            "99998    23.66964    22.65244    21.08203    20.22310    19.84245        5820\n",
            "99999    20.53325    20.32660    20.61433    20.78761    20.88317        9000\n",
            "\n",
            "[99986 rows x 6 columns]\n"
          ],
          "name": "stdout"
        }
      ]
    },
    {
      "cell_type": "markdown",
      "metadata": {
        "id": "RbqnaZgMEOdV",
        "colab_type": "text"
      },
      "source": [
        "### Separación entre datos de entrenamiento y datos de prueba "
      ]
    },
    {
      "cell_type": "code",
      "metadata": {
        "id": "ytPIaTCAEMqe",
        "colab_type": "code",
        "colab": {}
      },
      "source": [
        "train_datapd = datapd.sample(frac=0.8,random_state=0)\n",
        "test_datapd = datapd.drop(train_datapd.index)"
      ],
      "execution_count": 0,
      "outputs": []
    },
    {
      "cell_type": "markdown",
      "metadata": {
        "id": "un9FMCKeEKJk",
        "colab_type": "text"
      },
      "source": [
        "### Chequeo a los datos"
      ]
    },
    {
      "cell_type": "markdown",
      "metadata": {
        "id": "hJMy5AApEEMv",
        "colab_type": "text"
      },
      "source": [
        "Estadísticas:"
      ]
    },
    {
      "cell_type": "code",
      "metadata": {
        "id": "IXMZjr7HEBTf",
        "colab_type": "code",
        "outputId": "ce66591d-0541-4ef1-a295-ef6f7fbc1fcd",
        "colab": {
          "base_uri": "https://localhost:8080/",
          "height": 204
        }
      },
      "source": [
        "train_stats = train_datapd.describe()\n",
        "train_stats.pop(\"elodieTEff\")\n",
        "train_stats = train_stats.transpose()\n",
        "train_stats\n"
      ],
      "execution_count": 8,
      "outputs": [
        {
          "output_type": "execute_result",
          "data": {
            "text/html": [
              "<div>\n",
              "<style scoped>\n",
              "    .dataframe tbody tr th:only-of-type {\n",
              "        vertical-align: middle;\n",
              "    }\n",
              "\n",
              "    .dataframe tbody tr th {\n",
              "        vertical-align: top;\n",
              "    }\n",
              "\n",
              "    .dataframe thead th {\n",
              "        text-align: right;\n",
              "    }\n",
              "</style>\n",
              "<table border=\"1\" class=\"dataframe\">\n",
              "  <thead>\n",
              "    <tr style=\"text-align: right;\">\n",
              "      <th></th>\n",
              "      <th>count</th>\n",
              "      <th>mean</th>\n",
              "      <th>std</th>\n",
              "      <th>min</th>\n",
              "      <th>25%</th>\n",
              "      <th>50%</th>\n",
              "      <th>75%</th>\n",
              "      <th>max</th>\n",
              "    </tr>\n",
              "  </thead>\n",
              "  <tbody>\n",
              "    <tr>\n",
              "      <th>fiberMag_u</th>\n",
              "      <td>79989.0</td>\n",
              "      <td>20.954769</td>\n",
              "      <td>2.108902</td>\n",
              "      <td>14.01740</td>\n",
              "      <td>19.41011</td>\n",
              "      <td>20.76643</td>\n",
              "      <td>22.56619</td>\n",
              "      <td>29.22901</td>\n",
              "    </tr>\n",
              "    <tr>\n",
              "      <th>fiberMag_g</th>\n",
              "      <td>79989.0</td>\n",
              "      <td>19.574360</td>\n",
              "      <td>1.991821</td>\n",
              "      <td>13.48535</td>\n",
              "      <td>18.11338</td>\n",
              "      <td>19.42251</td>\n",
              "      <td>21.24711</td>\n",
              "      <td>29.52714</td>\n",
              "    </tr>\n",
              "    <tr>\n",
              "      <th>fiberMag_r</th>\n",
              "      <td>79989.0</td>\n",
              "      <td>18.978927</td>\n",
              "      <td>1.885948</td>\n",
              "      <td>12.84478</td>\n",
              "      <td>17.53194</td>\n",
              "      <td>18.93711</td>\n",
              "      <td>20.60407</td>\n",
              "      <td>24.22010</td>\n",
              "    </tr>\n",
              "    <tr>\n",
              "      <th>fiberMag_i</th>\n",
              "      <td>79989.0</td>\n",
              "      <td>18.662121</td>\n",
              "      <td>1.815916</td>\n",
              "      <td>12.73436</td>\n",
              "      <td>17.26835</td>\n",
              "      <td>18.66648</td>\n",
              "      <td>20.13567</td>\n",
              "      <td>27.58280</td>\n",
              "    </tr>\n",
              "    <tr>\n",
              "      <th>fiberMag_z</th>\n",
              "      <td>79989.0</td>\n",
              "      <td>18.478171</td>\n",
              "      <td>1.797906</td>\n",
              "      <td>12.13546</td>\n",
              "      <td>17.10874</td>\n",
              "      <td>18.44256</td>\n",
              "      <td>19.88319</td>\n",
              "      <td>24.00791</td>\n",
              "    </tr>\n",
              "  </tbody>\n",
              "</table>\n",
              "</div>"
            ],
            "text/plain": [
              "              count       mean       std  ...       50%       75%       max\n",
              "fiberMag_u  79989.0  20.954769  2.108902  ...  20.76643  22.56619  29.22901\n",
              "fiberMag_g  79989.0  19.574360  1.991821  ...  19.42251  21.24711  29.52714\n",
              "fiberMag_r  79989.0  18.978927  1.885948  ...  18.93711  20.60407  24.22010\n",
              "fiberMag_i  79989.0  18.662121  1.815916  ...  18.66648  20.13567  27.58280\n",
              "fiberMag_z  79989.0  18.478171  1.797906  ...  18.44256  19.88319  24.00791\n",
              "\n",
              "[5 rows x 8 columns]"
            ]
          },
          "metadata": {
            "tags": []
          },
          "execution_count": 8
        }
      ]
    },
    {
      "cell_type": "markdown",
      "metadata": {
        "id": "MAH7deWED8tk",
        "colab_type": "text"
      },
      "source": [
        "### Separacaión entre atributos y etiquetas\n",
        "\n",
        "En este caso, la temperatura es la etiqueta, mientras que los atributos son las magnitudes absolutas en cinco bandas fotométricas."
      ]
    },
    {
      "cell_type": "code",
      "metadata": {
        "id": "1PsmBwsvD55i",
        "colab_type": "code",
        "colab": {}
      },
      "source": [
        "train_labels = train_datapd.pop('elodieTEff')\n",
        "test_labels = test_datapd.pop('elodieTEff')\n",
        "\n",
        "train_feat = train_datapd\n",
        "test_feat = test_datapd\n"
      ],
      "execution_count": 0,
      "outputs": []
    },
    {
      "cell_type": "markdown",
      "metadata": {
        "id": "Q2fH1vq7D1Tw",
        "colab_type": "text"
      },
      "source": [
        "### Normalización de los datos\n"
      ]
    },
    {
      "cell_type": "code",
      "metadata": {
        "id": "lgbVr0RWSsom",
        "colab_type": "code",
        "colab": {}
      },
      "source": [
        "def norm(x):\n",
        "  r=(x-x.mean())/x.std()\n",
        "  return r"
      ],
      "execution_count": 0,
      "outputs": []
    },
    {
      "cell_type": "code",
      "metadata": {
        "id": "mWW9QfEXDxnA",
        "colab_type": "code",
        "colab": {}
      },
      "source": [
        "norm_train_labels = norm(train_labels)\n",
        "norm_train_feat = norm(train_feat)\n",
        "\n",
        "norm_test_feat = norm(test_feat)"
      ],
      "execution_count": 0,
      "outputs": []
    },
    {
      "cell_type": "markdown",
      "metadata": {
        "id": "Di-_dkBrDrul",
        "colab_type": "text"
      },
      "source": [
        "Se utilizarán los datos normalizados para entrenar el modelo.\n"
      ]
    },
    {
      "cell_type": "markdown",
      "metadata": {
        "id": "p9KUKRQFDlPn",
        "colab_type": "text"
      },
      "source": [
        "## El modelo"
      ]
    },
    {
      "cell_type": "markdown",
      "metadata": {
        "id": "fj8zlMCwvSKL",
        "colab_type": "text"
      },
      "source": [
        "###Estructura de la red neuronal"
      ]
    },
    {
      "cell_type": "code",
      "metadata": {
        "id": "Asg0O1TLDjAy",
        "colab_type": "code",
        "colab": {
          "base_uri": "https://localhost:8080/",
          "height": 105
        },
        "outputId": "6b5dabb0-5cd1-41b2-d598-407f7495e343"
      },
      "source": [
        "def build_model():\n",
        "  model = keras.Sequential([\n",
        "    layers.Dense(1, activation=tf.nn.tanh, input_shape=[len(train_datapd.keys())]),\n",
        "    #layers.Dense(1, activation=tf.nn.tanh),\n",
        "    #layers.Dense(4, activation=tf.nn.relu),\n",
        "    layers.Dense(1)\n",
        "  ])\n",
        "\n",
        "  optimizer = tf.keras.optimizers.RMSprop(0.001)\n",
        "\n",
        "  model.compile(loss='mean_squared_error',\n",
        "                optimizer=optimizer,\n",
        "                metrics=['mean_absolute_error', 'mean_squared_error'])\n",
        "  return model\n",
        "\n",
        "model = build_model()"
      ],
      "execution_count": 12,
      "outputs": [
        {
          "output_type": "stream",
          "text": [
            "WARNING: Logging before flag parsing goes to stderr.\n",
            "W0708 23:02:58.466771 140276639225728 deprecation.py:506] From /usr/local/lib/python3.6/dist-packages/tensorflow/python/ops/init_ops.py:1251: calling VarianceScaling.__init__ (from tensorflow.python.ops.init_ops) with dtype is deprecated and will be removed in a future version.\n",
            "Instructions for updating:\n",
            "Call initializer instance with the dtype argument instead of passing it to the constructor\n"
          ],
          "name": "stderr"
        }
      ]
    },
    {
      "cell_type": "markdown",
      "metadata": {
        "id": "fRs-X--DeKcQ",
        "colab_type": "text"
      },
      "source": [
        "###Desnormalización"
      ]
    },
    {
      "cell_type": "code",
      "metadata": {
        "id": "2aaIKxJbeJZA",
        "colab_type": "code",
        "colab": {}
      },
      "source": [
        "def desnorm(dato, media, std):\n",
        "  datonuevo = dato*std + media\n",
        "  return datonuevo"
      ],
      "execution_count": 0,
      "outputs": []
    },
    {
      "cell_type": "markdown",
      "metadata": {
        "id": "-LaH9J7aDb1B",
        "colab_type": "text"
      },
      "source": [
        "### Inspección del modelo"
      ]
    },
    {
      "cell_type": "code",
      "metadata": {
        "id": "eMeilODVDZ8L",
        "colab_type": "code",
        "outputId": "8f2da601-8c6b-4573-9bac-13ef290cabc8",
        "colab": {
          "base_uri": "https://localhost:8080/",
          "height": 221
        }
      },
      "source": [
        "model.summary()"
      ],
      "execution_count": 14,
      "outputs": [
        {
          "output_type": "stream",
          "text": [
            "Model: \"sequential\"\n",
            "_________________________________________________________________\n",
            "Layer (type)                 Output Shape              Param #   \n",
            "=================================================================\n",
            "dense (Dense)                (None, 1)                 6         \n",
            "_________________________________________________________________\n",
            "dense_1 (Dense)              (None, 1)                 2         \n",
            "=================================================================\n",
            "Total params: 8\n",
            "Trainable params: 8\n",
            "Non-trainable params: 0\n",
            "_________________________________________________________________\n"
          ],
          "name": "stdout"
        }
      ]
    },
    {
      "cell_type": "markdown",
      "metadata": {
        "id": "elZqEAdBDKF8",
        "colab_type": "text"
      },
      "source": [
        "### Entrenamiento del modelo"
      ]
    },
    {
      "cell_type": "code",
      "metadata": {
        "id": "bW0KSl6iDHb0",
        "colab_type": "code",
        "outputId": "20c00968-0688-45ab-f0f1-56145716f439",
        "colab": {
          "base_uri": "https://localhost:8080/",
          "height": 204
        }
      },
      "source": [
        "# Imprime un punto por cada epoch completado\n",
        "class PrintDot(keras.callbacks.Callback):\n",
        "  def on_epoch_end(self, epoch, logs):\n",
        "    if epoch % 100 == 0: print('')\n",
        "    print('.', end='')\n",
        "\n",
        "EPOCHS = 1000\n",
        "\n",
        "history = model.fit(\n",
        "  norm_train_feat, norm_train_labels,\n",
        "  epochs=EPOCHS, validation_split = 0.2, verbose=0,\n",
        "  callbacks=[PrintDot()])"
      ],
      "execution_count": 15,
      "outputs": [
        {
          "output_type": "stream",
          "text": [
            "\n",
            "....................................................................................................\n",
            "....................................................................................................\n",
            "....................................................................................................\n",
            "....................................................................................................\n",
            "....................................................................................................\n",
            "....................................................................................................\n",
            "....................................................................................................\n",
            "....................................................................................................\n",
            "....................................................................................................\n",
            "...................................................................................................."
          ],
          "name": "stdout"
        }
      ]
    },
    {
      "cell_type": "markdown",
      "metadata": {
        "id": "iRMaIjLWDCKA",
        "colab_type": "text"
      },
      "source": [
        "El progreso de entrenamiento del sistema está en el objeto `history`."
      ]
    },
    {
      "cell_type": "code",
      "metadata": {
        "id": "UHXhcQ-sDAN7",
        "colab_type": "code",
        "outputId": "529fe6e3-8344-4ccd-d619-ea0bd3a3a9af",
        "colab": {
          "base_uri": "https://localhost:8080/",
          "height": 566
        }
      },
      "source": [
        "hist = pd.DataFrame(history.history)\n",
        "hist['epoch'] = history.epoch\n",
        "hist.tail()\n",
        "\n",
        "print(history)\n",
        "\n",
        "def plot_history(history):\n",
        "  hist = pd.DataFrame(history.history)\n",
        "  hist['epoch'] = history.epoch\n",
        "\n",
        "  plt.figure()\n",
        "  plt.xlabel('Epoch')\n",
        "  plt.ylabel('Mean Abs Error [K]')\n",
        "  plt.plot(hist['epoch'], hist['mean_absolute_error'],\n",
        "           label='Train Error')\n",
        "  plt.plot(hist['epoch'], hist['val_mean_absolute_error'],\n",
        "           label = 'Val Error')\n",
        "  #plt.ylim([0,5])\n",
        "  plt.legend()\n",
        "\n",
        "  plt.figure()\n",
        "  plt.xlabel('Epoch')\n",
        "  plt.ylabel('Mean Square Error [$K^2$]')\n",
        "  plt.plot(hist['epoch'], hist['mean_squared_error'],\n",
        "           label='Train Error')\n",
        "  plt.plot(hist['epoch'], hist['val_mean_squared_error'],\n",
        "           label = 'Val Error')\n",
        "  #plt.ylim([0,20])\n",
        "  plt.legend()\n",
        "  plt.show()\n",
        "\n",
        "\n",
        "plot_history(history)"
      ],
      "execution_count": 16,
      "outputs": [
        {
          "output_type": "stream",
          "text": [
            "<tensorflow.python.keras.callbacks.History object at 0x7f949162d8d0>\n"
          ],
          "name": "stdout"
        },
        {
          "output_type": "display_data",
          "data": {
            "image/png": "[encoded data removed]",
            "text/plain": [
              "<Figure size 432x288 with 1 Axes>"
            ]
          },
          "metadata": {
            "tags": []
          }
        },
        {
          "output_type": "display_data",
          "data": {
            "image/png": "[encoded data removed]",
            "text/plain": [
              "<Figure size 432x288 with 1 Axes>"
            ]
          },
          "metadata": {
            "tags": []
          }
        }
      ]
    },
    {
      "cell_type": "markdown",
      "metadata": {
        "id": "9OiJUrMvzz4k",
        "colab_type": "text"
      },
      "source": [
        "###Tiempo de Ejecución"
      ]
    },
    {
      "cell_type": "code",
      "metadata": {
        "id": "MBV0HbkYzzFa",
        "colab_type": "code",
        "colab": {}
      },
      "source": [
        "t_fin = time()\n",
        "t_ejecucion = t_fin - t_ini"
      ],
      "execution_count": 0,
      "outputs": []
    },
    {
      "cell_type": "markdown",
      "metadata": {
        "id": "T3FTCj6gChEg",
        "colab_type": "text"
      },
      "source": [
        "### Predicción con los datos de prueba"
      ]
    },
    {
      "cell_type": "code",
      "metadata": {
        "id": "go8xaaLkCdxN",
        "colab_type": "code",
        "outputId": "d097e819-866f-4855-e240-9bcfd244a2c6",
        "colab": {
          "base_uri": "https://localhost:8080/",
          "height": 300
        }
      },
      "source": [
        "test_predictions = model.predict(norm_test_feat).flatten()\n",
        "\n",
        "test_predictions = desnorm(test_predictions, train_labels.mean(), train_labels.std())\n",
        "m1 = min(test_labels)\n",
        "M1 = max(test_labels)\n",
        "\n",
        "m2 = min(test_predictions)\n",
        "M2 = max(test_predictions)\n",
        "\n",
        "m = min([m1, m2])\n",
        "M = max([M1, M2])\n",
        "\n",
        "plt.scatter(test_labels, test_predictions, color='red')\n",
        "plt.plot([m , M], [m, M])\n",
        "plt.xlabel('True Values [K]')\n",
        "plt.ylabel('Predictions [K]')\n",
        "plt.axis('equal')\n",
        "plt.axis('square')\n",
        "#plt.xlim([0,plt.xlim()[1]])\n",
        "#plt.ylim([0,100])\n",
        "#plt.ylim([0,plt.ylim()[1]])\n",
        "#_ = plt.plot([-100, 100], [-100, 100])"
      ],
      "execution_count": 18,
      "outputs": [
        {
          "output_type": "execute_result",
          "data": {
            "text/plain": [
              "(3195.3901433691753, 14076.609856630823, 3195.4, 14076.619713261647)"
            ]
          },
          "metadata": {
            "tags": []
          },
          "execution_count": 18
        },
        {
          "output_type": "display_data",
          "data": {
            "image/png": "[encoded data removed]",
            "text/plain": [
              "<Figure size 432x288 with 1 Axes>"
            ]
          },
          "metadata": {
            "tags": []
          }
        }
      ]
    },
    {
      "cell_type": "markdown",
      "metadata": {
        "id": "bBQjihVVCWkc",
        "colab_type": "text"
      },
      "source": [
        "Notemos que nuestro modelo se debe acercar a la función de  identidad. Ahora veamos la distribución del error absoluto:\n",
        "\n"
      ]
    },
    {
      "cell_type": "markdown",
      "metadata": {
        "id": "m5gflQ0P81Ml",
        "colab_type": "text"
      },
      "source": [
        "### Errores"
      ]
    },
    {
      "cell_type": "code",
      "metadata": {
        "id": "o6Re1hClCN37",
        "colab_type": "code",
        "outputId": "de6e610f-94f9-4cba-c4c2-088272d9b633",
        "colab": {
          "base_uri": "https://localhost:8080/",
          "height": 334
        }
      },
      "source": [
        "import numpy as np\n",
        "error = test_predictions - test_labels\n",
        "error2 = error**2\n",
        "\n",
        "plt.hist(error, bins = 30)\n",
        "plt.xlabel(\"Prediction Error [K]\")\n",
        "_ = plt.ylabel(\"Count\")\n",
        "\n",
        "MeanAbsError = np.abs(error).mean()\n",
        "MeanSQError = error2.mean()\n",
        "\n",
        "print('Tiempo de Ejecución:', t_ejecucion)\n",
        "print('Error Absoluto Medio:', MeanAbsError)\n",
        "print('Error Cuadrático Medio:', MeanSQError)"
      ],
      "execution_count": 19,
      "outputs": [
        {
          "output_type": "stream",
          "text": [
            "Tiempo de Ejecución: 2171.5625076293945\n",
            "Error Absoluto Medio: 1028.201171875\n",
            "Error Cuadrático Medio: 2058572.5\n"
          ],
          "name": "stdout"
        },
        {
          "output_type": "display_data",
          "data": {
            "image/png": "[encoded data removed]",
            "text/plain": [
              "<Figure size 432x288 with 1 Axes>"
            ]
          },
          "metadata": {
            "tags": []
          }
        }
      ]
    }
  ]
}