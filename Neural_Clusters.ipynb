{
  "nbformat": 4,
  "nbformat_minor": 0,
  "metadata": {
    "colab": {
      "name": "Neural Clusters.ipynb ",
      "version": "0.3.2",
      "provenance": [],
      "collapsed_sections": [],
      "toc_visible": true,
      "include_colab_link": true
    },
    "kernelspec": {
      "name": "python3",
      "display_name": "Python 3"
    },
    "accelerator": "GPU"
  },
  "cells": [
    {
      "cell_type": "markdown",
      "metadata": {
        "id": "view-in-github",
        "colab_type": "text"
      },
      "source": [
        "<a href=\"https://colab.research.google.com/github/astrodatos/proyecto_neuralclusters/blob/master/Neural_Clusters.ipynb\" target=\"_parent\"><img src=\"https://colab.research.google.com/assets/colab-badge.svg\" alt=\"Open In Colab\"/></a>"
      ]
    },
    {
      "cell_type": "markdown",
      "metadata": {
        "id": "ILrFj60aE-XA",
        "colab_type": "text"
      },
      "source": [
        "Se predecirá la temperatura efectiva de una estrella a través de sus magnitudes absolutas en cinco bandas fotométricas (problema de regresión). Se ha utilizado la base de datos del SDSS, consultando el mismo a través de astroquery."
      ]
    },
    {
      "cell_type": "code",
      "metadata": {
        "id": "_3BVRc6M-Ci8",
        "colab_type": "code",
        "colab": {
          "base_uri": "https://localhost:8080/",
          "height": 102
        },
        "outputId": "32fa8522-a323-49d7-91b1-4d5ba6ff9313"
      },
      "source": [
        "!pip install --pre --quiet astroquery"
      ],
      "execution_count": 1,
      "outputs": [
        {
          "output_type": "stream",
          "text": [
            "\u001b[K     |████████████████████████████████| 4.3MB 3.4MB/s \n",
            "\u001b[K     |████████████████████████████████| 2.3MB 32.1MB/s \n",
            "\u001b[K     |████████████████████████████████| 61kB 24.2MB/s \n",
            "\u001b[K     |████████████████████████████████| 102kB 32.4MB/s \n",
            "\u001b[?25h  Building wheel for astroquery (setup.py) ... \u001b[?25l\u001b[?25hdone\n"
          ],
          "name": "stdout"
        }
      ]
    },
    {
      "cell_type": "code",
      "metadata": {
        "id": "t5_yOjQBE4gz",
        "colab_type": "code",
        "outputId": "a5528aff-f858-45d4-ad8f-225396144f8a",
        "colab": {
          "base_uri": "https://localhost:8080/",
          "height": 34
        }
      },
      "source": [
        "from __future__ import absolute_import, division, print_function, unicode_literals\n",
        "\n",
        "from time import time\n",
        "from astroquery.sdss import SDSS\n",
        "\n",
        "import matplotlib.pyplot as plt\n",
        "import pandas as pd\n",
        "import seaborn as sns\n",
        "\n",
        "import tensorflow as tf\n",
        "from tensorflow import keras\n",
        "from tensorflow.keras import layers\n",
        "\n",
        "\n",
        "print(tf.__version__)"
      ],
      "execution_count": 69,
      "outputs": [
        {
          "output_type": "stream",
          "text": [
            "1.14.0-rc1\n"
          ],
          "name": "stdout"
        }
      ]
    },
    {
      "cell_type": "markdown",
      "metadata": {
        "id": "hnipyp1PEwNi",
        "colab_type": "text"
      },
      "source": [
        "## Datos del SDSS\n",
        "\n",
        "Disponible en enlace\n",
        "### Consulta con astroquery\n",
        "\n"
      ]
    },
    {
      "cell_type": "code",
      "metadata": {
        "id": "l3cvu2Kj-iOB",
        "colab_type": "code",
        "colab": {}
      },
      "source": [
        "t_ini = time()\n",
        "\n",
        "data = SDSS.query_sql(\"\"\"SELECT TOP 1000\n",
        "                      p.fiberMag_u, p.fiberMag_g, p.fiberMag_r, p.fiberMag_i, \n",
        "                      p.fiberMag_z,s.elodieTEff\n",
        "                   \n",
        "                      \n",
        "                      FROM PhotoObjAll AS p JOIN specObjAll s ON s.bestobjid = p.objid\n",
        "                      \n",
        "                      WHERE p.mode = 1 AND s.sciencePrimary = 1 AND p.clean = 1 AND s.class != 'QSO' AND s.class !='GALAXY'\n",
        "                      \n",
        "                      \"\"\")"
      ],
      "execution_count": 0,
      "outputs": []
    },
    {
      "cell_type": "code",
      "metadata": {
        "id": "aYU1l2WHCUJI",
        "colab_type": "code",
        "outputId": "ae2e23c8-56e6-4f9d-eecf-e3c964078b9d",
        "colab": {
          "base_uri": "https://localhost:8080/",
          "height": 1000
        }
      },
      "source": [
        "datapd=data.to_pandas()\n",
        "print(datapd)"
      ],
      "execution_count": 125,
      "outputs": [
        {
          "output_type": "stream",
          "text": [
            "     fiberMag_u  fiberMag_g  fiberMag_r  fiberMag_i  fiberMag_z  elodieTEff\n",
            "0      21.54178    19.34560    17.99100    17.29384    16.89207        3858\n",
            "1      19.50089    18.30866    18.17514    18.19209    18.22228        8500\n",
            "2      19.58727    18.46065    17.96326    17.77162    17.64843        5621\n",
            "3      23.99229    21.75072    20.37933    19.17858    18.47099        3717\n",
            "4      18.99177    17.81833    17.68924    17.66101    17.69206        8500\n",
            "5      18.60847    17.10279    16.49235    16.24145    16.14591        5426\n",
            "6      21.45852    19.52747    18.60854    18.27136    18.10484        4752\n",
            "7      22.12555    19.41456    17.92868    16.87359    16.33714        3717\n",
            "8      20.54356    18.03133    16.93595    16.53442    16.29492        4382\n",
            "9      17.84457    17.70756    18.01434    18.29773    18.59217        9000\n",
            "10     17.49160    16.27623    16.04850    16.05326    16.08444        7071\n",
            "11     19.73317    18.69365    18.54111    18.53421    18.59937        7500\n",
            "12     20.68158    18.96958    18.18716    17.87217    17.68380        5262\n",
            "13     18.79039    17.08999    16.39819    16.18029    16.06318        5261\n",
            "14     18.15555    16.86246    16.75719    16.76959    16.78096        7000\n",
            "15     20.03032    18.98013    18.83121    18.83390    18.81168        7500\n",
            "16     20.10301    18.45778    17.74323    17.50790    17.37938        5059\n",
            "17     19.00705    17.58249    16.99304    16.76544    16.68547        5320\n",
            "18     22.90109    20.49575    19.02211    18.31502    17.87128        3858\n",
            "19     19.40292    18.17376    18.14371    18.21347    18.30373        8500\n",
            "20     18.87513    17.83739    17.35275    17.16630    17.07185        6000\n",
            "21     18.85258    16.84091    16.07496    15.85081    15.72629        5211\n",
            "22     19.79568    18.45762    17.94308    17.74893    17.66646        5474\n",
            "23     19.10195    17.58694    16.97894    16.76008    16.62158        5320\n",
            "24     19.59400    18.44024    18.24742    18.20032    18.19231        7000\n",
            "25     18.49597    18.31229    18.57223    18.80704    19.06411        9000\n",
            "26     21.41336    20.27554    19.85035    19.63947    19.66437        5637\n",
            "27     21.03597    20.61347    20.51937    19.95377    19.40590        9000\n",
            "28     20.30992    18.84278    18.15363    17.88473    17.71679        5059\n",
            "29     20.37013    19.32011    19.15756    19.12533    19.09839        8500\n",
            "..          ...         ...         ...         ...         ...         ...\n",
            "970    20.35497    18.70376    18.08416    17.79079    17.71210        4955\n",
            "971    17.41522    16.09414    15.97237    15.80758    15.75469        7000\n",
            "972    18.71221    18.37038    18.57143    18.17166    17.56245        9000\n",
            "973    23.41629    23.77391    22.48715    20.41034    18.72501        5820\n",
            "974    20.87733    20.35249    20.41650    20.47075    20.32904        7652\n",
            "975    17.42955    16.23340    16.23357    16.33261    16.39854        8500\n",
            "976    18.26475    16.96317    16.47774    16.31735    16.24776        5474\n",
            "977    18.72841    17.52011    17.14913    17.01627    16.92262        5873\n",
            "978    20.71294    20.25664    20.33649    20.59029    20.70095        8500\n",
            "979    20.28062    19.21299    19.10161    19.11656    19.08932        7500\n",
            "980    19.44682    18.49431    18.24635    18.11534    18.10316        6500\n",
            "981    18.06857    16.70366    16.25922    16.10354    16.05195        5913\n",
            "982    21.77515    19.07512    17.73145    16.56467    15.95571        3717\n",
            "983    20.19866    20.44213    20.85992    21.44821    20.91532        7354\n",
            "984    18.71611    17.44522    16.98041    16.79280    16.72694        5474\n",
            "985    18.82290    17.60134    17.78152    17.88872    17.96733        9000\n",
            "986    19.53638    18.17002    17.61387    17.42711    17.37625        5651\n",
            "987    19.44652    18.27195    18.29736    18.34941    18.41888        8500\n",
            "988    19.67308    18.50160    17.94721    17.70326    17.57183        5405\n",
            "989    20.57967    19.51850    18.45069    17.91019    17.57778        3962\n",
            "990    21.34628    19.03235    17.76053    17.19349    16.86444        3962\n",
            "991    20.87867    20.49676    20.65753    20.86575    20.87319        7652\n",
            "992    21.04118    18.40981    17.07753    15.96176    15.32507        3717\n",
            "993    22.99013    19.79702    18.41499    17.75258    17.33950        3890\n",
            "994    17.40277    16.13004    15.86403    15.80166    15.78068        7500\n",
            "995    18.38085    17.19416    17.11898    17.16756    17.21433        7500\n",
            "996    21.04735    20.66477    20.76073    20.37904    20.00830        7438\n",
            "997    19.31522    17.43664    16.70225    16.46371    16.30858        4955\n",
            "998    21.19440    18.75364    17.60787    17.16323    16.88245        4382\n",
            "999    20.80677    20.35773    20.47825    20.53818    21.43276        7652\n",
            "\n",
            "[1000 rows x 6 columns]\n"
          ],
          "name": "stdout"
        }
      ]
    },
    {
      "cell_type": "markdown",
      "metadata": {
        "id": "RbqnaZgMEOdV",
        "colab_type": "text"
      },
      "source": [
        "### Separación entre datos de entrenamiento y datos de prueba "
      ]
    },
    {
      "cell_type": "code",
      "metadata": {
        "id": "ytPIaTCAEMqe",
        "colab_type": "code",
        "colab": {}
      },
      "source": [
        "train_datapd = datapd.sample(frac=0.8,random_state=0)\n",
        "test_datapd = datapd.drop(train_datapd.index)\n"
      ],
      "execution_count": 0,
      "outputs": []
    },
    {
      "cell_type": "markdown",
      "metadata": {
        "id": "un9FMCKeEKJk",
        "colab_type": "text"
      },
      "source": [
        "### Chequeo a los datos"
      ]
    },
    {
      "cell_type": "markdown",
      "metadata": {
        "id": "hJMy5AApEEMv",
        "colab_type": "text"
      },
      "source": [
        "Estadísticas:"
      ]
    },
    {
      "cell_type": "code",
      "metadata": {
        "id": "IXMZjr7HEBTf",
        "colab_type": "code",
        "outputId": "ddc2a75a-7627-43a7-ea3d-ccb48fa3f0a7",
        "colab": {
          "base_uri": "https://localhost:8080/",
          "height": 204
        }
      },
      "source": [
        "train_stats = train_datapd.describe()\n",
        "train_stats.pop(\"elodieTEff\")\n",
        "train_stats = train_stats.transpose()\n",
        "train_stats\n"
      ],
      "execution_count": 127,
      "outputs": [
        {
          "output_type": "execute_result",
          "data": {
            "text/html": [
              "<div>\n",
              "<style scoped>\n",
              "    .dataframe tbody tr th:only-of-type {\n",
              "        vertical-align: middle;\n",
              "    }\n",
              "\n",
              "    .dataframe tbody tr th {\n",
              "        vertical-align: top;\n",
              "    }\n",
              "\n",
              "    .dataframe thead th {\n",
              "        text-align: right;\n",
              "    }\n",
              "</style>\n",
              "<table border=\"1\" class=\"dataframe\">\n",
              "  <thead>\n",
              "    <tr style=\"text-align: right;\">\n",
              "      <th></th>\n",
              "      <th>count</th>\n",
              "      <th>mean</th>\n",
              "      <th>std</th>\n",
              "      <th>min</th>\n",
              "      <th>25%</th>\n",
              "      <th>50%</th>\n",
              "      <th>75%</th>\n",
              "      <th>max</th>\n",
              "    </tr>\n",
              "  </thead>\n",
              "  <tbody>\n",
              "    <tr>\n",
              "      <th>fiberMag_u</th>\n",
              "      <td>800.0</td>\n",
              "      <td>20.125638</td>\n",
              "      <td>1.805079</td>\n",
              "      <td>15.83426</td>\n",
              "      <td>18.833650</td>\n",
              "      <td>19.896640</td>\n",
              "      <td>21.225237</td>\n",
              "      <td>25.97398</td>\n",
              "    </tr>\n",
              "    <tr>\n",
              "      <th>fiberMag_g</th>\n",
              "      <td>800.0</td>\n",
              "      <td>18.734785</td>\n",
              "      <td>1.585337</td>\n",
              "      <td>15.03552</td>\n",
              "      <td>17.733195</td>\n",
              "      <td>18.638445</td>\n",
              "      <td>19.542975</td>\n",
              "      <td>26.15056</td>\n",
              "    </tr>\n",
              "    <tr>\n",
              "      <th>fiberMag_r</th>\n",
              "      <td>800.0</td>\n",
              "      <td>18.185337</td>\n",
              "      <td>1.394225</td>\n",
              "      <td>14.62758</td>\n",
              "      <td>17.301417</td>\n",
              "      <td>18.032890</td>\n",
              "      <td>18.846958</td>\n",
              "      <td>23.35875</td>\n",
              "    </tr>\n",
              "    <tr>\n",
              "      <th>fiberMag_i</th>\n",
              "      <td>800.0</td>\n",
              "      <td>17.870358</td>\n",
              "      <td>1.278712</td>\n",
              "      <td>14.49856</td>\n",
              "      <td>17.019120</td>\n",
              "      <td>17.722935</td>\n",
              "      <td>18.674392</td>\n",
              "      <td>21.42054</td>\n",
              "    </tr>\n",
              "    <tr>\n",
              "      <th>fiberMag_z</th>\n",
              "      <td>800.0</td>\n",
              "      <td>17.704314</td>\n",
              "      <td>1.300767</td>\n",
              "      <td>14.11661</td>\n",
              "      <td>16.782490</td>\n",
              "      <td>17.582875</td>\n",
              "      <td>18.473330</td>\n",
              "      <td>21.48817</td>\n",
              "    </tr>\n",
              "  </tbody>\n",
              "</table>\n",
              "</div>"
            ],
            "text/plain": [
              "            count       mean       std  ...        50%        75%       max\n",
              "fiberMag_u  800.0  20.125638  1.805079  ...  19.896640  21.225237  25.97398\n",
              "fiberMag_g  800.0  18.734785  1.585337  ...  18.638445  19.542975  26.15056\n",
              "fiberMag_r  800.0  18.185337  1.394225  ...  18.032890  18.846958  23.35875\n",
              "fiberMag_i  800.0  17.870358  1.278712  ...  17.722935  18.674392  21.42054\n",
              "fiberMag_z  800.0  17.704314  1.300767  ...  17.582875  18.473330  21.48817\n",
              "\n",
              "[5 rows x 8 columns]"
            ]
          },
          "metadata": {
            "tags": []
          },
          "execution_count": 127
        }
      ]
    },
    {
      "cell_type": "markdown",
      "metadata": {
        "id": "MAH7deWED8tk",
        "colab_type": "text"
      },
      "source": [
        "### Separacaión entre atributos y etiquetas\n",
        "\n",
        "En este caso, la temperatura es la etiqueta, mientras que los atributos son las magnitudes absolutas en cinco bandas fotométricas."
      ]
    },
    {
      "cell_type": "code",
      "metadata": {
        "id": "1PsmBwsvD55i",
        "colab_type": "code",
        "colab": {}
      },
      "source": [
        "train_labels = train_datapd.pop('elodieTEff')\n",
        "test_labels = test_datapd.pop('elodieTEff')\n",
        "\n",
        "train_feat = train_datapd\n",
        "test_feat = test_datapd\n"
      ],
      "execution_count": 0,
      "outputs": []
    },
    {
      "cell_type": "markdown",
      "metadata": {
        "id": "Q2fH1vq7D1Tw",
        "colab_type": "text"
      },
      "source": [
        "### Normalización de los datos\n"
      ]
    },
    {
      "cell_type": "code",
      "metadata": {
        "id": "lgbVr0RWSsom",
        "colab_type": "code",
        "colab": {}
      },
      "source": [
        "#norm train label\n",
        "def norm(x):\n",
        "  r=(x-x.mean())/x.std()\n",
        "  return r"
      ],
      "execution_count": 0,
      "outputs": []
    },
    {
      "cell_type": "code",
      "metadata": {
        "id": "mWW9QfEXDxnA",
        "colab_type": "code",
        "outputId": "65a0cac8-406a-4695-aae4-44b4bc477406",
        "colab": {
          "base_uri": "https://localhost:8080/",
          "height": 1000
        }
      },
      "source": [
        "\n",
        "#normtest_temp=tf.keras.utils.normalize(test_labels,axis=0)\n",
        "train_mean=train_labels.mean()\n",
        "train_std=train_labels.std()\n",
        "\n",
        "\n",
        "norm_train_labels=(train_labels-train_mean)/train_std\n",
        "norm_train_feat = (train_feat - train_feat.mean())/train_feat.std()\n",
        "print(norm_train_labels)"
      ],
      "execution_count": 130,
      "outputs": [
        {
          "output_type": "stream",
          "text": [
            "993   -1.240669\n",
            "859    0.399802\n",
            "298   -1.184101\n",
            "553    0.714069\n",
            "672   -1.349406\n",
            "971    0.714069\n",
            "27     1.971135\n",
            "231    1.656868\n",
            "306   -0.505914\n",
            "706    0.085536\n",
            "496    0.085536\n",
            "558   -0.275243\n",
            "784   -1.191015\n",
            "239   -1.260782\n",
            "578   -0.749785\n",
            "55     1.028335\n",
            "906    1.028335\n",
            "175    0.085536\n",
            "14     0.714069\n",
            "77    -1.260782\n",
            "31     0.714069\n",
            "481    0.085536\n",
            "310   -1.240669\n",
            "311   -1.260782\n",
            "883   -0.308555\n",
            "788    0.936569\n",
            "45     2.373396\n",
            "103    0.399802\n",
            "760   -0.931431\n",
            "1      1.656868\n",
            "         ...   \n",
            "216    0.399802\n",
            "735   -0.931431\n",
            "129   -1.349406\n",
            "349    0.798292\n",
            "111    0.005712\n",
            "166   -1.349406\n",
            "207   -0.125023\n",
            "438    1.123872\n",
            "552    1.971135\n",
            "274    0.399802\n",
            "974    1.123872\n",
            "591   -1.195415\n",
            "800    1.123872\n",
            "937   -0.308555\n",
            "525    1.028335\n",
            "287   -0.455632\n",
            "469    1.656868\n",
            "326   -0.542998\n",
            "121   -1.184101\n",
            "994    1.028335\n",
            "507    0.085536\n",
            "228   -1.366376\n",
            "673   -1.195415\n",
            "595   -0.931431\n",
            "445    0.085536\n",
            "117    1.249579\n",
            "464    1.656868\n",
            "25     1.971135\n",
            "110    1.028335\n",
            "149    2.536186\n",
            "Name: elodieTEff, Length: 800, dtype: float64\n"
          ],
          "name": "stdout"
        }
      ]
    },
    {
      "cell_type": "markdown",
      "metadata": {
        "id": "Di-_dkBrDrul",
        "colab_type": "text"
      },
      "source": [
        "Se utilizarán los datos normalizados para entrenar el modelo.\n"
      ]
    },
    {
      "cell_type": "markdown",
      "metadata": {
        "id": "p9KUKRQFDlPn",
        "colab_type": "text"
      },
      "source": [
        "## El modelo\n",
        "\n",
        "### Estructura de la red neuronal\n",
        "\n",
        "Modelo Secuencial"
      ]
    },
    {
      "cell_type": "code",
      "metadata": {
        "id": "Asg0O1TLDjAy",
        "colab_type": "code",
        "colab": {}
      },
      "source": [
        "def build_model():\n",
        "  model = keras.Sequential([\n",
        "    layers.Dense(5, activation=tf.nn.tanh, input_shape=[len(train_datapd.keys())]),\n",
        "    #layers.Dense(5, activation=tf.nn.tanh),\n",
        "    #layers.Dense(4, activation=tf.nn.relu),\n",
        "    layers.Dense(1)\n",
        "  ])\n",
        "\n",
        "  optimizer = tf.keras.optimizers.RMSprop(0.001)\n",
        "\n",
        "  model.compile(loss='mean_squared_error',\n",
        "                optimizer=optimizer,\n",
        "                metrics=['mean_absolute_error', 'mean_squared_error'])\n",
        "  return model\n",
        "\n",
        "model = build_model()"
      ],
      "execution_count": 0,
      "outputs": []
    },
    {
      "cell_type": "markdown",
      "metadata": {
        "id": "-LaH9J7aDb1B",
        "colab_type": "text"
      },
      "source": [
        "### Inspección del modelo"
      ]
    },
    {
      "cell_type": "code",
      "metadata": {
        "id": "eMeilODVDZ8L",
        "colab_type": "code",
        "outputId": "fc85b320-f501-4894-b60d-5a40cabe23ce",
        "colab": {
          "base_uri": "https://localhost:8080/",
          "height": 221
        }
      },
      "source": [
        "model.summary()"
      ],
      "execution_count": 132,
      "outputs": [
        {
          "output_type": "stream",
          "text": [
            "Model: \"sequential_8\"\n",
            "_________________________________________________________________\n",
            "Layer (type)                 Output Shape              Param #   \n",
            "=================================================================\n",
            "dense_9 (Dense)              (None, 5)                 30        \n",
            "_________________________________________________________________\n",
            "dense_10 (Dense)             (None, 1)                 6         \n",
            "=================================================================\n",
            "Total params: 36\n",
            "Trainable params: 36\n",
            "Non-trainable params: 0\n",
            "_________________________________________________________________\n"
          ],
          "name": "stdout"
        }
      ]
    },
    {
      "cell_type": "markdown",
      "metadata": {
        "id": "elZqEAdBDKF8",
        "colab_type": "text"
      },
      "source": [
        "### Entrenamiento del modelo"
      ]
    },
    {
      "cell_type": "code",
      "metadata": {
        "id": "bW0KSl6iDHb0",
        "colab_type": "code",
        "outputId": "6ddb8d1f-5beb-4075-9d24-736dc2245867",
        "colab": {
          "base_uri": "https://localhost:8080/",
          "height": 204
        }
      },
      "source": [
        "# Display training progress by printing a single dot for each completed epoch\n",
        "class PrintDot(keras.callbacks.Callback):\n",
        "  def on_epoch_end(self, epoch, logs):\n",
        "    if epoch % 100 == 0: print('')\n",
        "    print('.', end='')\n",
        "\n",
        "EPOCHS = 1000\n",
        "\n",
        "history = model.fit(\n",
        "  norm_train_feat, norm_train_labels,\n",
        "  epochs=EPOCHS, validation_split = 0.2, verbose=0,\n",
        "  callbacks=[PrintDot()])"
      ],
      "execution_count": 133,
      "outputs": [
        {
          "output_type": "stream",
          "text": [
            "\n",
            "....................................................................................................\n",
            "....................................................................................................\n",
            "....................................................................................................\n",
            "....................................................................................................\n",
            "....................................................................................................\n",
            "....................................................................................................\n",
            "....................................................................................................\n",
            "....................................................................................................\n",
            "....................................................................................................\n",
            "...................................................................................................."
          ],
          "name": "stdout"
        }
      ]
    },
    {
      "cell_type": "code",
      "metadata": {
        "id": "iCfiUeLJUVFH",
        "colab_type": "code",
        "colab": {}
      },
      "source": [
        "def desnorm(dato, media, std):\n",
        "  datonuevo = dato*std + media\n",
        "  return datonuevo\n",
        "  "
      ],
      "execution_count": 0,
      "outputs": []
    },
    {
      "cell_type": "markdown",
      "metadata": {
        "id": "iRMaIjLWDCKA",
        "colab_type": "text"
      },
      "source": [
        "Visualize the model's training progress using the stats stored in the `history` object."
      ]
    },
    {
      "cell_type": "code",
      "metadata": {
        "id": "UHXhcQ-sDAN7",
        "colab_type": "code",
        "outputId": "5ea89e3a-a67c-4010-fe92-af2b3c8a3f74",
        "colab": {
          "base_uri": "https://localhost:8080/",
          "height": 566
        }
      },
      "source": [
        "hist = pd.DataFrame(history.history)\n",
        "hist['epoch'] = history.epoch\n",
        "hist.tail()\n",
        "\n",
        "print(history)\n",
        "\n",
        "def plot_history(history):\n",
        "  hist = pd.DataFrame(history.history)\n",
        "  hist['epoch'] = history.epoch\n",
        "\n",
        "  plt.figure()\n",
        "  plt.xlabel('Epoch')\n",
        "  plt.ylabel('Mean Abs Error [K]')\n",
        "  plt.plot(hist['epoch'], hist['mean_absolute_error'],\n",
        "           label='Train Error')\n",
        "  plt.plot(hist['epoch'], hist['val_mean_absolute_error'],\n",
        "           label = 'Val Error')\n",
        "  plt.ylim([0,5])\n",
        "  plt.legend()\n",
        "\n",
        "  plt.figure()\n",
        "  plt.xlabel('Epoch')\n",
        "  plt.ylabel('Mean Square Error [$K^2$]')\n",
        "  plt.plot(hist['epoch'], hist['mean_squared_error'],\n",
        "           label='Train Error')\n",
        "  plt.plot(hist['epoch'], hist['val_mean_squared_error'],\n",
        "           label = 'Val Error')\n",
        "  #plt.ylim([0,20])\n",
        "  plt.legend()\n",
        "  plt.show()\n",
        "\n",
        "\n",
        "plot_history(history)"
      ],
      "execution_count": 135,
      "outputs": [
        {
          "output_type": "stream",
          "text": [
            "<tensorflow.python.keras.callbacks.History object at 0x7fe28055b630>\n"
          ],
          "name": "stdout"
        },
        {
          "output_type": "display_data",
          "data": {
            "image/png": "[encoded data removed]",
            "text/plain": [
              "<Figure size 432x288 with 1 Axes>"
            ]
          },
          "metadata": {
            "tags": []
          }
        },
        {
          "output_type": "display_data",
          "data": {
            "image/png": "[encoded data removed]",
            "text/plain": [
              "<Figure size 432x288 with 1 Axes>"
            ]
          },
          "metadata": {
            "tags": []
          }
        }
      ]
    },
    {
      "cell_type": "markdown",
      "metadata": {
        "id": "TlWek3M3CxZb",
        "colab_type": "text"
      },
      "source": [
        "This graph shows little improvement, or even degradation in the validation error after about 100 epochs. Let's update the `model.fit` call to automatically stop training when the validation score doesn't improve. We'll use an *EarlyStopping callback* that tests a training condition for  every epoch. If a set amount of epochs elapses without showing improvement, then automatically stop the training.\n",
        "\n",
        "You can learn more about this callback [here](https://www.tensorflow.org/versions/master/api_docs/python/tf/keras/callbacks/EarlyStopping)."
      ]
    },
    {
      "cell_type": "code",
      "metadata": {
        "id": "ywa8UpMYCvNc",
        "colab_type": "code",
        "colab": {}
      },
      "source": [
        "#model = build_model()\n",
        "\n",
        "# The patience parameter is the amount of epochs to check for improvement\n",
        "#early_stop = keras.callbacks.EarlyStopping(monitor='val_loss', patience=10)\n",
        "\n",
        "#history = model.fit(norm_train_feat, train_labels, epochs=EPOCHS,\n",
        "#                    validation_split = 0.2, verbose=0, callbacks=[early_stop, PrintDot()])\n",
        "#print(history)\n",
        "#plot_history(history)"
      ],
      "execution_count": 0,
      "outputs": []
    },
    {
      "cell_type": "code",
      "metadata": {
        "id": "P-08c5XBCl7I",
        "colab_type": "code",
        "outputId": "f3edad7f-cca1-44a5-ff74-0edbf4f35522",
        "colab": {
          "base_uri": "https://localhost:8080/",
          "height": 34
        }
      },
      "source": [
        "norm_test_feat = (test_feat-test_feat.mean())/test_feat.std()\n",
        "norm_test_labels = (test_labels-test_labels.mean())/test_labels.std()\n",
        "\n",
        "\n",
        "loss, mae, mse = model.evaluate(norm_test_feat, norm_test_labels, verbose=0)\n",
        "\n",
        "print(\"Testing set Mean Abs Error: {:5.2f}\".format(mae))"
      ],
      "execution_count": 137,
      "outputs": [
        {
          "output_type": "stream",
          "text": [
            "Testing set Mean Abs Error:  0.25\n"
          ],
          "name": "stdout"
        }
      ]
    },
    {
      "cell_type": "markdown",
      "metadata": {
        "id": "T3FTCj6gChEg",
        "colab_type": "text"
      },
      "source": [
        "### Make predictions\n",
        "\n",
        "Finally, predict Temperature values using data in the testing set:"
      ]
    },
    {
      "cell_type": "code",
      "metadata": {
        "id": "go8xaaLkCdxN",
        "colab_type": "code",
        "outputId": "aa6752ee-a9b0-4667-9297-0fb3061b0577",
        "colab": {
          "base_uri": "https://localhost:8080/",
          "height": 300
        }
      },
      "source": [
        "#print(norm_test_labels)\n",
        "\n",
        "test_predictions = model.predict(norm_test_feat).flatten()\n",
        "#print(test_predictions)\n",
        "\n",
        "test_predictions = desnorm(test_predictions, train_mean, train_std)\n",
        "\n",
        "plt.scatter(test_labels, test_predictions, color='red')\n",
        "plt.plot([0 , 12500], [0, 12500])\n",
        "plt.xlabel('True Values [K]')\n",
        "plt.ylabel('Predictions [K]')\n",
        "plt.axis('equal')\n",
        "plt.axis('square')\n",
        "#plt.xlim([0,plt.xlim()[1]])\n",
        "#plt.ylim([0,100])\n",
        "#plt.ylim([0,plt.ylim()[1]])\n",
        "#_ = plt.plot([-100, 100], [-100, 100])"
      ],
      "execution_count": 138,
      "outputs": [
        {
          "output_type": "execute_result",
          "data": {
            "text/plain": [
              "(-679.1004480286738, 14261.10940860215, -625.0, 14315.209856630823)"
            ]
          },
          "metadata": {
            "tags": []
          },
          "execution_count": 138
        },
        {
          "output_type": "display_data",
          "data": {
            "image/png": "[encoded data removed]",
            "text/plain": [
              "<Figure size 432x288 with 1 Axes>"
            ]
          },
          "metadata": {
            "tags": []
          }
        }
      ]
    },
    {
      "cell_type": "markdown",
      "metadata": {
        "id": "bBQjihVVCWkc",
        "colab_type": "text"
      },
      "source": [
        "It looks like our model predicts reasonably well. Let's take a look at the error distribution."
      ]
    },
    {
      "cell_type": "code",
      "metadata": {
        "id": "o6Re1hClCN37",
        "colab_type": "code",
        "outputId": "7632687e-3568-4a7f-b9ff-c308e04810c0",
        "colab": {
          "base_uri": "https://localhost:8080/",
          "height": 300
        }
      },
      "source": [
        "error = test_predictions - test_labels\n",
        "plt.hist(error, bins = 25)\n",
        "plt.xlabel(\"Prediction Error [K]\")\n",
        "_ = plt.ylabel(\"Count\")\n",
        "\n",
        "t_fin = time()\n",
        "\n",
        "print(t_fin - t_ini)"
      ],
      "execution_count": 142,
      "outputs": [
        {
          "output_type": "stream",
          "text": [
            "185.73557448387146\n"
          ],
          "name": "stdout"
        },
        {
          "output_type": "display_data",
          "data": {
            "image/png": "[encoded data removed]",
            "text/plain": [
              "<Figure size 432x288 with 1 Axes>"
            ]
          },
          "metadata": {
            "tags": []
          }
        }
      ]
    }
  ]
}