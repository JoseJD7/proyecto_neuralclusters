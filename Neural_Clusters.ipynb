{
  "nbformat": 4,
  "nbformat_minor": 0,
  "metadata": {
    "colab": {
      "name": "Neural Clusters.ipynb ",
      "version": "0.3.2",
      "provenance": [],
      "collapsed_sections": [],
      "toc_visible": true,
      "include_colab_link": true
    },
    "kernelspec": {
      "name": "python3",
      "display_name": "Python 3"
    },
    "accelerator": "TPU"
  },
  "cells": [
    {
      "cell_type": "markdown",
      "metadata": {
        "id": "view-in-github",
        "colab_type": "text"
      },
      "source": [
        "<a href=\"https://colab.research.google.com/github/astrodatos/proyecto_neuralclusters/blob/master/Neural_Clusters.ipynb\" target=\"_parent\"><img src=\"https://colab.research.google.com/assets/colab-badge.svg\" alt=\"Open In Colab\"/></a>"
      ]
    },
    {
      "cell_type": "markdown",
      "metadata": {
        "id": "ILrFj60aE-XA",
        "colab_type": "text"
      },
      "source": [
        "Se predecirá la temperatura efectiva de una estrella a través de sus magnitudes absolutas en cinco bandas fotométricas (problema de regresión). Se ha utilizado la base de datos del SDSS, consultando el mismo a través de astroquery."
      ]
    },
    {
      "cell_type": "code",
      "metadata": {
        "id": "_3BVRc6M-Ci8",
        "colab_type": "code",
        "colab": {}
      },
      "source": [
        "!pip install --pre --quiet astroquery"
      ],
      "execution_count": 0,
      "outputs": []
    },
    {
      "cell_type": "code",
      "metadata": {
        "id": "t5_yOjQBE4gz",
        "colab_type": "code",
        "outputId": "c82a9278-fa64-4afb-bf85-a2fe98482a46",
        "colab": {
          "base_uri": "https://localhost:8080/",
          "height": 34
        }
      },
      "source": [
        "from __future__ import absolute_import, division, print_function, unicode_literals\n",
        "\n",
        "from time import time\n",
        "from astroquery.sdss import SDSS\n",
        "\n",
        "import matplotlib.pyplot as plt\n",
        "import pandas as pd\n",
        "\n",
        "import tensorflow as tf\n",
        "from tensorflow import keras\n",
        "from tensorflow.keras import layers\n",
        "\n",
        "\n",
        "print(tf.__version__)"
      ],
      "execution_count": 76,
      "outputs": [
        {
          "output_type": "stream",
          "text": [
            "1.14.0\n"
          ],
          "name": "stdout"
        }
      ]
    },
    {
      "cell_type": "markdown",
      "metadata": {
        "id": "hnipyp1PEwNi",
        "colab_type": "text"
      },
      "source": [
        "## Datos del SDSS\n",
        "\n",
        "Disponible en enlace\n",
        "\n"
      ]
    },
    {
      "cell_type": "markdown",
      "metadata": {
        "id": "KKOzVSMUrt1F",
        "colab_type": "text"
      },
      "source": [
        "###Consulta con Astroquery###"
      ]
    },
    {
      "cell_type": "code",
      "metadata": {
        "id": "l3cvu2Kj-iOB",
        "colab_type": "code",
        "colab": {}
      },
      "source": [
        "t_ini = time()\n",
        "\n",
        "data = SDSS.query_sql(\"\"\"SELECT TOP 10000\n",
        "                      p.fiberMag_u, p.fiberMag_g, p.fiberMag_r, p.fiberMag_i, \n",
        "                      p.fiberMag_z, s.elodieTEff\n",
        "                   \n",
        "                      \n",
        "                      FROM PhotoObjAll AS p JOIN specObjAll s ON s.bestobjid = p.objid\n",
        "                      \n",
        "                      WHERE p.mode = 1 AND s.sciencePrimary = 1 AND p.clean = 1 AND s.class = 'STAR'\n",
        "                      \n",
        "                      \"\"\")"
      ],
      "execution_count": 0,
      "outputs": []
    },
    {
      "cell_type": "code",
      "metadata": {
        "id": "aYU1l2WHCUJI",
        "colab_type": "code",
        "outputId": "58fc51a7-64d2-4b21-91d5-ef48c6906332",
        "colab": {
          "base_uri": "https://localhost:8080/",
          "height": 1000
        }
      },
      "source": [
        "datapd=data.to_pandas()\n",
        "datapd = datapd[(datapd != -9999).dropna()]\n",
        "datapd = datapd.dropna()\n",
        "print(datapd)"
      ],
      "execution_count": 169,
      "outputs": [
        {
          "output_type": "stream",
          "text": [
            "      fiberMag_u  fiberMag_g  fiberMag_r  fiberMag_i  fiberMag_z  elodieTEff\n",
            "0       19.29164    18.18115    17.81282    17.69375    17.66903        5373\n",
            "1       21.83404    19.30373    17.88528    16.98804    16.41673        3980\n",
            "2       19.36734    18.48736    18.15342    18.01115    17.91279        6000\n",
            "3       19.42088    17.92244    17.13913    16.93484    16.73513        5000\n",
            "4       19.15921    19.11771    19.36260    19.59598    19.76112        7652\n",
            "5       19.00502    17.71554    17.19506    17.02796    16.96775        5762\n",
            "6       19.45036    18.02126    17.41052    17.16474    17.03034        5320\n",
            "7       19.46083    17.53469    16.71348    16.38574    16.17171        4955\n",
            "8       18.73582    17.19462    16.49559    16.21076    16.02629        5139\n",
            "9       19.69338    17.83335    17.14591    16.89997    16.77325        5139\n",
            "10      20.01330    20.41864    20.88561    21.17669    21.03999        9656\n",
            "11      20.25025    17.65621    16.25324    15.62062    15.19448        3890\n",
            "12      23.87245    21.55277    20.13887    19.21294    18.74691        3717\n",
            "13      18.17502    17.07525    17.06422    17.11273    17.17736        8500\n",
            "14      16.85227    16.61569    16.95773    17.24665    17.42639       13582\n",
            "15      18.26085    17.32803    17.03163    16.89549    16.83503        6000\n",
            "16      21.73104    20.61972    20.74136    20.78459    21.08393        7652\n",
            "17      23.21885    23.28689    21.93997    19.89871    18.66737        3714\n",
            "18      25.13442    21.92526    20.79858    20.35485    20.11178        3969\n",
            "19      22.42891    19.57905    18.22705    17.13440    16.33370        3717\n",
            "20      23.39854    22.18903    20.85370    19.93555    19.38426        3980\n",
            "21      23.40586    22.96217    21.53967    19.59670    18.51555        3714\n",
            "22      24.58268    23.72745    22.16173    19.80166    18.60219        3710\n",
            "23      22.62599    21.53870    20.81792    20.58673    20.59417        4353\n",
            "24      23.69870    21.84731    20.23931    18.97346    18.25231        3717\n",
            "25      18.34861    17.41652    17.11156    16.99042    16.94873        6000\n",
            "26      21.73135    19.17288    17.94568    17.48678    17.21509        4382\n",
            "27      19.71492    18.59588    18.22066    18.07076    18.01671        5790\n",
            "28      23.78969    21.19484    19.73122    18.91983    18.50367        3980\n",
            "29      25.13561    22.17117    20.57397    19.00071    18.13221        3717\n",
            "...          ...         ...         ...         ...         ...         ...\n",
            "9970    17.83914    16.62577    16.41378    16.33989    16.33843        6500\n",
            "9971    18.04057    17.05266    16.68353    16.52880    16.50887        6000\n",
            "9972    19.52705    18.51918    18.20027    18.05081    18.06169        6000\n",
            "9973    18.15672    18.05384    17.95742    18.00514    18.10483        7500\n",
            "9974    24.72592    23.10378    21.35652    20.79807    20.75871        6162\n",
            "9975    19.76888    18.67464    18.61405    18.65311    18.70052        8500\n",
            "9976    16.93701    15.77689    15.38196    15.22838    15.20421        6000\n",
            "9977    19.82998    20.09377    20.49348    20.98858    21.03544        7354\n",
            "9978    23.37572    21.52762    19.97641    19.12087    18.63781        3705\n",
            "9979    20.56230    18.48987    17.57652    17.31624    17.03261        4576\n",
            "9980    19.79058    18.85962    18.56986    18.48128    18.47473        6000\n",
            "9981    18.13594    17.08945    17.07472    17.14194    17.20897        8500\n",
            "9982    22.75415    20.80377    19.41366    18.66302    18.23381        3980\n",
            "9983    17.96807    17.05918    16.74297    16.61745    16.59648        6000\n",
            "9984    20.29554    18.51405    17.73775    17.42281    17.25379        4576\n",
            "9985    23.37922    21.52956    20.82357    20.61837    20.08728        5099\n",
            "9986    21.08834    18.80598    17.84164    16.85530    16.30997        3922\n",
            "9987    19.80740    18.65228    18.30338    18.17441    18.16152        6038\n",
            "9988    24.51985    22.73447    21.23779    18.60389    17.16092        3717\n",
            "9989    18.12483    16.98786    16.54535    16.40450    16.35907        5762\n",
            "9990    18.43968    17.44773    17.10692    16.98525    16.96305        6000\n",
            "9991    19.79049    19.95626    20.39035    20.69398    20.75594        7652\n",
            "9992    17.77127    16.72295    16.41618    16.34050    16.33451        6245\n",
            "9993    17.66450    15.35361    14.38119    14.08198    13.93566        4505\n",
            "9994    23.41302    22.31226    20.80366    18.77126    17.65204        3717\n",
            "9995    17.86812    16.98251    16.69400    16.58812    16.57712        6000\n",
            "9996    24.10155    22.18387    21.08822    20.75697    20.97988        4246\n",
            "9997    17.02168    16.10784    15.83027    15.75040    15.73410        6500\n",
            "9998    20.31106    19.20625    19.20396    19.29473    19.34696        8500\n",
            "9999    18.29261    17.35850    17.04402    16.92667    16.91022        6000\n",
            "\n",
            "[9998 rows x 6 columns]\n"
          ],
          "name": "stdout"
        }
      ]
    },
    {
      "cell_type": "markdown",
      "metadata": {
        "id": "RbqnaZgMEOdV",
        "colab_type": "text"
      },
      "source": [
        "### Separación entre datos de entrenamiento y datos de prueba "
      ]
    },
    {
      "cell_type": "code",
      "metadata": {
        "id": "ytPIaTCAEMqe",
        "colab_type": "code",
        "colab": {}
      },
      "source": [
        "train_datapd = datapd.sample(frac=0.8,random_state=0)\n",
        "test_datapd = datapd.drop(train_datapd.index)"
      ],
      "execution_count": 0,
      "outputs": []
    },
    {
      "cell_type": "markdown",
      "metadata": {
        "id": "un9FMCKeEKJk",
        "colab_type": "text"
      },
      "source": [
        "### Chequeo a los datos"
      ]
    },
    {
      "cell_type": "markdown",
      "metadata": {
        "id": "hJMy5AApEEMv",
        "colab_type": "text"
      },
      "source": [
        "Estadísticas:"
      ]
    },
    {
      "cell_type": "code",
      "metadata": {
        "id": "IXMZjr7HEBTf",
        "colab_type": "code",
        "outputId": "ca24dbd1-6afe-4032-f383-1b504e97dc55",
        "colab": {
          "base_uri": "https://localhost:8080/",
          "height": 204
        }
      },
      "source": [
        "train_stats = train_datapd.describe()\n",
        "train_stats.pop(\"elodieTEff\")\n",
        "train_stats = train_stats.transpose()\n",
        "train_stats\n"
      ],
      "execution_count": 171,
      "outputs": [
        {
          "output_type": "execute_result",
          "data": {
            "text/html": [
              "<div>\n",
              "<style scoped>\n",
              "    .dataframe tbody tr th:only-of-type {\n",
              "        vertical-align: middle;\n",
              "    }\n",
              "\n",
              "    .dataframe tbody tr th {\n",
              "        vertical-align: top;\n",
              "    }\n",
              "\n",
              "    .dataframe thead th {\n",
              "        text-align: right;\n",
              "    }\n",
              "</style>\n",
              "<table border=\"1\" class=\"dataframe\">\n",
              "  <thead>\n",
              "    <tr style=\"text-align: right;\">\n",
              "      <th></th>\n",
              "      <th>count</th>\n",
              "      <th>mean</th>\n",
              "      <th>std</th>\n",
              "      <th>min</th>\n",
              "      <th>25%</th>\n",
              "      <th>50%</th>\n",
              "      <th>75%</th>\n",
              "      <th>max</th>\n",
              "    </tr>\n",
              "  </thead>\n",
              "  <tbody>\n",
              "    <tr>\n",
              "      <th>fiberMag_u</th>\n",
              "      <td>7998.0</td>\n",
              "      <td>20.625057</td>\n",
              "      <td>2.211412</td>\n",
              "      <td>14.07160</td>\n",
              "      <td>18.994655</td>\n",
              "      <td>20.215620</td>\n",
              "      <td>22.108740</td>\n",
              "      <td>26.51366</td>\n",
              "    </tr>\n",
              "    <tr>\n",
              "      <th>fiberMag_g</th>\n",
              "      <td>7998.0</td>\n",
              "      <td>19.264443</td>\n",
              "      <td>1.987911</td>\n",
              "      <td>13.48535</td>\n",
              "      <td>17.841330</td>\n",
              "      <td>18.933590</td>\n",
              "      <td>20.418067</td>\n",
              "      <td>26.15056</td>\n",
              "    </tr>\n",
              "    <tr>\n",
              "      <th>fiberMag_r</th>\n",
              "      <td>7998.0</td>\n",
              "      <td>18.621684</td>\n",
              "      <td>1.679406</td>\n",
              "      <td>12.84478</td>\n",
              "      <td>17.369120</td>\n",
              "      <td>18.387265</td>\n",
              "      <td>19.841085</td>\n",
              "      <td>23.62120</td>\n",
              "    </tr>\n",
              "    <tr>\n",
              "      <th>fiberMag_i</th>\n",
              "      <td>7998.0</td>\n",
              "      <td>18.183207</td>\n",
              "      <td>1.433061</td>\n",
              "      <td>13.57713</td>\n",
              "      <td>17.068323</td>\n",
              "      <td>18.099895</td>\n",
              "      <td>19.327753</td>\n",
              "      <td>24.05245</td>\n",
              "    </tr>\n",
              "    <tr>\n",
              "      <th>fiberMag_z</th>\n",
              "      <td>7998.0</td>\n",
              "      <td>17.948185</td>\n",
              "      <td>1.445990</td>\n",
              "      <td>12.63962</td>\n",
              "      <td>16.895453</td>\n",
              "      <td>17.846035</td>\n",
              "      <td>18.886120</td>\n",
              "      <td>25.42421</td>\n",
              "    </tr>\n",
              "  </tbody>\n",
              "</table>\n",
              "</div>"
            ],
            "text/plain": [
              "             count       mean       std  ...        50%        75%       max\n",
              "fiberMag_u  7998.0  20.625057  2.211412  ...  20.215620  22.108740  26.51366\n",
              "fiberMag_g  7998.0  19.264443  1.987911  ...  18.933590  20.418067  26.15056\n",
              "fiberMag_r  7998.0  18.621684  1.679406  ...  18.387265  19.841085  23.62120\n",
              "fiberMag_i  7998.0  18.183207  1.433061  ...  18.099895  19.327753  24.05245\n",
              "fiberMag_z  7998.0  17.948185  1.445990  ...  17.846035  18.886120  25.42421\n",
              "\n",
              "[5 rows x 8 columns]"
            ]
          },
          "metadata": {
            "tags": []
          },
          "execution_count": 171
        }
      ]
    },
    {
      "cell_type": "markdown",
      "metadata": {
        "id": "MAH7deWED8tk",
        "colab_type": "text"
      },
      "source": [
        "### Separacaión entre atributos y etiquetas\n",
        "\n",
        "En este caso, la temperatura es la etiqueta, mientras que los atributos son las magnitudes absolutas en cinco bandas fotométricas."
      ]
    },
    {
      "cell_type": "code",
      "metadata": {
        "id": "1PsmBwsvD55i",
        "colab_type": "code",
        "colab": {}
      },
      "source": [
        "train_labels = train_datapd.pop('elodieTEff')\n",
        "test_labels = test_datapd.pop('elodieTEff')\n",
        "\n",
        "train_feat = train_datapd\n",
        "test_feat = test_datapd\n"
      ],
      "execution_count": 0,
      "outputs": []
    },
    {
      "cell_type": "markdown",
      "metadata": {
        "id": "Q2fH1vq7D1Tw",
        "colab_type": "text"
      },
      "source": [
        "### Normalización de los datos\n"
      ]
    },
    {
      "cell_type": "code",
      "metadata": {
        "id": "lgbVr0RWSsom",
        "colab_type": "code",
        "colab": {}
      },
      "source": [
        "def norm(x):\n",
        "  r=(x-x.mean())/x.std()\n",
        "  return r"
      ],
      "execution_count": 0,
      "outputs": []
    },
    {
      "cell_type": "code",
      "metadata": {
        "id": "mWW9QfEXDxnA",
        "colab_type": "code",
        "colab": {}
      },
      "source": [
        "norm_train_labels = norm(train_labels)\n",
        "norm_train_feat = norm(train_feat)\n",
        "\n",
        "norm_test_feat = norm(test_feat)"
      ],
      "execution_count": 0,
      "outputs": []
    },
    {
      "cell_type": "markdown",
      "metadata": {
        "id": "Di-_dkBrDrul",
        "colab_type": "text"
      },
      "source": [
        "Se utilizarán los datos normalizados para entrenar el modelo.\n"
      ]
    },
    {
      "cell_type": "markdown",
      "metadata": {
        "id": "p9KUKRQFDlPn",
        "colab_type": "text"
      },
      "source": [
        "## El modelo"
      ]
    },
    {
      "cell_type": "markdown",
      "metadata": {
        "id": "fj8zlMCwvSKL",
        "colab_type": "text"
      },
      "source": [
        "###Estructura de la red neuronal"
      ]
    },
    {
      "cell_type": "code",
      "metadata": {
        "id": "Asg0O1TLDjAy",
        "colab_type": "code",
        "colab": {}
      },
      "source": [
        "def build_model():\n",
        "  model = keras.Sequential([\n",
        "    layers.Dense(5, activation=tf.nn.tanh, input_shape=[len(train_datapd.keys())]),\n",
        "    layers.Dense(1, activation=tf.nn.tanh),\n",
        "    #layers.Dense(4, activation=tf.nn.relu),\n",
        "    layers.Dense(1)\n",
        "  ])\n",
        "\n",
        "  optimizer = tf.keras.optimizers.RMSprop(0.001)\n",
        "\n",
        "  model.compile(loss='mean_squared_error',\n",
        "                optimizer=optimizer,\n",
        "                metrics=['mean_absolute_error', 'mean_squared_error'])\n",
        "  return model\n",
        "\n",
        "model = build_model()"
      ],
      "execution_count": 0,
      "outputs": []
    },
    {
      "cell_type": "markdown",
      "metadata": {
        "id": "fRs-X--DeKcQ",
        "colab_type": "text"
      },
      "source": [
        "###Desnormalización"
      ]
    },
    {
      "cell_type": "code",
      "metadata": {
        "id": "2aaIKxJbeJZA",
        "colab_type": "code",
        "colab": {}
      },
      "source": [
        "def desnorm(dato, media, std):\n",
        "  datonuevo = dato*std + media\n",
        "  return datonuevo"
      ],
      "execution_count": 0,
      "outputs": []
    },
    {
      "cell_type": "markdown",
      "metadata": {
        "id": "-LaH9J7aDb1B",
        "colab_type": "text"
      },
      "source": [
        "### Inspección del modelo"
      ]
    },
    {
      "cell_type": "code",
      "metadata": {
        "id": "eMeilODVDZ8L",
        "colab_type": "code",
        "outputId": "8bcfe979-0124-495b-9d03-56cc8a115f1f",
        "colab": {
          "base_uri": "https://localhost:8080/",
          "height": 255
        }
      },
      "source": [
        "model.summary()"
      ],
      "execution_count": 177,
      "outputs": [
        {
          "output_type": "stream",
          "text": [
            "Model: \"sequential_8\"\n",
            "_________________________________________________________________\n",
            "Layer (type)                 Output Shape              Param #   \n",
            "=================================================================\n",
            "dense_24 (Dense)             (None, 5)                 30        \n",
            "_________________________________________________________________\n",
            "dense_25 (Dense)             (None, 1)                 6         \n",
            "_________________________________________________________________\n",
            "dense_26 (Dense)             (None, 1)                 2         \n",
            "=================================================================\n",
            "Total params: 38\n",
            "Trainable params: 38\n",
            "Non-trainable params: 0\n",
            "_________________________________________________________________\n"
          ],
          "name": "stdout"
        }
      ]
    },
    {
      "cell_type": "markdown",
      "metadata": {
        "id": "elZqEAdBDKF8",
        "colab_type": "text"
      },
      "source": [
        "### Entrenamiento del modelo"
      ]
    },
    {
      "cell_type": "code",
      "metadata": {
        "id": "bW0KSl6iDHb0",
        "colab_type": "code",
        "outputId": "19b1d4da-2048-4f7c-a76c-6813c63f7224",
        "colab": {
          "base_uri": "https://localhost:8080/",
          "height": 204
        }
      },
      "source": [
        "# Imprime un punto por cada epoch completado\n",
        "class PrintDot(keras.callbacks.Callback):\n",
        "  def on_epoch_end(self, epoch, logs):\n",
        "    if epoch % 100 == 0: print('')\n",
        "    print('.', end='')\n",
        "\n",
        "EPOCHS = 1000\n",
        "\n",
        "history = model.fit(\n",
        "  norm_train_feat, norm_train_labels,\n",
        "  epochs=EPOCHS, validation_split = 0.2, verbose=0,\n",
        "  callbacks=[PrintDot()])"
      ],
      "execution_count": 178,
      "outputs": [
        {
          "output_type": "stream",
          "text": [
            "\n",
            "....................................................................................................\n",
            "....................................................................................................\n",
            "....................................................................................................\n",
            "....................................................................................................\n",
            "....................................................................................................\n",
            "....................................................................................................\n",
            "....................................................................................................\n",
            "....................................................................................................\n",
            "....................................................................................................\n",
            "...................................................................................................."
          ],
          "name": "stdout"
        }
      ]
    },
    {
      "cell_type": "markdown",
      "metadata": {
        "id": "iRMaIjLWDCKA",
        "colab_type": "text"
      },
      "source": [
        "El progreso de entrenamiento del sistema está en el objeto `history`."
      ]
    },
    {
      "cell_type": "code",
      "metadata": {
        "id": "UHXhcQ-sDAN7",
        "colab_type": "code",
        "outputId": "7e766d02-7780-49ce-8950-9466d9483e5d",
        "colab": {
          "base_uri": "https://localhost:8080/",
          "height": 566
        }
      },
      "source": [
        "hist = pd.DataFrame(history.history)\n",
        "hist['epoch'] = history.epoch\n",
        "hist.tail()\n",
        "\n",
        "print(history)\n",
        "\n",
        "def plot_history(history):\n",
        "  hist = pd.DataFrame(history.history)\n",
        "  hist['epoch'] = history.epoch\n",
        "\n",
        "  plt.figure()\n",
        "  plt.xlabel('Epoch')\n",
        "  plt.ylabel('Mean Abs Error [K]')\n",
        "  plt.plot(hist['epoch'], hist['mean_absolute_error'],\n",
        "           label='Train Error')\n",
        "  plt.plot(hist['epoch'], hist['val_mean_absolute_error'],\n",
        "           label = 'Val Error')\n",
        "  #plt.ylim([0,5])\n",
        "  plt.legend()\n",
        "\n",
        "  plt.figure()\n",
        "  plt.xlabel('Epoch')\n",
        "  plt.ylabel('Mean Square Error [$K^2$]')\n",
        "  plt.plot(hist['epoch'], hist['mean_squared_error'],\n",
        "           label='Train Error')\n",
        "  plt.plot(hist['epoch'], hist['val_mean_squared_error'],\n",
        "           label = 'Val Error')\n",
        "  #plt.ylim([0,20])\n",
        "  plt.legend()\n",
        "  plt.show()\n",
        "\n",
        "\n",
        "plot_history(history)"
      ],
      "execution_count": 179,
      "outputs": [
        {
          "output_type": "stream",
          "text": [
            "<tensorflow.python.keras.callbacks.History object at 0x7f6f48611898>\n"
          ],
          "name": "stdout"
        },
        {
          "output_type": "display_data",
          "data": {
            "image/png": "[encoded data removed]",
            "text/plain": [
              "<Figure size 432x288 with 1 Axes>"
            ]
          },
          "metadata": {
            "tags": []
          }
        },
        {
          "output_type": "display_data",
          "data": {
            "image/png": "[encoded data removed]",
            "text/plain": [
              "<Figure size 432x288 with 1 Axes>"
            ]
          },
          "metadata": {
            "tags": []
          }
        }
      ]
    },
    {
      "cell_type": "markdown",
      "metadata": {
        "id": "9OiJUrMvzz4k",
        "colab_type": "text"
      },
      "source": [
        "###Tiempo de Ejecución"
      ]
    },
    {
      "cell_type": "code",
      "metadata": {
        "id": "MBV0HbkYzzFa",
        "colab_type": "code",
        "colab": {}
      },
      "source": [
        "t_fin = time()\n",
        "t_ejecucion = t_fin - t_ini"
      ],
      "execution_count": 0,
      "outputs": []
    },
    {
      "cell_type": "markdown",
      "metadata": {
        "id": "T3FTCj6gChEg",
        "colab_type": "text"
      },
      "source": [
        "### Predicción con los datos de prueba"
      ]
    },
    {
      "cell_type": "code",
      "metadata": {
        "id": "go8xaaLkCdxN",
        "colab_type": "code",
        "outputId": "12bb36fe-e483-4c40-81c2-bb11c91b4975",
        "colab": {
          "base_uri": "https://localhost:8080/",
          "height": 300
        }
      },
      "source": [
        "test_predictions = model.predict(norm_test_feat).flatten()\n",
        "\n",
        "test_predictions = desnorm(test_predictions, train_labels.mean(), train_labels.std())\n",
        "m1 = min(test_labels)\n",
        "M1 = max(test_labels)\n",
        "\n",
        "m2 = min(test_predictions)\n",
        "M2 = max(test_predictions)\n",
        "\n",
        "m = min([m1, m2])\n",
        "M = max([M1, M2])\n",
        "\n",
        "plt.scatter(test_labels, test_predictions, color='red')\n",
        "plt.plot([m , M], [m, M])\n",
        "plt.xlabel('True Values [K]')\n",
        "plt.ylabel('Predictions [K]')\n",
        "plt.axis('equal')\n",
        "plt.axis('square')\n",
        "#plt.xlim([0,plt.xlim()[1]])\n",
        "#plt.ylim([0,100])\n",
        "#plt.ylim([0,plt.ylim()[1]])\n",
        "#_ = plt.plot([-100, 100], [-100, 100])"
      ],
      "execution_count": 181,
      "outputs": [
        {
          "output_type": "execute_result",
          "data": {
            "text/plain": [
              "(3195.3901433691753, 14076.609856630823, 3195.4, 14076.619713261647)"
            ]
          },
          "metadata": {
            "tags": []
          },
          "execution_count": 181
        },
        {
          "output_type": "display_data",
          "data": {
            "image/png": "[encoded data removed]",
            "text/plain": [
              "<Figure size 432x288 with 1 Axes>"
            ]
          },
          "metadata": {
            "tags": []
          }
        }
      ]
    },
    {
      "cell_type": "markdown",
      "metadata": {
        "id": "bBQjihVVCWkc",
        "colab_type": "text"
      },
      "source": [
        "Notemos que nuestro modelo se debe acercar a la función de  identidad. Ahora veamos la distribución del error absoluto:\n",
        "\n"
      ]
    },
    {
      "cell_type": "markdown",
      "metadata": {
        "id": "m5gflQ0P81Ml",
        "colab_type": "text"
      },
      "source": [
        "### Errores"
      ]
    },
    {
      "cell_type": "code",
      "metadata": {
        "id": "o6Re1hClCN37",
        "colab_type": "code",
        "outputId": "ca098953-d3af-4af7-ac64-bd01914faf97",
        "colab": {
          "base_uri": "https://localhost:8080/",
          "height": 334
        }
      },
      "source": [
        "import numpy as np\n",
        "error = test_predictions - test_labels\n",
        "error2 = error**2\n",
        "\n",
        "plt.hist(error, bins = 30)\n",
        "plt.xlabel(\"Prediction Error [K]\")\n",
        "_ = plt.ylabel(\"Count\")\n",
        "\n",
        "MeanAbsError = np.abs(error).mean()\n",
        "MeanSQError = error2.mean()\n",
        "\n",
        "print('Tiempo de Ejecución:', t_ejecucion)\n",
        "print('Error Absoluto Medio:', MeanAbsError)\n",
        "print('Error Cuadrático Medio:', MeanSQError)"
      ],
      "execution_count": 182,
      "outputs": [
        {
          "output_type": "stream",
          "text": [
            "Tiempo de Ejecución: 284.43244218826294\n",
            "Error Absoluto Medio: 344.7810390625\n",
            "Error Cuadrático Medio: 414678.50633327913\n"
          ],
          "name": "stdout"
        },
        {
          "output_type": "display_data",
          "data": {
            "image/png": "[encoded data removed]",
            "text/plain": [
              "<Figure size 432x288 with 1 Axes>"
            ]
          },
          "metadata": {
            "tags": []
          }
        }
      ]
    }
  ]
}