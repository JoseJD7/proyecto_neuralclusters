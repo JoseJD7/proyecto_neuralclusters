{
  "nbformat": 4,
  "nbformat_minor": 0,
  "metadata": {
    "colab": {
      "name": "Neural Clusters.ipynb ",
      "version": "0.3.2",
      "provenance": [],
      "collapsed_sections": [],
      "toc_visible": true,
      "include_colab_link": true
    },
    "kernelspec": {
      "name": "python3",
      "display_name": "Python 3"
    },
    "accelerator": "GPU"
  },
  "cells": [
    {
      "cell_type": "markdown",
      "metadata": {
        "id": "view-in-github",
        "colab_type": "text"
      },
      "source": [
        "<a href=\"https://colab.research.google.com/github/astrodatos/proyecto_neuralclusters/blob/master/Neural_Clusters.ipynb\" target=\"_parent\"><img src=\"https://colab.research.google.com/assets/colab-badge.svg\" alt=\"Open In Colab\"/></a>"
      ]
    },
    {
      "cell_type": "markdown",
      "metadata": {
        "id": "ILrFj60aE-XA",
        "colab_type": "text"
      },
      "source": [
        "Se predecirá la temperatura efectiva de una estrella a través de sus magnitudes absolutas en cinco bandas fotométricas (problema de regresión). Se ha utilizado la base de datos del SDSS, consultando el mismo a través de astroquery."
      ]
    },
    {
      "cell_type": "code",
      "metadata": {
        "id": "_3BVRc6M-Ci8",
        "colab_type": "code",
        "colab": {
          "base_uri": "https://localhost:8080/",
          "height": 102
        },
        "outputId": "32fa8522-a323-49d7-91b1-4d5ba6ff9313"
      },
      "source": [
        "!pip install --pre --quiet astroquery"
      ],
      "execution_count": 1,
      "outputs": [
        {
          "output_type": "stream",
          "text": [
            "\u001b[K     |████████████████████████████████| 4.3MB 3.4MB/s \n",
            "\u001b[K     |████████████████████████████████| 2.3MB 32.1MB/s \n",
            "\u001b[K     |████████████████████████████████| 61kB 24.2MB/s \n",
            "\u001b[K     |████████████████████████████████| 102kB 32.4MB/s \n",
            "\u001b[?25h  Building wheel for astroquery (setup.py) ... \u001b[?25l\u001b[?25hdone\n"
          ],
          "name": "stdout"
        }
      ]
    },
    {
      "cell_type": "code",
      "metadata": {
        "id": "t5_yOjQBE4gz",
        "colab_type": "code",
        "outputId": "a5528aff-f858-45d4-ad8f-225396144f8a",
        "colab": {
          "base_uri": "https://localhost:8080/",
          "height": 34
        }
      },
      "source": [
        "from __future__ import absolute_import, division, print_function, unicode_literals\n",
        "\n",
        "from time import time\n",
        "from astroquery.sdss import SDSS\n",
        "\n",
        "import matplotlib.pyplot as plt\n",
        "import pandas as pd\n",
        "import seaborn as sns\n",
        "\n",
        "import tensorflow as tf\n",
        "from tensorflow import keras\n",
        "from tensorflow.keras import layers\n",
        "\n",
        "\n",
        "print(tf.__version__)"
      ],
      "execution_count": 69,
      "outputs": [
        {
          "output_type": "stream",
          "text": [
            "1.14.0-rc1\n"
          ],
          "name": "stdout"
        }
      ]
    },
    {
      "cell_type": "markdown",
      "metadata": {
        "id": "hnipyp1PEwNi",
        "colab_type": "text"
      },
      "source": [
        "## Datos del SDSS\n",
        "\n",
        "Disponible en enlace\n",
        "### Consulta con astroquery\n",
        "\n"
      ]
    },
    {
      "cell_type": "code",
      "metadata": {
        "id": "l3cvu2Kj-iOB",
        "colab_type": "code",
        "colab": {}
      },
      "source": [
        "t_ini = time()\n",
        "\n",
        "data = SDSS.query_sql(\"\"\"SELECT TOP 5000\n",
        "                      p.fiberMag_u, p.fiberMag_g, p.fiberMag_r, p.fiberMag_i, \n",
        "                      p.fiberMag_z,s.elodieTEff\n",
        "                   \n",
        "                      \n",
        "                      FROM PhotoObjAll AS p JOIN specObjAll s ON s.bestobjid = p.objid\n",
        "                      \n",
        "                      WHERE p.mode = 1 AND s.sciencePrimary = 1 AND p.clean = 1 AND s.class != 'QSO' AND s.class !='GALAXY'\n",
        "                      \n",
        "                      \"\"\")"
      ],
      "execution_count": 0,
      "outputs": []
    },
    {
      "cell_type": "code",
      "metadata": {
        "id": "aYU1l2WHCUJI",
        "colab_type": "code",
        "outputId": "724f06cc-7527-4c09-a200-afcee2833be2",
        "colab": {
          "base_uri": "https://localhost:8080/",
          "height": 1000
        }
      },
      "source": [
        "datapd=data.to_pandas()\n",
        "print(datapd)"
      ],
      "execution_count": 161,
      "outputs": [
        {
          "output_type": "stream",
          "text": [
            "      fiberMag_u  fiberMag_g  fiberMag_r  fiberMag_i  fiberMag_z  elodieTEff\n",
            "0       19.97522    18.29667    17.63645    17.41323    17.28637        5059\n",
            "1       18.54812    17.42075    16.99692    16.81944    16.74287        5720\n",
            "2       18.92459    17.60666    17.11381    16.92150    16.82598        5467\n",
            "3       20.52509    18.30592    17.47765    17.19801    17.04544        4775\n",
            "4       19.01954    17.86671    17.52623    17.40356    17.30230        6162\n",
            "5       21.77839    18.90348    17.48030    16.04839    15.14471        3717\n",
            "6       19.60481    17.88959    17.24570    17.03980    16.81905        5059\n",
            "7       22.02673    19.01092    17.56478    16.65598    16.03874        3980\n",
            "8       19.65194    18.38753    18.03152    17.92039    17.78299        6038\n",
            "9       21.44282    18.97859    17.92464    17.44443    17.08808        4382\n",
            "10      20.45667    18.36052    17.55198    17.28331    17.02710        4576\n",
            "11      21.36427    18.87977    17.85104    17.38925    17.10785        4382\n",
            "12      20.36782    18.40262    17.63971    17.32741    17.14638        4576\n",
            "13      21.77835    19.11312    17.77671    16.89851    16.35259        3980\n",
            "14      21.43579    18.77524    17.40332    16.50268    15.95545        3980\n",
            "15      19.39036    17.78195    17.12362    16.78431    16.62154        4752\n",
            "16      21.00863    18.74474    17.83494    17.42765    17.18938        4576\n",
            "17      21.13228    18.63496    17.31616    16.46415    15.99797        3980\n",
            "18      21.56895    18.94625    17.61383    16.42685    15.79147        3717\n",
            "19      19.84889    18.46914    17.93873    17.65624    17.55170        5285\n",
            "20      19.99367    18.92343    18.62373    18.38624    18.32820        5961\n",
            "21      19.14634    17.64593    17.24301    17.12699    17.03423        5671\n",
            "22      19.00256    17.77073    17.55224    17.51521    17.44563        6275\n",
            "23      21.26666    18.82219    17.83376    17.50123    17.22086        4382\n",
            "24      20.33092    18.52378    17.89413    17.67120    17.45127        4760\n",
            "25      20.24409    18.45536    17.86643    17.70257    17.50416        5059\n",
            "26      20.50533    18.31727    17.53656    17.24785    16.99806        4800\n",
            "27      18.61382    17.61561    17.37347    17.28951    17.17084        7134\n",
            "28      19.63259    18.37005    17.91567    17.69869    17.52483        5324\n",
            "29      21.73395    18.97115    17.80730    17.27545    16.88582        3890\n",
            "...          ...         ...         ...         ...         ...         ...\n",
            "4970    18.76558    17.58669    17.15728    17.00347    16.93922        5651\n",
            "4971    24.22253    21.32663    19.66987    17.64986    16.45655        3717\n",
            "4972    20.38054    18.76303    18.12572    17.82245    17.64492        5059\n",
            "4973    20.44569    18.79177    18.09403    17.79455    17.64686        5059\n",
            "4974    20.81160    18.01820    16.63503    15.97157    15.57158        3890\n",
            "4975    19.02595    17.75927    17.58377    17.53433    17.49998        7000\n",
            "4976    24.17623    26.15056    23.06062    21.28274    19.64940        4000\n",
            "4977    23.41359    21.85456    21.18625    20.23558    20.10500        4955\n",
            "4978    22.29785    19.54102    18.11263    17.23231    16.72820        3980\n",
            "4979    20.62172    19.09663    17.97175    17.30510    16.91629        3980\n",
            "4980    19.64596    18.33777    18.06775    17.99387    17.98161        7000\n",
            "4981    18.34118    18.69571    19.16131    19.50384    19.83388        9640\n",
            "4982    19.13523    16.88668    15.95889    15.55836    15.54649        4528\n",
            "4983    18.83283    17.57851    17.05603    16.84865    16.76046        5630\n",
            "4984    18.81843    17.54568    17.07001    16.92596    16.80026        5661\n",
            "4985    20.34191    19.24152    19.14968    19.17188    19.25491        7500\n",
            "4986    18.54634    17.34746    16.90275    16.73968    16.66780        6000\n",
            "4987    18.94152    17.97186    17.59259    17.42232    17.34609        6000\n",
            "4988    20.22077    19.17484    19.00036    18.98392    18.89840        7500\n",
            "4989    18.61941    17.67948    17.78477    17.88771    17.97997        8500\n",
            "4990    18.15459    18.21988    18.65044    18.94314    19.16569        7500\n",
            "4991    23.87680    24.50532    22.98687    20.22727    18.46035        3717\n",
            "4992    19.35924    18.10230    17.87205    17.78526    17.73110        7000\n",
            "4993    17.66144    16.44053    16.34097    16.30750    16.29324        8500\n",
            "4994    17.17323    15.99920    15.81929    15.79140    15.81388        7500\n",
            "4995    19.69547    18.32724    17.78960    17.58884    17.50892        5575\n",
            "4996    19.68927    18.54584    18.46968    18.51465    18.53205        7439\n",
            "4997    18.72392    17.52559    17.42243    17.46795    17.45076        7500\n",
            "4998    19.63075    17.72333    16.96684    16.63500    16.45866        4955\n",
            "4999    24.80696    22.46190    20.99689    19.39494    18.55128        3717\n",
            "\n",
            "[5000 rows x 6 columns]\n"
          ],
          "name": "stdout"
        }
      ]
    },
    {
      "cell_type": "markdown",
      "metadata": {
        "id": "RbqnaZgMEOdV",
        "colab_type": "text"
      },
      "source": [
        "### Separación entre datos de entrenamiento y datos de prueba "
      ]
    },
    {
      "cell_type": "code",
      "metadata": {
        "id": "ytPIaTCAEMqe",
        "colab_type": "code",
        "colab": {}
      },
      "source": [
        "train_datapd = datapd.sample(frac=0.8,random_state=0)\n",
        "test_datapd = datapd.drop(train_datapd.index)\n"
      ],
      "execution_count": 0,
      "outputs": []
    },
    {
      "cell_type": "markdown",
      "metadata": {
        "id": "un9FMCKeEKJk",
        "colab_type": "text"
      },
      "source": [
        "### Chequeo a los datos"
      ]
    },
    {
      "cell_type": "markdown",
      "metadata": {
        "id": "hJMy5AApEEMv",
        "colab_type": "text"
      },
      "source": [
        "Estadísticas:"
      ]
    },
    {
      "cell_type": "code",
      "metadata": {
        "id": "IXMZjr7HEBTf",
        "colab_type": "code",
        "outputId": "31c20ef7-6378-4c4c-cdb5-f767ec9295ab",
        "colab": {
          "base_uri": "https://localhost:8080/",
          "height": 204
        }
      },
      "source": [
        "train_stats = train_datapd.describe()\n",
        "train_stats.pop(\"elodieTEff\")\n",
        "train_stats = train_stats.transpose()\n",
        "train_stats\n"
      ],
      "execution_count": 163,
      "outputs": [
        {
          "output_type": "execute_result",
          "data": {
            "text/html": [
              "<div>\n",
              "<style scoped>\n",
              "    .dataframe tbody tr th:only-of-type {\n",
              "        vertical-align: middle;\n",
              "    }\n",
              "\n",
              "    .dataframe tbody tr th {\n",
              "        vertical-align: top;\n",
              "    }\n",
              "\n",
              "    .dataframe thead th {\n",
              "        text-align: right;\n",
              "    }\n",
              "</style>\n",
              "<table border=\"1\" class=\"dataframe\">\n",
              "  <thead>\n",
              "    <tr style=\"text-align: right;\">\n",
              "      <th></th>\n",
              "      <th>count</th>\n",
              "      <th>mean</th>\n",
              "      <th>std</th>\n",
              "      <th>min</th>\n",
              "      <th>25%</th>\n",
              "      <th>50%</th>\n",
              "      <th>75%</th>\n",
              "      <th>max</th>\n",
              "    </tr>\n",
              "  </thead>\n",
              "  <tbody>\n",
              "    <tr>\n",
              "      <th>fiberMag_u</th>\n",
              "      <td>4000.0</td>\n",
              "      <td>18.031618</td>\n",
              "      <td>158.437985</td>\n",
              "      <td>-9999.00000</td>\n",
              "      <td>18.921820</td>\n",
              "      <td>20.107020</td>\n",
              "      <td>22.036257</td>\n",
              "      <td>26.29402</td>\n",
              "    </tr>\n",
              "    <tr>\n",
              "      <th>fiberMag_g</th>\n",
              "      <td>4000.0</td>\n",
              "      <td>16.699372</td>\n",
              "      <td>158.414264</td>\n",
              "      <td>-9999.00000</td>\n",
              "      <td>17.807730</td>\n",
              "      <td>18.869925</td>\n",
              "      <td>20.299855</td>\n",
              "      <td>26.15056</td>\n",
              "    </tr>\n",
              "    <tr>\n",
              "      <th>fiberMag_r</th>\n",
              "      <td>4000.0</td>\n",
              "      <td>18.582139</td>\n",
              "      <td>1.695386</td>\n",
              "      <td>13.08655</td>\n",
              "      <td>17.338203</td>\n",
              "      <td>18.344810</td>\n",
              "      <td>19.764685</td>\n",
              "      <td>23.61842</td>\n",
              "    </tr>\n",
              "    <tr>\n",
              "      <th>fiberMag_i</th>\n",
              "      <td>4000.0</td>\n",
              "      <td>15.644923</td>\n",
              "      <td>158.391732</td>\n",
              "      <td>-9999.00000</td>\n",
              "      <td>17.014040</td>\n",
              "      <td>18.074505</td>\n",
              "      <td>19.300670</td>\n",
              "      <td>23.00798</td>\n",
              "    </tr>\n",
              "    <tr>\n",
              "      <th>fiberMag_z</th>\n",
              "      <td>4000.0</td>\n",
              "      <td>15.414419</td>\n",
              "      <td>158.388190</td>\n",
              "      <td>-9999.00000</td>\n",
              "      <td>16.846360</td>\n",
              "      <td>17.820725</td>\n",
              "      <td>18.824245</td>\n",
              "      <td>22.68608</td>\n",
              "    </tr>\n",
              "  </tbody>\n",
              "</table>\n",
              "</div>"
            ],
            "text/plain": [
              "             count       mean         std  ...        50%        75%       max\n",
              "fiberMag_u  4000.0  18.031618  158.437985  ...  20.107020  22.036257  26.29402\n",
              "fiberMag_g  4000.0  16.699372  158.414264  ...  18.869925  20.299855  26.15056\n",
              "fiberMag_r  4000.0  18.582139    1.695386  ...  18.344810  19.764685  23.61842\n",
              "fiberMag_i  4000.0  15.644923  158.391732  ...  18.074505  19.300670  23.00798\n",
              "fiberMag_z  4000.0  15.414419  158.388190  ...  17.820725  18.824245  22.68608\n",
              "\n",
              "[5 rows x 8 columns]"
            ]
          },
          "metadata": {
            "tags": []
          },
          "execution_count": 163
        }
      ]
    },
    {
      "cell_type": "markdown",
      "metadata": {
        "id": "MAH7deWED8tk",
        "colab_type": "text"
      },
      "source": [
        "### Separacaión entre atributos y etiquetas\n",
        "\n",
        "En este caso, la temperatura es la etiqueta, mientras que los atributos son las magnitudes absolutas en cinco bandas fotométricas."
      ]
    },
    {
      "cell_type": "code",
      "metadata": {
        "id": "1PsmBwsvD55i",
        "colab_type": "code",
        "colab": {}
      },
      "source": [
        "train_labels = train_datapd.pop('elodieTEff')\n",
        "test_labels = test_datapd.pop('elodieTEff')\n",
        "\n",
        "train_feat = train_datapd\n",
        "test_feat = test_datapd\n"
      ],
      "execution_count": 0,
      "outputs": []
    },
    {
      "cell_type": "markdown",
      "metadata": {
        "id": "Q2fH1vq7D1Tw",
        "colab_type": "text"
      },
      "source": [
        "### Normalización de los datos\n"
      ]
    },
    {
      "cell_type": "code",
      "metadata": {
        "id": "lgbVr0RWSsom",
        "colab_type": "code",
        "colab": {}
      },
      "source": [
        "#norm train label\n",
        "def norm(x):\n",
        "  r=(x-x.mean())/x.std()\n",
        "  return r"
      ],
      "execution_count": 0,
      "outputs": []
    },
    {
      "cell_type": "code",
      "metadata": {
        "id": "mWW9QfEXDxnA",
        "colab_type": "code",
        "outputId": "6e6e1513-5145-4787-9080-2658434f5719",
        "colab": {
          "base_uri": "https://localhost:8080/",
          "height": 1000
        }
      },
      "source": [
        "\n",
        "#normtest_temp=tf.keras.utils.normalize(test_labels,axis=0)\n",
        "train_mean=train_labels.mean()\n",
        "train_std=train_labels.std()\n",
        "\n",
        "\n",
        "norm_train_labels=(train_labels-train_mean)/train_std\n",
        "norm_train_feat = (train_feat - train_feat.mean())/train_feat.std()\n",
        "print(norm_train_labels)"
      ],
      "execution_count": 166,
      "outputs": [
        {
          "output_type": "stream",
          "text": [
            "398    -0.464921\n",
            "3833   -1.189049\n",
            "4836    1.901073\n",
            "4572   -1.189049\n",
            "636    -1.106576\n",
            "2545    0.290208\n",
            "1161   -0.800079\n",
            "2230   -1.193144\n",
            "148     1.901073\n",
            "2530    0.146319\n",
            "4070   -1.189049\n",
            "1261   -0.026817\n",
            "4682   -0.464921\n",
            "333    -0.800079\n",
            "906    -1.106576\n",
            "3170    0.146319\n",
            "483    -0.438600\n",
            "2825    1.608614\n",
            "1778    1.229587\n",
            "2466    1.023696\n",
            "159    -1.189049\n",
            "1563   -1.189049\n",
            "402     1.023696\n",
            "4258   -0.800079\n",
            "4775   -0.160179\n",
            "1095   -0.800079\n",
            "3054   -1.189049\n",
            "4268   -1.190804\n",
            "3711    1.112603\n",
            "453    -1.045745\n",
            "          ...   \n",
            "4198    0.146319\n",
            "1534    0.146319\n",
            "2336    0.731237\n",
            "3946   -1.189049\n",
            "3850   -0.800079\n",
            "3492    0.146319\n",
            "2305    0.146319\n",
            "960    -0.822891\n",
            "3313    2.426914\n",
            "1164    1.023696\n",
            "371    -0.800079\n",
            "1306   -1.189049\n",
            "2993   -1.189049\n",
            "4145    1.129566\n",
            "3541    1.023696\n",
            "1575    0.062675\n",
            "3742    0.146319\n",
            "1484    2.193532\n",
            "3834   -1.189049\n",
            "2548   -1.190804\n",
            "4749   -1.189049\n",
            "1858   -0.686605\n",
            "258    -0.101687\n",
            "3835   -1.189049\n",
            "769    -0.271898\n",
            "2061   -1.189049\n",
            "4211    1.023696\n",
            "2018   -1.106576\n",
            "3940    1.023696\n",
            "4550   -1.106576\n",
            "Name: elodieTEff, Length: 4000, dtype: float64\n"
          ],
          "name": "stdout"
        }
      ]
    },
    {
      "cell_type": "markdown",
      "metadata": {
        "id": "Di-_dkBrDrul",
        "colab_type": "text"
      },
      "source": [
        "Se utilizarán los datos normalizados para entrenar el modelo.\n"
      ]
    },
    {
      "cell_type": "markdown",
      "metadata": {
        "id": "p9KUKRQFDlPn",
        "colab_type": "text"
      },
      "source": [
        "## El modelo\n",
        "\n",
        "### Estructura de la red neuronal\n",
        "\n",
        "Modelo Secuencial"
      ]
    },
    {
      "cell_type": "code",
      "metadata": {
        "id": "Asg0O1TLDjAy",
        "colab_type": "code",
        "colab": {}
      },
      "source": [
        "def build_model():\n",
        "  model = keras.Sequential([\n",
        "    layers.Dense(1, activation=tf.nn.tanh, input_shape=[len(train_datapd.keys())]),\n",
        "    #layers.Dense(5, activation=tf.nn.tanh),\n",
        "    #layers.Dense(4, activation=tf.nn.relu),\n",
        "    layers.Dense(1)\n",
        "  ])\n",
        "\n",
        "  optimizer = tf.keras.optimizers.RMSprop(0.001)\n",
        "\n",
        "  model.compile(loss='mean_squared_error',\n",
        "                optimizer=optimizer,\n",
        "                metrics=['mean_absolute_error', 'mean_squared_error'])\n",
        "  return model\n",
        "\n",
        "model = build_model()"
      ],
      "execution_count": 0,
      "outputs": []
    },
    {
      "cell_type": "markdown",
      "metadata": {
        "id": "-LaH9J7aDb1B",
        "colab_type": "text"
      },
      "source": [
        "### Inspección del modelo"
      ]
    },
    {
      "cell_type": "code",
      "metadata": {
        "id": "eMeilODVDZ8L",
        "colab_type": "code",
        "outputId": "be03e7cd-4d23-49f5-a8ba-a16e118cecf4",
        "colab": {
          "base_uri": "https://localhost:8080/",
          "height": 221
        }
      },
      "source": [
        "model.summary()"
      ],
      "execution_count": 168,
      "outputs": [
        {
          "output_type": "stream",
          "text": [
            "Model: \"sequential_10\"\n",
            "_________________________________________________________________\n",
            "Layer (type)                 Output Shape              Param #   \n",
            "=================================================================\n",
            "dense_13 (Dense)             (None, 1)                 6         \n",
            "_________________________________________________________________\n",
            "dense_14 (Dense)             (None, 1)                 2         \n",
            "=================================================================\n",
            "Total params: 8\n",
            "Trainable params: 8\n",
            "Non-trainable params: 0\n",
            "_________________________________________________________________\n"
          ],
          "name": "stdout"
        }
      ]
    },
    {
      "cell_type": "markdown",
      "metadata": {
        "id": "elZqEAdBDKF8",
        "colab_type": "text"
      },
      "source": [
        "### Entrenamiento del modelo"
      ]
    },
    {
      "cell_type": "code",
      "metadata": {
        "id": "bW0KSl6iDHb0",
        "colab_type": "code",
        "outputId": "c5eb208e-d7f4-4753-c327-e2492c668843",
        "colab": {
          "base_uri": "https://localhost:8080/",
          "height": 204
        }
      },
      "source": [
        "# Display training progress by printing a single dot for each completed epoch\n",
        "class PrintDot(keras.callbacks.Callback):\n",
        "  def on_epoch_end(self, epoch, logs):\n",
        "    if epoch % 100 == 0: print('')\n",
        "    print('.', end='')\n",
        "\n",
        "EPOCHS = 1000\n",
        "\n",
        "history = model.fit(\n",
        "  norm_train_feat, norm_train_labels,\n",
        "  epochs=EPOCHS, validation_split = 0.2, verbose=0,\n",
        "  callbacks=[PrintDot()])"
      ],
      "execution_count": 169,
      "outputs": [
        {
          "output_type": "stream",
          "text": [
            "\n",
            "....................................................................................................\n",
            "....................................................................................................\n",
            "....................................................................................................\n",
            "....................................................................................................\n",
            "....................................................................................................\n",
            "....................................................................................................\n",
            "....................................................................................................\n",
            "....................................................................................................\n",
            "....................................................................................................\n",
            "...................................................................................................."
          ],
          "name": "stdout"
        }
      ]
    },
    {
      "cell_type": "code",
      "metadata": {
        "id": "iCfiUeLJUVFH",
        "colab_type": "code",
        "colab": {}
      },
      "source": [
        "def desnorm(dato, media, std):\n",
        "  datonuevo = dato*std + media\n",
        "  return datonuevo\n",
        "  "
      ],
      "execution_count": 0,
      "outputs": []
    },
    {
      "cell_type": "markdown",
      "metadata": {
        "id": "iRMaIjLWDCKA",
        "colab_type": "text"
      },
      "source": [
        "Visualize the model's training progress using the stats stored in the `history` object."
      ]
    },
    {
      "cell_type": "code",
      "metadata": {
        "id": "UHXhcQ-sDAN7",
        "colab_type": "code",
        "outputId": "05045a6d-a1ed-4016-f6f3-905b9f871efb",
        "colab": {
          "base_uri": "https://localhost:8080/",
          "height": 566
        }
      },
      "source": [
        "hist = pd.DataFrame(history.history)\n",
        "hist['epoch'] = history.epoch\n",
        "hist.tail()\n",
        "\n",
        "print(history)\n",
        "\n",
        "def plot_history(history):\n",
        "  hist = pd.DataFrame(history.history)\n",
        "  hist['epoch'] = history.epoch\n",
        "\n",
        "  plt.figure()\n",
        "  plt.xlabel('Epoch')\n",
        "  plt.ylabel('Mean Abs Error [K]')\n",
        "  plt.plot(hist['epoch'], hist['mean_absolute_error'],\n",
        "           label='Train Error')\n",
        "  plt.plot(hist['epoch'], hist['val_mean_absolute_error'],\n",
        "           label = 'Val Error')\n",
        "  plt.ylim([0,5])\n",
        "  plt.legend()\n",
        "\n",
        "  plt.figure()\n",
        "  plt.xlabel('Epoch')\n",
        "  plt.ylabel('Mean Square Error [$K^2$]')\n",
        "  plt.plot(hist['epoch'], hist['mean_squared_error'],\n",
        "           label='Train Error')\n",
        "  plt.plot(hist['epoch'], hist['val_mean_squared_error'],\n",
        "           label = 'Val Error')\n",
        "  #plt.ylim([0,20])\n",
        "  plt.legend()\n",
        "  plt.show()\n",
        "\n",
        "\n",
        "plot_history(history)"
      ],
      "execution_count": 171,
      "outputs": [
        {
          "output_type": "stream",
          "text": [
            "<tensorflow.python.keras.callbacks.History object at 0x7fe240058c18>\n"
          ],
          "name": "stdout"
        },
        {
          "output_type": "display_data",
          "data": {
            "image/png": "[encoded data removed]",
            "text/plain": [
              "<Figure size 432x288 with 1 Axes>"
            ]
          },
          "metadata": {
            "tags": []
          }
        },
        {
          "output_type": "display_data",
          "data": {
            "image/png": "[encoded data removed]",
            "text/plain": [
              "<Figure size 432x288 with 1 Axes>"
            ]
          },
          "metadata": {
            "tags": []
          }
        }
      ]
    },
    {
      "cell_type": "markdown",
      "metadata": {
        "id": "TlWek3M3CxZb",
        "colab_type": "text"
      },
      "source": [
        "This graph shows little improvement, or even degradation in the validation error after about 100 epochs. Let's update the `model.fit` call to automatically stop training when the validation score doesn't improve. We'll use an *EarlyStopping callback* that tests a training condition for  every epoch. If a set amount of epochs elapses without showing improvement, then automatically stop the training.\n",
        "\n",
        "You can learn more about this callback [here](https://www.tensorflow.org/versions/master/api_docs/python/tf/keras/callbacks/EarlyStopping)."
      ]
    },
    {
      "cell_type": "code",
      "metadata": {
        "id": "ywa8UpMYCvNc",
        "colab_type": "code",
        "colab": {}
      },
      "source": [
        "#model = build_model()\n",
        "\n",
        "# The patience parameter is the amount of epochs to check for improvement\n",
        "#early_stop = keras.callbacks.EarlyStopping(monitor='val_loss', patience=10)\n",
        "\n",
        "#history = model.fit(norm_train_feat, train_labels, epochs=EPOCHS,\n",
        "#                    validation_split = 0.2, verbose=0, callbacks=[early_stop, PrintDot()])\n",
        "#print(history)\n",
        "#plot_history(history)"
      ],
      "execution_count": 0,
      "outputs": []
    },
    {
      "cell_type": "code",
      "metadata": {
        "id": "P-08c5XBCl7I",
        "colab_type": "code",
        "outputId": "6330992c-d057-456b-afb3-a76b4ee92f9a",
        "colab": {
          "base_uri": "https://localhost:8080/",
          "height": 34
        }
      },
      "source": [
        "norm_test_feat = (test_feat-test_feat.mean())/test_feat.std()\n",
        "norm_test_labels = (test_labels-test_labels.mean())/test_labels.std()\n",
        "\n",
        "\n",
        "loss, mae, mse = model.evaluate(norm_test_feat, norm_test_labels, verbose=0)\n",
        "\n",
        "print(\"Testing set Mean Abs Error: {:5.2f}\".format(mae))"
      ],
      "execution_count": 173,
      "outputs": [
        {
          "output_type": "stream",
          "text": [
            "Testing set Mean Abs Error:  8.11\n"
          ],
          "name": "stdout"
        }
      ]
    },
    {
      "cell_type": "markdown",
      "metadata": {
        "id": "T3FTCj6gChEg",
        "colab_type": "text"
      },
      "source": [
        "### Make predictions\n",
        "\n",
        "Finally, predict Temperature values using data in the testing set:"
      ]
    },
    {
      "cell_type": "code",
      "metadata": {
        "id": "go8xaaLkCdxN",
        "colab_type": "code",
        "outputId": "9b2b7923-9fe8-4203-b034-ec1005fcdff3",
        "colab": {
          "base_uri": "https://localhost:8080/",
          "height": 300
        }
      },
      "source": [
        "#print(norm_test_labels)\n",
        "\n",
        "test_predictions = model.predict(norm_test_feat).flatten()\n",
        "#print(test_predictions)\n",
        "\n",
        "test_predictions = desnorm(test_predictions, train_mean, train_std)\n",
        "\n",
        "plt.scatter(test_labels, test_predictions, color='red')\n",
        "plt.plot([0 , 12500], [0, 12500])\n",
        "plt.xlabel('True Values [K]')\n",
        "plt.ylabel('Predictions [K]')\n",
        "plt.axis('equal')\n",
        "plt.axis('square')\n",
        "#plt.xlim([0,plt.xlim()[1]])\n",
        "#plt.ylim([0,100])\n",
        "#plt.ylim([0,plt.ylim()[1]])\n",
        "#_ = plt.plot([-100, 100], [-100, 100])"
      ],
      "execution_count": 174,
      "outputs": [
        {
          "output_type": "execute_result",
          "data": {
            "text/plain": [
              "(-625.0, 31467.558282888378, -7486.743008631691, 24605.81527425669)"
            ]
          },
          "metadata": {
            "tags": []
          },
          "execution_count": 174
        },
        {
          "output_type": "display_data",
          "data": {
            "image/png": "[encoded data removed]",
            "text/plain": [
              "<Figure size 432x288 with 1 Axes>"
            ]
          },
          "metadata": {
            "tags": []
          }
        }
      ]
    },
    {
      "cell_type": "markdown",
      "metadata": {
        "id": "bBQjihVVCWkc",
        "colab_type": "text"
      },
      "source": [
        "It looks like our model predicts reasonably well. Let's take a look at the error distribution."
      ]
    },
    {
      "cell_type": "code",
      "metadata": {
        "id": "o6Re1hClCN37",
        "colab_type": "code",
        "outputId": "77e571b7-d5b7-44dd-fb19-3d08350de048",
        "colab": {
          "base_uri": "https://localhost:8080/",
          "height": 300
        }
      },
      "source": [
        "error = test_predictions - test_labels\n",
        "plt.hist(error, bins = 200)\n",
        "plt.xlabel(\"Prediction Error [K]\")\n",
        "_ = plt.ylabel(\"Count\")\n",
        "\n",
        "t_fin = time()\n",
        "\n",
        "print(t_fin - t_ini)"
      ],
      "execution_count": 175,
      "outputs": [
        {
          "output_type": "stream",
          "text": [
            "245.32165002822876\n"
          ],
          "name": "stdout"
        },
        {
          "output_type": "display_data",
          "data": {
            "image/png": "[encoded data removed]",
            "text/plain": [
              "<Figure size 432x288 with 1 Axes>"
            ]
          },
          "metadata": {
            "tags": []
          }
        }
      ]
    }
  ]
}