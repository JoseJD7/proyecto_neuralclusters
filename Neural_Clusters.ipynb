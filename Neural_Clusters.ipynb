{
  "nbformat": 4,
  "nbformat_minor": 0,
  "metadata": {
    "colab": {
      "name": "Neural Clusters.ipynb ",
      "version": "0.3.2",
      "provenance": [],
      "collapsed_sections": [],
      "include_colab_link": true
    },
    "kernelspec": {
      "name": "python3",
      "display_name": "Python 3"
    },
    "accelerator": "GPU"
  },
  "cells": [
    {
      "cell_type": "markdown",
      "metadata": {
        "id": "view-in-github",
        "colab_type": "text"
      },
      "source": [
        "<a href=\"https://colab.research.google.com/github/astrodatos/proyecto_neuralclusters/blob/master/Neural_Clusters.ipynb\" target=\"_parent\"><img src=\"https://colab.research.google.com/assets/colab-badge.svg\" alt=\"Open In Colab\"/></a>"
      ]
    },
    {
      "cell_type": "markdown",
      "metadata": {
        "id": "ILrFj60aE-XA",
        "colab_type": "text"
      },
      "source": [
        "In a *regression* problem, we aim to predict the output of a continuous value, like a price or a probability. Contrast this with a *classification* problem, where we aim to select a class from a list of classes (for example, where a picture contains an apple or an orange, recognizing which fruit is in the picture).\n",
        "\n",
        "This notebook uses the classic [Auto MPG](https://archive.ics.uci.edu/ml/datasets/auto+mpg) Dataset and builds a model to predict the fuel efficiency of late-1970s and early 1980s automobiles. To do this, we'll provide the model with a description of many automobiles from that time period. This description includes attributes like: cylinders, displacement, horsepower, and weight.\n",
        "\n",
        "This example uses the `tf.keras` API, see [this guide](https://www.tensorflow.org/guide/keras) for details."
      ]
    },
    {
      "cell_type": "code",
      "metadata": {
        "id": "_3BVRc6M-Ci8",
        "colab_type": "code",
        "colab": {
          "base_uri": "https://localhost:8080/",
          "height": 102
        },
        "outputId": "b7f815da-e238-453a-cd2d-059c78218cc1"
      },
      "source": [
        "!pip install --pre --quiet astroquery"
      ],
      "execution_count": 1,
      "outputs": [
        {
          "output_type": "stream",
          "text": [
            "\u001b[K     |████████████████████████████████| 4.3MB 4.9MB/s \n",
            "\u001b[K     |████████████████████████████████| 61kB 23.6MB/s \n",
            "\u001b[K     |████████████████████████████████| 2.3MB 47.0MB/s \n",
            "\u001b[K     |████████████████████████████████| 102kB 34.6MB/s \n",
            "\u001b[?25h  Building wheel for astroquery (setup.py) ... \u001b[?25l\u001b[?25hdone\n"
          ],
          "name": "stdout"
        }
      ]
    },
    {
      "cell_type": "code",
      "metadata": {
        "id": "t5_yOjQBE4gz",
        "colab_type": "code",
        "outputId": "24cea657-6bf1-4609-9e6a-c44e0b936d6f",
        "colab": {
          "base_uri": "https://localhost:8080/",
          "height": 34
        }
      },
      "source": [
        "from __future__ import absolute_import, division, print_function, unicode_literals\n",
        "\n",
        "import pathlib\n",
        "from astroquery.sdss import SDSS\n",
        "\n",
        "import matplotlib.pyplot as plt\n",
        "import pandas as pd\n",
        "import seaborn as sns\n",
        "\n",
        "import tensorflow as tf\n",
        "from tensorflow import keras\n",
        "from tensorflow.keras import layers\n",
        "\n",
        "print(tf.__version__)"
      ],
      "execution_count": 5,
      "outputs": [
        {
          "output_type": "stream",
          "text": [
            "1.13.1\n"
          ],
          "name": "stdout"
        }
      ]
    },
    {
      "cell_type": "markdown",
      "metadata": {
        "id": "hnipyp1PEwNi",
        "colab_type": "text"
      },
      "source": [
        "## The Auto MPG dataset\n",
        "\n",
        "The dataset is available from the [UCI Machine Learning Repository](https://archive.ics.uci.edu/ml/).\n",
        "\n",
        "### Get the data\n",
        "First download the dataset.-"
      ]
    },
    {
      "cell_type": "code",
      "metadata": {
        "id": "l3cvu2Kj-iOB",
        "colab_type": "code",
        "colab": {}
      },
      "source": [
        "data = SDSS.query_sql(\"\"\"SELECT TOP 1000\n",
        "                      p.fiberMag_u, p.fiberMag_g, p.fiberMag_r, p.fiberMag_i, \n",
        "                      p.fiberMag_z,s.elodieTEff\n",
        "                   \n",
        "                      \n",
        "                      FROM PhotoObjAll AS p JOIN specObjAll s ON s.bestobjid = p.objid\n",
        "                      \n",
        "                      WHERE p.mode = 1 AND s.sciencePrimary = 1 AND p.clean = 1 AND s.class != 'QSO' AND s.class !='GALAXY'\n",
        "                      \n",
        "                      \"\"\")"
      ],
      "execution_count": 0,
      "outputs": []
    },
    {
      "cell_type": "code",
      "metadata": {
        "id": "aYU1l2WHCUJI",
        "colab_type": "code",
        "outputId": "37b8bfff-32a9-48c0-8b88-4dcca81f95cf",
        "colab": {
          "base_uri": "https://localhost:8080/",
          "height": 1105
        }
      },
      "source": [
        "datapd=data.to_pandas()\n",
        "print(datapd)"
      ],
      "execution_count": 175,
      "outputs": [
        {
          "output_type": "stream",
          "text": [
            "     fiberMag_u  fiberMag_g  fiberMag_r  fiberMag_i  fiberMag_z  elodieTEff\n",
            "0      21.52917    19.09319    18.01462    17.60681    17.33898        4382\n",
            "1      20.24847    18.08948    17.24210    16.94940    16.77840        4775\n",
            "2      20.50707    17.88780    16.45028    15.62309    15.15278        3980\n",
            "3      19.21585    18.29644    18.04498    17.95963    17.87761        6500\n",
            "4      20.53941    18.63273    17.78938    17.43530    17.19667        4576\n",
            "5      20.32361    18.34216    17.48170    17.17563    16.96933        4576\n",
            "6      20.93198    18.45241    17.39100    17.02799    16.80039        4246\n",
            "7      17.93577    16.81591    16.34029    16.17065    16.06013        5651\n",
            "8      20.64200    18.28629    16.88792    15.63043    14.94003        3717\n",
            "9      19.17190    17.14279    16.31588    15.93594    15.67325        4775\n",
            "10     19.76383    18.05365    17.33277    17.02597    16.81081        5059\n",
            "11     21.76395    19.24544    17.81715    16.86257    16.31493        3717\n",
            "12     17.97631    16.81349    16.38983    16.24836    16.16851        5841\n",
            "13     18.87934    17.47460    16.96450    16.77823    16.67102        5320\n",
            "14     18.38384    17.11728    16.59571    16.39894    16.27718        5320\n",
            "15     20.88978    19.75250    19.34466    19.15267    19.13600        6000\n",
            "16     18.85171    17.57606    17.33468    17.30843    17.30993        6767\n",
            "17     20.79547    20.34684    20.42363    20.69379    20.75493        9000\n",
            "18     18.48363    17.32671    17.10680    17.04888    17.02148        7500\n",
            "19     18.80677    17.49499    16.96812    16.74055    16.61747        5373\n",
            "20     20.23699    18.61879    17.92719    17.67915    17.52858        5261\n",
            "21     25.30802    21.51394    19.79235    18.53923    17.81584        3717\n",
            "22     24.09656    22.07247    20.35608    19.50373    18.98594        3980\n",
            "23     24.59395    22.92837    21.23718    19.66127    18.67754        3717\n",
            "24     17.33232    16.26274    16.12629    16.09743    16.14688        7134\n",
            "25     18.25354    17.14472    16.78560    16.66733    16.64542        5873\n",
            "26     21.31833    19.34572    18.14537    17.31917    16.82347        3717\n",
            "27     17.43260    16.20384    15.73885    15.58286    15.48294        5762\n",
            "28     19.42545    18.11613    17.52336    17.28769    17.21280        5720\n",
            "29     17.67728    16.69032    16.36363    16.21961    16.15120        7235\n",
            "..          ...         ...         ...         ...         ...         ...\n",
            "970    19.08476    18.15627    17.86686    17.75354    17.68731        6500\n",
            "971    18.32316    17.34836    17.02537    16.88836    16.86504        6500\n",
            "972    18.17825    16.96347    16.45187    16.25717    16.18175        5613\n",
            "973    20.52262    19.39540    19.28686    19.30368    19.33339        7500\n",
            "974    19.68033    18.41419    17.93227    17.76736    17.70828        5651\n",
            "975    20.47014    19.29798    19.20990    19.21131    19.38380        7500\n",
            "976    21.33730    19.85210    19.58055    19.50639    19.40216        6500\n",
            "977    21.22552    18.74985    17.49340    16.98716    16.69609        4246\n",
            "978    19.05581    17.82142    17.31686    17.12103    17.01318        5613\n",
            "979    19.63088    18.69351    18.48627    18.42447    18.43016        7000\n",
            "980    19.03826    18.04825    17.93329    17.96416    17.97063        7500\n",
            "981    20.05823    19.13846    18.91547    18.87106    18.87195        6000\n",
            "982    19.66778    18.68978    18.59399    18.59744    18.66062        7500\n",
            "983    19.78339    18.62404    17.86375    17.95164    17.86176        5704\n",
            "984    18.65852    17.48677    17.02680    16.86672    16.78266        5704\n",
            "985    17.69498    16.45671    15.97796    15.84711    15.75988        5373\n",
            "986    18.35299    17.92342    18.03633    18.14580    18.32322        7652\n",
            "987    18.75815    17.57060    17.59739    17.70079    17.75258        9000\n",
            "988    21.77906    19.40253    18.03531    17.17459    16.65059        3690\n",
            "989    17.88599    16.74816    16.33235    16.21273    16.15483        5873\n",
            "990    17.22876    16.26143    15.85105    15.67908    15.62302        6000\n",
            "991    20.48705    19.86807    18.69568    18.52267    18.45749        5671\n",
            "992    18.75114    17.71517    17.31179    17.14801    17.08350        6000\n",
            "993    19.29524    18.28348    17.95780    17.84739    17.81592        6500\n",
            "994    19.12337    18.03543    17.57968    17.40248    17.30912        6000\n",
            "995    20.28909    19.09777    18.97375    18.97960    18.96514        6500\n",
            "996    20.03077    19.01807    18.91627    18.90523    18.93507        7500\n",
            "997    20.62703    19.43309    19.54351    19.68599    19.77331        9000\n",
            "998    18.96231    17.62095    17.09506    16.89832    16.83000        5474\n",
            "999    19.82805    18.51773    17.94537    17.71710    17.60837        5320\n",
            "\n",
            "[1000 rows x 6 columns]\n"
          ],
          "name": "stdout"
        }
      ]
    },
    {
      "cell_type": "markdown",
      "metadata": {
        "id": "RbqnaZgMEOdV",
        "colab_type": "text"
      },
      "source": [
        "### Split the data into train and test\n",
        "\n",
        "Now split the dataset into a training set and a test set.\n",
        "\n",
        "We will use the test set in the final evaluation of our model."
      ]
    },
    {
      "cell_type": "code",
      "metadata": {
        "id": "ytPIaTCAEMqe",
        "colab_type": "code",
        "colab": {}
      },
      "source": [
        "train_datapd = datapd.sample(frac=0.8,random_state=0)\n",
        "test_datapd = datapd.drop(train_datapd.index)\n"
      ],
      "execution_count": 0,
      "outputs": []
    },
    {
      "cell_type": "markdown",
      "metadata": {
        "id": "un9FMCKeEKJk",
        "colab_type": "text"
      },
      "source": [
        "### Inspect the data"
      ]
    },
    {
      "cell_type": "markdown",
      "metadata": {
        "id": "hJMy5AApEEMv",
        "colab_type": "text"
      },
      "source": [
        "Look at the overall statistics:"
      ]
    },
    {
      "cell_type": "code",
      "metadata": {
        "id": "IXMZjr7HEBTf",
        "colab_type": "code",
        "outputId": "3f60d56e-827f-458d-c1f4-d47a98b9faed",
        "colab": {
          "base_uri": "https://localhost:8080/",
          "height": 204
        }
      },
      "source": [
        "train_stats = train_datapd.describe()\n",
        "train_stats.pop(\"elodieTEff\")\n",
        "train_stats = train_stats.transpose()\n",
        "train_stats\n"
      ],
      "execution_count": 177,
      "outputs": [
        {
          "output_type": "execute_result",
          "data": {
            "text/html": [
              "<div>\n",
              "<style scoped>\n",
              "    .dataframe tbody tr th:only-of-type {\n",
              "        vertical-align: middle;\n",
              "    }\n",
              "\n",
              "    .dataframe tbody tr th {\n",
              "        vertical-align: top;\n",
              "    }\n",
              "\n",
              "    .dataframe thead th {\n",
              "        text-align: right;\n",
              "    }\n",
              "</style>\n",
              "<table border=\"1\" class=\"dataframe\">\n",
              "  <thead>\n",
              "    <tr style=\"text-align: right;\">\n",
              "      <th></th>\n",
              "      <th>count</th>\n",
              "      <th>mean</th>\n",
              "      <th>std</th>\n",
              "      <th>min</th>\n",
              "      <th>25%</th>\n",
              "      <th>50%</th>\n",
              "      <th>75%</th>\n",
              "      <th>max</th>\n",
              "    </tr>\n",
              "  </thead>\n",
              "  <tbody>\n",
              "    <tr>\n",
              "      <th>fiberMag_u</th>\n",
              "      <td>800.0</td>\n",
              "      <td>20.156985</td>\n",
              "      <td>1.801771</td>\n",
              "      <td>15.83426</td>\n",
              "      <td>18.877605</td>\n",
              "      <td>19.957505</td>\n",
              "      <td>21.242758</td>\n",
              "      <td>25.68168</td>\n",
              "    </tr>\n",
              "    <tr>\n",
              "      <th>fiberMag_g</th>\n",
              "      <td>800.0</td>\n",
              "      <td>18.807970</td>\n",
              "      <td>1.572446</td>\n",
              "      <td>15.04047</td>\n",
              "      <td>17.708652</td>\n",
              "      <td>18.776555</td>\n",
              "      <td>19.666522</td>\n",
              "      <td>25.22467</td>\n",
              "    </tr>\n",
              "    <tr>\n",
              "      <th>fiberMag_r</th>\n",
              "      <td>800.0</td>\n",
              "      <td>18.276944</td>\n",
              "      <td>1.415362</td>\n",
              "      <td>14.88521</td>\n",
              "      <td>17.251848</td>\n",
              "      <td>18.235475</td>\n",
              "      <td>19.205043</td>\n",
              "      <td>23.28613</td>\n",
              "    </tr>\n",
              "    <tr>\n",
              "      <th>fiberMag_i</th>\n",
              "      <td>800.0</td>\n",
              "      <td>17.978168</td>\n",
              "      <td>1.326786</td>\n",
              "      <td>14.74759</td>\n",
              "      <td>17.033437</td>\n",
              "      <td>17.909590</td>\n",
              "      <td>19.018313</td>\n",
              "      <td>21.92784</td>\n",
              "    </tr>\n",
              "    <tr>\n",
              "      <th>fiberMag_z</th>\n",
              "      <td>800.0</td>\n",
              "      <td>17.826347</td>\n",
              "      <td>1.371608</td>\n",
              "      <td>14.69162</td>\n",
              "      <td>16.825660</td>\n",
              "      <td>17.762530</td>\n",
              "      <td>18.767578</td>\n",
              "      <td>22.22213</td>\n",
              "    </tr>\n",
              "  </tbody>\n",
              "</table>\n",
              "</div>"
            ],
            "text/plain": [
              "            count       mean       std  ...        50%        75%       max\n",
              "fiberMag_u  800.0  20.156985  1.801771  ...  19.957505  21.242758  25.68168\n",
              "fiberMag_g  800.0  18.807970  1.572446  ...  18.776555  19.666522  25.22467\n",
              "fiberMag_r  800.0  18.276944  1.415362  ...  18.235475  19.205043  23.28613\n",
              "fiberMag_i  800.0  17.978168  1.326786  ...  17.909590  19.018313  21.92784\n",
              "fiberMag_z  800.0  17.826347  1.371608  ...  17.762530  18.767578  22.22213\n",
              "\n",
              "[5 rows x 8 columns]"
            ]
          },
          "metadata": {
            "tags": []
          },
          "execution_count": 177
        }
      ]
    },
    {
      "cell_type": "markdown",
      "metadata": {
        "id": "MAH7deWED8tk",
        "colab_type": "text"
      },
      "source": [
        "### Split features from labels\n",
        "\n",
        "Separate the target value, or \"label\", from the features. This label is the value that you will train the model to predict."
      ]
    },
    {
      "cell_type": "code",
      "metadata": {
        "id": "1PsmBwsvD55i",
        "colab_type": "code",
        "colab": {}
      },
      "source": [
        "train_labels = train_datapd.pop('elodieTEff')\n",
        "test_labels = test_datapd.pop('elodieTEff')\n",
        "\n",
        "train_feat = train_datapd\n",
        "test_feat = test_datapd\n"
      ],
      "execution_count": 0,
      "outputs": []
    },
    {
      "cell_type": "markdown",
      "metadata": {
        "id": "Q2fH1vq7D1Tw",
        "colab_type": "text"
      },
      "source": [
        "### Normalize the data\n",
        "\n",
        "Look again at the `train_stats` block above and note how different the ranges of each feature are.\n",
        "\n",
        "It is good practice to normalize features that use different scales and ranges. Although the model *might* converge without feature normalization, it makes training more difficult, and it makes the resulting model dependent on the choice of units used in the input.\n",
        "\n",
        "Note: Although we intentionally generate these statistics from only the training dataset, these statistics will also be used to normalize the test dataset. We need to do that to project the test dataset into the same distribution that the model has been trained on."
      ]
    },
    {
      "cell_type": "code",
      "metadata": {
        "id": "lgbVr0RWSsom",
        "colab_type": "code",
        "colab": {}
      },
      "source": [
        "#norm train label\n",
        "def norm(x):\n",
        "  r=(x-x.mean())/x.std()\n",
        "  return r"
      ],
      "execution_count": 0,
      "outputs": []
    },
    {
      "cell_type": "code",
      "metadata": {
        "id": "mWW9QfEXDxnA",
        "colab_type": "code",
        "outputId": "e00c5cd5-2d87-4b1e-efbb-d18f4e3b86cc",
        "colab": {
          "base_uri": "https://localhost:8080/",
          "height": 1071
        }
      },
      "source": [
        "\n",
        "#normtest_temp=tf.keras.utils.normalize(test_labels,axis=0)\n",
        "train_mean=train_labels.mean()\n",
        "train_std=train_labels.std()\n",
        "\n",
        "\n",
        "norm_train_labels=(train_labels-train_mean)/train_std\n",
        "norm_train_feat = (train_feat - train_feat.mean())/train_feat.std()\n",
        "print(norm_trainlabels)"
      ],
      "execution_count": 180,
      "outputs": [
        {
          "output_type": "stream",
          "text": [
            "993    0.370217\n",
            "859   -0.592766\n",
            "298   -0.502389\n",
            "553    0.058572\n",
            "672   -0.365265\n",
            "971    0.370217\n",
            "27    -0.089771\n",
            "231    0.993508\n",
            "306    0.058572\n",
            "706    0.993508\n",
            "496   -1.364400\n",
            "558   -0.949912\n",
            "784   -0.564718\n",
            "239    0.370217\n",
            "578   -1.034680\n",
            "55     1.928444\n",
            "906    0.370217\n",
            "175   -0.249333\n",
            "14    -0.365265\n",
            "77     0.993508\n",
            "31    -0.268032\n",
            "481   -1.364400\n",
            "310   -0.009366\n",
            "311    0.058572\n",
            "883    1.212906\n",
            "788   -1.200475\n",
            "45     0.058572\n",
            "103   -1.200475\n",
            "760   -1.200475\n",
            "1     -0.704959\n",
            "         ...   \n",
            "216   -0.268032\n",
            "735   -1.364400\n",
            "129   -0.387081\n",
            "349    0.613301\n",
            "111   -0.387081\n",
            "166    0.993508\n",
            "207   -0.527944\n",
            "438    1.928444\n",
            "552   -0.828994\n",
            "274    0.993508\n",
            "974   -0.158956\n",
            "591    0.681863\n",
            "800   -0.592766\n",
            "937    1.088248\n",
            "525   -1.364400\n",
            "287   -1.364400\n",
            "469   -1.371880\n",
            "326   -1.364400\n",
            "121   -0.535424\n",
            "994    0.058572\n",
            "507   -1.276516\n",
            "228   -0.273642\n",
            "673    1.212906\n",
            "595    0.484903\n",
            "445   -0.158956\n",
            "117    1.928444\n",
            "464   -1.364400\n",
            "25    -0.020586\n",
            "110   -0.150230\n",
            "149   -0.828994\n",
            "Name: elodieTEff, Length: 800, dtype: float64\n"
          ],
          "name": "stdout"
        }
      ]
    },
    {
      "cell_type": "markdown",
      "metadata": {
        "id": "Di-_dkBrDrul",
        "colab_type": "text"
      },
      "source": [
        "This normalized data is what we will use to train the model.\n",
        "\n",
        "Caution: The statistics used to normalize the inputs here (mean and standard deviation) need to be applied to any other data that is fed to the model, along with the one-hot encoding that we did earlier.  That includes the test set as well as live data when the model is used in production.\n",
        "\n"
      ]
    },
    {
      "cell_type": "markdown",
      "metadata": {
        "id": "p9KUKRQFDlPn",
        "colab_type": "text"
      },
      "source": [
        "## The model\n",
        "\n",
        "### Build the model\n",
        "\n",
        "Let's build our model. Here, we'll use a `Sequential` model with two densely connected hidden layers, and an output layer that returns a single, continuous value. The model building steps are wrapped in a function, `build_model`, since we'll create a second model, later on."
      ]
    },
    {
      "cell_type": "code",
      "metadata": {
        "id": "Asg0O1TLDjAy",
        "colab_type": "code",
        "colab": {}
      },
      "source": [
        "def build_model():\n",
        "  model = keras.Sequential([\n",
        "    layers.Dense(1, activation=tf.nn.tanh, input_shape=[len(train_datapd.keys())]),\n",
        "    #layers.Dense(4, activation=tf.nn.relu),\n",
        "    #layers.Dense(4, activation=tf.nn.relu),\n",
        "    #layers.Dense(1)\n",
        "  ])\n",
        "\n",
        "  optimizer = tf.keras.optimizers.RMSprop(0.001)\n",
        "\n",
        "  model.compile(loss='mean_squared_error',\n",
        "                optimizer=optimizer,\n",
        "                metrics=['mean_absolute_error', 'mean_squared_error'])\n",
        "  return model\n",
        "\n",
        "model = build_model()"
      ],
      "execution_count": 0,
      "outputs": []
    },
    {
      "cell_type": "markdown",
      "metadata": {
        "id": "-LaH9J7aDb1B",
        "colab_type": "text"
      },
      "source": [
        "### Inspect the model\n",
        "\n",
        "Use the `.summary` method to print a simple description of the model"
      ]
    },
    {
      "cell_type": "code",
      "metadata": {
        "id": "eMeilODVDZ8L",
        "colab_type": "code",
        "outputId": "148c3a2c-4bff-4c6f-cde8-58c751180c5a",
        "colab": {
          "base_uri": "https://localhost:8080/",
          "height": 170
        }
      },
      "source": [
        "model.summary()"
      ],
      "execution_count": 206,
      "outputs": [
        {
          "output_type": "stream",
          "text": [
            "_________________________________________________________________\n",
            "Layer (type)                 Output Shape              Param #   \n",
            "=================================================================\n",
            "dense_23 (Dense)             (None, 1)                 6         \n",
            "=================================================================\n",
            "Total params: 6\n",
            "Trainable params: 6\n",
            "Non-trainable params: 0\n",
            "_________________________________________________________________\n"
          ],
          "name": "stdout"
        }
      ]
    },
    {
      "cell_type": "markdown",
      "metadata": {
        "id": "QUsEB_oUDR_j",
        "colab_type": "text"
      },
      "source": [
        "Now try out the model. Take a batch of `10` examples from the training data and call `model.predict` on it."
      ]
    },
    {
      "cell_type": "markdown",
      "metadata": {
        "id": "elZqEAdBDKF8",
        "colab_type": "text"
      },
      "source": [
        "### Train the model\n",
        "\n",
        "Train the model for 1000 epochs, and record the training and validation accuracy in the `history` object."
      ]
    },
    {
      "cell_type": "code",
      "metadata": {
        "id": "bW0KSl6iDHb0",
        "colab_type": "code",
        "outputId": "18a9f395-977c-401e-a0f4-57e4390ae5c2",
        "colab": {
          "base_uri": "https://localhost:8080/",
          "height": 204
        }
      },
      "source": [
        "# Display training progress by printing a single dot for each completed epoch\n",
        "class PrintDot(keras.callbacks.Callback):\n",
        "  def on_epoch_end(self, epoch, logs):\n",
        "    if epoch % 100 == 0: print('')\n",
        "    print('.', end='')\n",
        "\n",
        "EPOCHS = 1000\n",
        "\n",
        "history = model.fit(\n",
        "  norm_train_feat, norm_train_labels,\n",
        "  epochs=EPOCHS, validation_split = 0.2, verbose=0,\n",
        "  callbacks=[PrintDot()])"
      ],
      "execution_count": 207,
      "outputs": [
        {
          "output_type": "stream",
          "text": [
            "\n",
            "....................................................................................................\n",
            "....................................................................................................\n",
            "....................................................................................................\n",
            "....................................................................................................\n",
            "....................................................................................................\n",
            "....................................................................................................\n",
            "....................................................................................................\n",
            "....................................................................................................\n",
            "....................................................................................................\n",
            "...................................................................................................."
          ],
          "name": "stdout"
        }
      ]
    },
    {
      "cell_type": "markdown",
      "metadata": {
        "id": "iRMaIjLWDCKA",
        "colab_type": "text"
      },
      "source": [
        "Visualize the model's training progress using the stats stored in the `history` object."
      ]
    },
    {
      "cell_type": "code",
      "metadata": {
        "id": "UHXhcQ-sDAN7",
        "colab_type": "code",
        "colab": {
          "base_uri": "https://localhost:8080/",
          "height": 566
        },
        "outputId": "6ce785ad-274b-4138-aec1-9c4754076730"
      },
      "source": [
        "hist = pd.DataFrame(history.history)\n",
        "hist['epoch'] = history.epoch\n",
        "hist.tail()\n",
        "\n",
        "print(history)\n",
        "\n",
        "def plot_history(history):\n",
        "  hist = pd.DataFrame(history.history)\n",
        "  hist['epoch'] = history.epoch\n",
        "\n",
        "  plt.figure()\n",
        "  plt.xlabel('Epoch')\n",
        "  plt.ylabel('Mean Abs Error [K]')\n",
        "  plt.plot(hist['epoch'], hist['mean_absolute_error'],\n",
        "           label='Train Error')\n",
        "  plt.plot(hist['epoch'], hist['val_mean_absolute_error'],\n",
        "           label = 'Val Error')\n",
        "  plt.ylim([0,5])\n",
        "  plt.legend()\n",
        "\n",
        "  plt.figure()\n",
        "  plt.xlabel('Epoch')\n",
        "  plt.ylabel('Mean Square Error [$K^2$]')\n",
        "  plt.plot(hist['epoch'], hist['mean_squared_error'],\n",
        "           label='Train Error')\n",
        "  plt.plot(hist['epoch'], hist['val_mean_squared_error'],\n",
        "           label = 'Val Error')\n",
        "  plt.ylim([0,20])\n",
        "  plt.legend()\n",
        "  plt.show()\n",
        "\n",
        "\n",
        "plot_history(history)"
      ],
      "execution_count": 208,
      "outputs": [
        {
          "output_type": "stream",
          "text": [
            "<tensorflow.python.keras.callbacks.History object at 0x7fd369307e80>\n"
          ],
          "name": "stdout"
        },
        {
          "output_type": "display_data",
          "data": {
            "image/png": "[encoded data removed]",
            "text/plain": [
              "<Figure size 432x288 with 1 Axes>"
            ]
          },
          "metadata": {
            "tags": []
          }
        },
        {
          "output_type": "display_data",
          "data": {
            "image/png": "[encoded data removed]",
            "text/plain": [
              "<Figure size 432x288 with 1 Axes>"
            ]
          },
          "metadata": {
            "tags": []
          }
        }
      ]
    },
    {
      "cell_type": "markdown",
      "metadata": {
        "id": "TlWek3M3CxZb",
        "colab_type": "text"
      },
      "source": [
        "This graph shows little improvement, or even degradation in the validation error after about 100 epochs. Let's update the `model.fit` call to automatically stop training when the validation score doesn't improve. We'll use an *EarlyStopping callback* that tests a training condition for  every epoch. If a set amount of epochs elapses without showing improvement, then automatically stop the training.\n",
        "\n",
        "You can learn more about this callback [here](https://www.tensorflow.org/versions/master/api_docs/python/tf/keras/callbacks/EarlyStopping)."
      ]
    },
    {
      "cell_type": "code",
      "metadata": {
        "id": "ywa8UpMYCvNc",
        "colab_type": "code",
        "colab": {}
      },
      "source": [
        "#model = build_model()\n",
        "\n",
        "# The patience parameter is the amount of epochs to check for improvement\n",
        "#early_stop = keras.callbacks.EarlyStopping(monitor='val_loss', patience=10)\n",
        "\n",
        "#history = model.fit(norm_train_feat, train_labels, epochs=EPOCHS,\n",
        "#                    validation_split = 0.2, verbose=0, callbacks=[early_stop, PrintDot()])\n",
        "#print(history)\n",
        "#plot_history(history)"
      ],
      "execution_count": 0,
      "outputs": []
    },
    {
      "cell_type": "markdown",
      "metadata": {
        "id": "JtiYPCm-CoeB",
        "colab_type": "text"
      },
      "source": [
        "The graph shows that on the validation set, the average error is usually around +/- 2 MPG. Is this good? We'll leave that decision up to you.\n",
        "\n",
        "Let's see how well the model generalizes by using the **test** set, which we did not use when training the model.  This tells us how well we can expect the model to predict when we use it in the real world."
      ]
    },
    {
      "cell_type": "code",
      "metadata": {
        "id": "P-08c5XBCl7I",
        "colab_type": "code",
        "colab": {
          "base_uri": "https://localhost:8080/",
          "height": 34
        },
        "outputId": "e5f55cda-3cfe-4872-b9fe-d6bae335588b"
      },
      "source": [
        "norm_test_feat = (test_feat-test_feat.mean())/test_feat.std()\n",
        "norm_test_labels = (test_labels-test_labels.mean())/test_labels.std()\n",
        "\n",
        "\n",
        "loss, mae, mse = model.evaluate(norm_test_feat, norm_test_labels, verbose=0)\n",
        "\n",
        "print(\"Testing set Mean Abs Error: {:5.2f} Kelvin\".format(mae))"
      ],
      "execution_count": 210,
      "outputs": [
        {
          "output_type": "stream",
          "text": [
            "Testing set Mean Abs Error:  0.32 Kelvin\n"
          ],
          "name": "stdout"
        }
      ]
    },
    {
      "cell_type": "markdown",
      "metadata": {
        "id": "T3FTCj6gChEg",
        "colab_type": "text"
      },
      "source": [
        "### Make predictions\n",
        "\n",
        "Finally, predict Temperature values using data in the testing set:"
      ]
    },
    {
      "cell_type": "code",
      "metadata": {
        "id": "go8xaaLkCdxN",
        "colab_type": "code",
        "colab": {
          "base_uri": "https://localhost:8080/",
          "height": 351
        },
        "outputId": "359408fa-8b90-486c-c3a4-803096e8acde"
      },
      "source": [
        "#print(norm_test_labels)\n",
        "\n",
        "test_predictions = model.predict(norm_test_feat).flatten()\n",
        "test_predictions = model.predict(norm_test_feat)\n",
        "#print(test_predictions)\n",
        "\n",
        "plt.scatter(norm_test_labels, test_predictions, color='red')\n",
        "plt.xlabel('True Values [K]')\n",
        "plt.ylabel('Predictions [K]')\n",
        "plt.axis('equal')\n",
        "plt.axis('square')\n",
        "#plt.xlim([0,plt.xlim()[1]])\n",
        "#plt.ylim([0,100])\n",
        "#plt.ylim([0,plt.ylim()[1]])\n",
        "#_ = plt.plot([-100, 100], [-100, 100])"
      ],
      "execution_count": 211,
      "outputs": [
        {
          "output_type": "execute_result",
          "data": {
            "text/plain": [
              "(-1.6329514117947306,\n",
              " 2.613090317684287,\n",
              " -1.1151185127349352,\n",
              " 3.1309232167440824)"
            ]
          },
          "metadata": {
            "tags": []
          },
          "execution_count": 211
        },
        {
          "output_type": "display_data",
          "data": {
            "image/png": "[encoded data removed]",
            "text/plain": [
              "<Figure size 432x288 with 1 Axes>"
            ]
          },
          "metadata": {
            "tags": []
          }
        }
      ]
    },
    {
      "cell_type": "markdown",
      "metadata": {
        "id": "bBQjihVVCWkc",
        "colab_type": "text"
      },
      "source": [
        "It looks like our model predicts reasonably well. Let's take a look at the error distribution."
      ]
    },
    {
      "cell_type": "code",
      "metadata": {
        "id": "o6Re1hClCN37",
        "colab_type": "code",
        "colab": {
          "base_uri": "https://localhost:8080/",
          "height": 283
        },
        "outputId": "1d994209-54b1-4878-c43e-dbafc09c7831"
      },
      "source": [
        "error = test_predictions[0]- norm_test_labels\n",
        "plt.hist(error, bins = 25)\n",
        "plt.xlabel(\"Prediction Error [K]\")\n",
        "_ = plt.ylabel(\"Count\")"
      ],
      "execution_count": 212,
      "outputs": [
        {
          "output_type": "display_data",
          "data": {
            "image/png": "[encoded data removed]",
            "text/plain": [
              "<Figure size 432x288 with 1 Axes>"
            ]
          },
          "metadata": {
            "tags": []
          }
        }
      ]
    },
    {
      "cell_type": "markdown",
      "metadata": {
        "id": "x-9aI2Z6CBy0",
        "colab_type": "text"
      },
      "source": [
        "It's not quite gaussian, but we might expect that because the number of samples is very small.\n",
        "\n"
      ]
    },
    {
      "cell_type": "markdown",
      "metadata": {
        "id": "-0udzTlbB1BF",
        "colab_type": "text"
      },
      "source": [
        "## Conclusion\n",
        "\n",
        "This notebook introduced a few techniques to handle a regression problem.\n",
        "\n",
        "* Mean Squared Error (MSE) is a common loss function used for regression problems (different loss functions are used for classification problems).\n",
        "* Similarly, evaluation metrics used for regression differ from classification. A common regression metric is Mean Absolute Error (MAE).\n",
        "* When numeric input data features have values with different ranges, each feature should be scaled independently to the same range.\n",
        "* If there is not much training data, one technique is to prefer a small network with few hidden layers to avoid overfitting.\n",
        "* Early stopping is a useful technique to prevent overfitting.\n"
      ]
    }
  ]
}