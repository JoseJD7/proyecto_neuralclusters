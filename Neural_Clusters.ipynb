{
  "nbformat": 4,
  "nbformat_minor": 0,
  "metadata": {
    "colab": {
      "name": "Neural Clusters.ipynb ",
      "version": "0.3.2",
      "provenance": [],
      "collapsed_sections": [],
      "toc_visible": true,
      "include_colab_link": true
    },
    "kernelspec": {
      "name": "python3",
      "display_name": "Python 3"
    },
    "accelerator": "GPU"
  },
  "cells": [
    {
      "cell_type": "markdown",
      "metadata": {
        "id": "view-in-github",
        "colab_type": "text"
      },
      "source": [
        "<a href=\"https://colab.research.google.com/github/astrodatos/proyecto_neuralclusters/blob/master/Neural_Clusters.ipynb\" target=\"_parent\"><img src=\"https://colab.research.google.com/assets/colab-badge.svg\" alt=\"Open In Colab\"/></a>"
      ]
    },
    {
      "cell_type": "markdown",
      "metadata": {
        "id": "ILrFj60aE-XA",
        "colab_type": "text"
      },
      "source": [
        "Se predecirá la temperatura efectiva de una estrella a través de sus magnitudes absolutas en cinco bandas fotométricas (problema de regresión). Se ha utilizado la base de datos del SDSS, consultando el mismo a través de astroquery."
      ]
    },
    {
      "cell_type": "code",
      "metadata": {
        "id": "_3BVRc6M-Ci8",
        "colab_type": "code",
        "outputId": "060b037b-6eb4-4e77-825f-6cfddd586bdf",
        "colab": {
          "base_uri": "https://localhost:8080/",
          "height": 102
        }
      },
      "source": [
        "!pip install --pre --quiet astroquery"
      ],
      "execution_count": 1,
      "outputs": [
        {
          "output_type": "stream",
          "text": [
            "\u001b[K     |████████████████████████████████| 4.3MB 6.6MB/s \n",
            "\u001b[K     |████████████████████████████████| 61kB 18.8MB/s \n",
            "\u001b[K     |████████████████████████████████| 2.3MB 36.8MB/s \n",
            "\u001b[K     |████████████████████████████████| 102kB 24.6MB/s \n",
            "\u001b[?25h  Building wheel for astroquery (setup.py) ... \u001b[?25l\u001b[?25hdone\n"
          ],
          "name": "stdout"
        }
      ]
    },
    {
      "cell_type": "code",
      "metadata": {
        "id": "t5_yOjQBE4gz",
        "colab_type": "code",
        "outputId": "0d1418ff-d4f0-43e9-dad1-12ab4339702a",
        "colab": {
          "base_uri": "https://localhost:8080/",
          "height": 34
        }
      },
      "source": [
        "from __future__ import absolute_import, division, print_function, unicode_literals\n",
        "\n",
        "from time import time\n",
        "from astroquery.sdss import SDSS\n",
        "\n",
        "import matplotlib.pyplot as plt\n",
        "import pandas as pd\n",
        "import seaborn as sns\n",
        "\n",
        "import tensorflow as tf\n",
        "from tensorflow import keras\n",
        "from tensorflow.keras import layers\n",
        "\n",
        "\n",
        "print(tf.__version__)"
      ],
      "execution_count": 2,
      "outputs": [
        {
          "output_type": "stream",
          "text": [
            "1.14.0-rc1\n"
          ],
          "name": "stdout"
        }
      ]
    },
    {
      "cell_type": "markdown",
      "metadata": {
        "id": "hnipyp1PEwNi",
        "colab_type": "text"
      },
      "source": [
        "## Datos del SDSS\n",
        "\n",
        "Disponible en enlace\n",
        "\n"
      ]
    },
    {
      "cell_type": "markdown",
      "metadata": {
        "id": "KKOzVSMUrt1F",
        "colab_type": "text"
      },
      "source": [
        "###Consulta con Astroquery###"
      ]
    },
    {
      "cell_type": "code",
      "metadata": {
        "id": "l3cvu2Kj-iOB",
        "colab_type": "code",
        "colab": {}
      },
      "source": [
        "t_ini = time()\n",
        "\n",
        "data = SDSS.query_sql(\"\"\"SELECT TOP 5000\n",
        "                      p.fiberMag_u, p.fiberMag_g, p.fiberMag_r, p.fiberMag_i, \n",
        "                      p.fiberMag_z,s.elodieTEff\n",
        "                   \n",
        "                      \n",
        "                      FROM PhotoObjAll AS p JOIN specObjAll s ON s.bestobjid = p.objid\n",
        "                      \n",
        "                      WHERE p.mode = 1 AND s.sciencePrimary = 1 AND p.clean = 1 AND s.class != 'QSO' AND s.class !='GALAXY'\n",
        "                      \n",
        "                      \"\"\")"
      ],
      "execution_count": 0,
      "outputs": []
    },
    {
      "cell_type": "code",
      "metadata": {
        "id": "aYU1l2WHCUJI",
        "colab_type": "code",
        "outputId": "41d0d22f-f78a-4304-bd21-d6453053deb3",
        "colab": {
          "base_uri": "https://localhost:8080/",
          "height": 1000
        }
      },
      "source": [
        "datapd=data.to_pandas()\n",
        "print(datapd)"
      ],
      "execution_count": 4,
      "outputs": [
        {
          "output_type": "stream",
          "text": [
            "      fiberMag_u  fiberMag_g  fiberMag_r  fiberMag_i  fiberMag_z  elodieTEff\n",
            "0       19.97522    18.29667    17.63645    17.41323    17.28637        5059\n",
            "1       18.54812    17.42075    16.99692    16.81944    16.74287        5720\n",
            "2       18.92459    17.60666    17.11381    16.92150    16.82598        5467\n",
            "3       20.52509    18.30592    17.47765    17.19801    17.04544        4775\n",
            "4       19.01954    17.86671    17.52623    17.40356    17.30230        6162\n",
            "5       21.77839    18.90348    17.48030    16.04839    15.14471        3717\n",
            "6       19.60481    17.88959    17.24570    17.03980    16.81905        5059\n",
            "7       19.03195    17.60430    17.12568    16.92023    16.78967        5467\n",
            "8       20.61365    18.49613    17.56870    17.10192    16.81956        4576\n",
            "9       20.39183    18.46844    17.65800    17.29447    17.11287        4576\n",
            "10      21.09815    18.49171    17.13368    15.77633    15.06088        3717\n",
            "11      18.30104    17.35975    17.08531    16.92340    16.89254        6000\n",
            "12      19.44617    18.48567    18.30836    18.28022    18.28954        7000\n",
            "13      20.66864    18.48400    17.48437    17.06165    16.79535        4576\n",
            "14      21.81471    19.33612    17.87300    16.77174    16.16347        3717\n",
            "15      19.42923    17.90861    17.27693    17.00848    16.87047        5059\n",
            "16      18.79691    17.75073    17.37674    17.24760    17.19696        6000\n",
            "17      19.01123    17.49160    16.90772    16.66660    16.50131        5132\n",
            "18      21.41350    19.51312    18.46896    18.04836    17.78652        4382\n",
            "19      24.46900    21.85539    20.40217    19.34583    18.68622        3717\n",
            "20      19.34503    19.37428    19.66523    19.88904    19.99787        4000\n",
            "21      20.91295    18.60867    17.69847    17.39925    17.05738        4576\n",
            "22      20.58005    18.14557    17.16663    16.83469    16.50204        4353\n",
            "23      20.50470    18.19065    17.28919    16.93777    16.64059        4576\n",
            "24      18.74404    17.74013    17.50432    17.44517    17.25824        6162\n",
            "25      20.01727    18.46363    17.87871    17.69304    17.44074        5221\n",
            "26      21.92914    19.27293    17.88123    17.12425    16.60885        3858\n",
            "27      21.78247    19.17476    17.92665    17.33709    16.89266        3962\n",
            "28      21.51305    19.13659    17.76023    16.99275    16.37880        3980\n",
            "29      21.64914    18.91104    17.54061    16.83832    16.25526        3980\n",
            "...          ...         ...         ...         ...         ...         ...\n",
            "4970    21.62546    19.85972    19.01303    18.78109    18.58214        4576\n",
            "4971    20.78628    19.55860    19.38353    19.31045    19.26776        7080\n",
            "4972    18.64029    18.06613    17.91072    17.88071    17.88169        6500\n",
            "4973    18.87368    17.68177    17.54288    17.54659    17.56231        7500\n",
            "4974    19.49458    18.96198    18.92536    18.71485    18.30439        9000\n",
            "4975    20.62018    19.29711    19.15902    19.18387    19.21424        7500\n",
            "4976    18.63627    17.28558    16.73835    16.53698    16.45174        5320\n",
            "4977    17.56594    16.42909    16.20911    16.15494    16.17633        7000\n",
            "4978    20.63525    19.38291    19.39464    19.50155    19.54948        7652\n",
            "4979    20.26601    17.75684    16.43585    15.85508    15.52613        3962\n",
            "4980    20.19775    18.78428    18.23134    18.01498    17.87479        5467\n",
            "4981    19.42115    18.21022    17.69982    17.51081    17.41908        5613\n",
            "4982    20.69286    19.46769    19.33252    19.31999    19.29058        6000\n",
            "4983    20.39789    19.14070    19.27901    19.39524    19.45921        9500\n",
            "4984    18.50742    17.25201    17.41718    17.54904    17.59159        8500\n",
            "4985    19.24322    18.06004    17.62673    17.45566    17.39145        5474\n",
            "4986    17.34989    16.22027    16.03889    15.96331    15.93048        7000\n",
            "4987    20.09369    18.95226    19.02131    19.11295    19.19716        8500\n",
            "4988    19.13642    18.09594    17.76569    17.63724    17.60485        6000\n",
            "4989    19.01873    16.88738    16.04470    15.74054    15.57042        4727\n",
            "4990    22.92654    22.89557    21.33276    20.29421    19.53580        3717\n",
            "4991    20.78987    20.52932    20.66305    20.78778    21.14213        7652\n",
            "4992    16.84549    15.70123    15.27855    15.12648    15.07010        5373\n",
            "4993    20.59134    19.68907    19.46619    19.41128    19.32272        6000\n",
            "4994    20.66858    18.25070    17.61639    17.35620    17.21469        4775\n",
            "4995    18.77482    17.59027    17.32001    17.22721    17.19097        6000\n",
            "4996    20.05567    19.15040    18.93251    18.83253    18.88295        6000\n",
            "4997    19.70771    18.79224    18.56345    18.45463    18.41385        6000\n",
            "4998    18.08954    17.10038    16.78458    16.65008    16.60863        6000\n",
            "4999    19.90013    18.70848    18.24529    18.05051    17.98945        6000\n",
            "\n",
            "[5000 rows x 6 columns]\n"
          ],
          "name": "stdout"
        }
      ]
    },
    {
      "cell_type": "markdown",
      "metadata": {
        "id": "RbqnaZgMEOdV",
        "colab_type": "text"
      },
      "source": [
        "### Separación entre datos de entrenamiento y datos de prueba "
      ]
    },
    {
      "cell_type": "code",
      "metadata": {
        "id": "ytPIaTCAEMqe",
        "colab_type": "code",
        "colab": {}
      },
      "source": [
        "train_datapd = datapd.sample(frac=0.8,random_state=0)\n",
        "test_datapd = datapd.drop(train_datapd.index)\n"
      ],
      "execution_count": 0,
      "outputs": []
    },
    {
      "cell_type": "markdown",
      "metadata": {
        "id": "un9FMCKeEKJk",
        "colab_type": "text"
      },
      "source": [
        "### Chequeo a los datos"
      ]
    },
    {
      "cell_type": "markdown",
      "metadata": {
        "id": "hJMy5AApEEMv",
        "colab_type": "text"
      },
      "source": [
        "Estadísticas:"
      ]
    },
    {
      "cell_type": "code",
      "metadata": {
        "id": "IXMZjr7HEBTf",
        "colab_type": "code",
        "outputId": "5dfb64db-48e4-44e4-d496-7b845ef78a7f",
        "colab": {
          "base_uri": "https://localhost:8080/",
          "height": 204
        }
      },
      "source": [
        "train_stats = train_datapd.describe()\n",
        "train_stats.pop(\"elodieTEff\")\n",
        "train_stats = train_stats.transpose()\n",
        "train_stats\n"
      ],
      "execution_count": 6,
      "outputs": [
        {
          "output_type": "execute_result",
          "data": {
            "text/html": [
              "<div>\n",
              "<style scoped>\n",
              "    .dataframe tbody tr th:only-of-type {\n",
              "        vertical-align: middle;\n",
              "    }\n",
              "\n",
              "    .dataframe tbody tr th {\n",
              "        vertical-align: top;\n",
              "    }\n",
              "\n",
              "    .dataframe thead th {\n",
              "        text-align: right;\n",
              "    }\n",
              "</style>\n",
              "<table border=\"1\" class=\"dataframe\">\n",
              "  <thead>\n",
              "    <tr style=\"text-align: right;\">\n",
              "      <th></th>\n",
              "      <th>count</th>\n",
              "      <th>mean</th>\n",
              "      <th>std</th>\n",
              "      <th>min</th>\n",
              "      <th>25%</th>\n",
              "      <th>50%</th>\n",
              "      <th>75%</th>\n",
              "      <th>max</th>\n",
              "    </tr>\n",
              "  </thead>\n",
              "  <tbody>\n",
              "    <tr>\n",
              "      <th>fiberMag_u</th>\n",
              "      <td>4000.0</td>\n",
              "      <td>18.124271</td>\n",
              "      <td>158.439250</td>\n",
              "      <td>-9999.00000</td>\n",
              "      <td>19.030195</td>\n",
              "      <td>20.181070</td>\n",
              "      <td>22.190658</td>\n",
              "      <td>26.11051</td>\n",
              "    </tr>\n",
              "    <tr>\n",
              "      <th>fiberMag_g</th>\n",
              "      <td>4000.0</td>\n",
              "      <td>19.220439</td>\n",
              "      <td>1.960736</td>\n",
              "      <td>13.54076</td>\n",
              "      <td>17.829973</td>\n",
              "      <td>18.868150</td>\n",
              "      <td>20.305888</td>\n",
              "      <td>25.62909</td>\n",
              "    </tr>\n",
              "    <tr>\n",
              "      <th>fiberMag_r</th>\n",
              "      <td>4000.0</td>\n",
              "      <td>18.544417</td>\n",
              "      <td>1.659122</td>\n",
              "      <td>13.08655</td>\n",
              "      <td>17.328432</td>\n",
              "      <td>18.302865</td>\n",
              "      <td>19.722877</td>\n",
              "      <td>23.55924</td>\n",
              "    </tr>\n",
              "    <tr>\n",
              "      <th>fiberMag_i</th>\n",
              "      <td>4000.0</td>\n",
              "      <td>18.099536</td>\n",
              "      <td>1.412051</td>\n",
              "      <td>13.06712</td>\n",
              "      <td>17.036568</td>\n",
              "      <td>17.989595</td>\n",
              "      <td>19.218855</td>\n",
              "      <td>22.35431</td>\n",
              "    </tr>\n",
              "    <tr>\n",
              "      <th>fiberMag_z</th>\n",
              "      <td>4000.0</td>\n",
              "      <td>17.857038</td>\n",
              "      <td>1.412961</td>\n",
              "      <td>12.84576</td>\n",
              "      <td>16.845135</td>\n",
              "      <td>17.774200</td>\n",
              "      <td>18.672133</td>\n",
              "      <td>22.49046</td>\n",
              "    </tr>\n",
              "  </tbody>\n",
              "</table>\n",
              "</div>"
            ],
            "text/plain": [
              "             count       mean         std  ...        50%        75%       max\n",
              "fiberMag_u  4000.0  18.124271  158.439250  ...  20.181070  22.190658  26.11051\n",
              "fiberMag_g  4000.0  19.220439    1.960736  ...  18.868150  20.305888  25.62909\n",
              "fiberMag_r  4000.0  18.544417    1.659122  ...  18.302865  19.722877  23.55924\n",
              "fiberMag_i  4000.0  18.099536    1.412051  ...  17.989595  19.218855  22.35431\n",
              "fiberMag_z  4000.0  17.857038    1.412961  ...  17.774200  18.672133  22.49046\n",
              "\n",
              "[5 rows x 8 columns]"
            ]
          },
          "metadata": {
            "tags": []
          },
          "execution_count": 6
        }
      ]
    },
    {
      "cell_type": "markdown",
      "metadata": {
        "id": "MAH7deWED8tk",
        "colab_type": "text"
      },
      "source": [
        "### Separacaión entre atributos y etiquetas\n",
        "\n",
        "En este caso, la temperatura es la etiqueta, mientras que los atributos son las magnitudes absolutas en cinco bandas fotométricas."
      ]
    },
    {
      "cell_type": "code",
      "metadata": {
        "id": "1PsmBwsvD55i",
        "colab_type": "code",
        "colab": {}
      },
      "source": [
        "train_labels = train_datapd.pop('elodieTEff')\n",
        "test_labels = test_datapd.pop('elodieTEff')\n",
        "\n",
        "train_feat = train_datapd\n",
        "test_feat = test_datapd\n"
      ],
      "execution_count": 0,
      "outputs": []
    },
    {
      "cell_type": "markdown",
      "metadata": {
        "id": "Q2fH1vq7D1Tw",
        "colab_type": "text"
      },
      "source": [
        "### Normalización de los datos\n"
      ]
    },
    {
      "cell_type": "code",
      "metadata": {
        "id": "lgbVr0RWSsom",
        "colab_type": "code",
        "colab": {}
      },
      "source": [
        "#norm train label\n",
        "def norm(x):\n",
        "  r=(x-x.mean())/x.std()\n",
        "  return r"
      ],
      "execution_count": 0,
      "outputs": []
    },
    {
      "cell_type": "code",
      "metadata": {
        "id": "mWW9QfEXDxnA",
        "colab_type": "code",
        "outputId": "0dc3655f-5902-4d1a-94ad-b8bca4a095ab",
        "colab": {
          "base_uri": "https://localhost:8080/",
          "height": 1000
        }
      },
      "source": [
        "\n",
        "#normtest_temp=tf.keras.utils.normalize(test_labels,axis=0)\n",
        "train_mean=train_labels.mean()\n",
        "train_std=train_labels.std()\n",
        "\n",
        "\n",
        "norm_train_labels=(train_labels-train_mean)/train_std\n",
        "norm_train_feat = (train_feat - train_feat.mean())/train_feat.std()\n",
        "print(norm_train_labels)"
      ],
      "execution_count": 9,
      "outputs": [
        {
          "output_type": "stream",
          "text": [
            "398    -0.995779\n",
            "3833    0.428341\n",
            "4836    0.083946\n",
            "4572   -0.098490\n",
            "636    -0.203360\n",
            "2545   -1.158978\n",
            "1161   -0.185985\n",
            "2230    2.119289\n",
            "148     0.022514\n",
            "2530   -1.158978\n",
            "4070   -0.625942\n",
            "1261    1.188492\n",
            "4682   -0.068705\n",
            "333    -0.067464\n",
            "906     2.429555\n",
            "3170    1.809024\n",
            "483     0.192539\n",
            "2825   -0.830717\n",
            "1778    0.567961\n",
            "2466   -0.830717\n",
            "159    -0.225699\n",
            "1563   -0.068705\n",
            "402    -0.995779\n",
            "4258   -1.158978\n",
            "4775    2.119289\n",
            "1095    0.878226\n",
            "3054   -0.655727\n",
            "4268    0.257695\n",
            "3711   -1.002604\n",
            "453    -0.068705\n",
            "          ...   \n",
            "4198   -1.158978\n",
            "1534   -0.746325\n",
            "2336   -0.067464\n",
            "3946   -0.764320\n",
            "3850   -1.158978\n",
            "3492    2.119289\n",
            "2305    0.257695\n",
            "960    -0.983368\n",
            "3313   -0.625942\n",
            "1164    2.119289\n",
            "371    -1.006948\n",
            "1306   -1.158978\n",
            "2993    0.257695\n",
            "4145    0.567961\n",
            "3541    0.022514\n",
            "1575   -1.160840\n",
            "3742    0.257695\n",
            "1484    0.878226\n",
            "3834    0.257695\n",
            "2548    2.429555\n",
            "4749   -0.390760\n",
            "1858    2.119289\n",
            "258    -0.995779\n",
            "3835    1.282813\n",
            "769    -1.071483\n",
            "2061   -0.484461\n",
            "4211   -0.131378\n",
            "2018   -1.158978\n",
            "3940    0.257695\n",
            "4550    0.257695\n",
            "Name: elodieTEff, Length: 4000, dtype: float64\n"
          ],
          "name": "stdout"
        }
      ]
    },
    {
      "cell_type": "markdown",
      "metadata": {
        "id": "Di-_dkBrDrul",
        "colab_type": "text"
      },
      "source": [
        "Se utilizarán los datos normalizados para entrenar el modelo.\n"
      ]
    },
    {
      "cell_type": "markdown",
      "metadata": {
        "id": "p9KUKRQFDlPn",
        "colab_type": "text"
      },
      "source": [
        "## El modelo"
      ]
    },
    {
      "cell_type": "markdown",
      "metadata": {
        "id": "fj8zlMCwvSKL",
        "colab_type": "text"
      },
      "source": [
        "###Estructura de la red neuronal"
      ]
    },
    {
      "cell_type": "code",
      "metadata": {
        "id": "Asg0O1TLDjAy",
        "colab_type": "code",
        "colab": {
          "base_uri": "https://localhost:8080/",
          "height": 105
        },
        "outputId": "19d1bd79-183e-442f-88d6-ef939a5f1d64"
      },
      "source": [
        "def build_model():\n",
        "  model = keras.Sequential([\n",
        "    layers.Dense(1, activation=tf.nn.tanh, input_shape=[len(train_datapd.keys())]),\n",
        "    #layers.Dense(5, activation=tf.nn.tanh),\n",
        "    #layers.Dense(4, activation=tf.nn.relu),\n",
        "    layers.Dense(1)\n",
        "  ])\n",
        "\n",
        "  optimizer = tf.keras.optimizers.RMSprop(0.001)\n",
        "\n",
        "  model.compile(loss='mean_squared_error',\n",
        "                optimizer=optimizer,\n",
        "                metrics=['mean_absolute_error', 'mean_squared_error'])\n",
        "  return model\n",
        "\n",
        "model = build_model()"
      ],
      "execution_count": 10,
      "outputs": [
        {
          "output_type": "stream",
          "text": [
            "WARNING: Logging before flag parsing goes to stderr.\n",
            "W0627 16:02:51.265338 140159988897664 deprecation.py:506] From /usr/local/lib/python3.6/dist-packages/tensorflow/python/ops/init_ops.py:1251: calling VarianceScaling.__init__ (from tensorflow.python.ops.init_ops) with dtype is deprecated and will be removed in a future version.\n",
            "Instructions for updating:\n",
            "Call initializer instance with the dtype argument instead of passing it to the constructor\n"
          ],
          "name": "stderr"
        }
      ]
    },
    {
      "cell_type": "markdown",
      "metadata": {
        "id": "-LaH9J7aDb1B",
        "colab_type": "text"
      },
      "source": [
        "### Inspección del modelo"
      ]
    },
    {
      "cell_type": "code",
      "metadata": {
        "id": "eMeilODVDZ8L",
        "colab_type": "code",
        "outputId": "74047a46-87eb-4945-d68f-0ee8db305cb2",
        "colab": {
          "base_uri": "https://localhost:8080/",
          "height": 221
        }
      },
      "source": [
        "model.summary()"
      ],
      "execution_count": 11,
      "outputs": [
        {
          "output_type": "stream",
          "text": [
            "Model: \"sequential\"\n",
            "_________________________________________________________________\n",
            "Layer (type)                 Output Shape              Param #   \n",
            "=================================================================\n",
            "dense (Dense)                (None, 1)                 6         \n",
            "_________________________________________________________________\n",
            "dense_1 (Dense)              (None, 1)                 2         \n",
            "=================================================================\n",
            "Total params: 8\n",
            "Trainable params: 8\n",
            "Non-trainable params: 0\n",
            "_________________________________________________________________\n"
          ],
          "name": "stdout"
        }
      ]
    },
    {
      "cell_type": "markdown",
      "metadata": {
        "id": "elZqEAdBDKF8",
        "colab_type": "text"
      },
      "source": [
        "### Entrenamiento del modelo"
      ]
    },
    {
      "cell_type": "code",
      "metadata": {
        "id": "bW0KSl6iDHb0",
        "colab_type": "code",
        "outputId": "acc45bff-4402-44ff-bd46-24c6271df7fd",
        "colab": {
          "base_uri": "https://localhost:8080/",
          "height": 204
        }
      },
      "source": [
        "# Display training progress by printing a single dot for each completed epoch\n",
        "class PrintDot(keras.callbacks.Callback):\n",
        "  def on_epoch_end(self, epoch, logs):\n",
        "    if epoch % 100 == 0: print('')\n",
        "    print('.', end='')\n",
        "\n",
        "EPOCHS = 1000\n",
        "\n",
        "history = model.fit(\n",
        "  norm_train_feat, norm_train_labels,\n",
        "  epochs=EPOCHS, validation_split = 0.2, verbose=0,\n",
        "  callbacks=[PrintDot()])"
      ],
      "execution_count": 12,
      "outputs": [
        {
          "output_type": "stream",
          "text": [
            "\n",
            "....................................................................................................\n",
            "....................................................................................................\n",
            "....................................................................................................\n",
            "....................................................................................................\n",
            "....................................................................................................\n",
            "....................................................................................................\n",
            "....................................................................................................\n",
            "....................................................................................................\n",
            "....................................................................................................\n",
            "...................................................................................................."
          ],
          "name": "stdout"
        }
      ]
    },
    {
      "cell_type": "code",
      "metadata": {
        "id": "iCfiUeLJUVFH",
        "colab_type": "code",
        "colab": {}
      },
      "source": [
        "def desnorm(dato, media, std):\n",
        "  datonuevo = dato*std + media\n",
        "  return datonuevo\n",
        "  "
      ],
      "execution_count": 0,
      "outputs": []
    },
    {
      "cell_type": "markdown",
      "metadata": {
        "id": "iRMaIjLWDCKA",
        "colab_type": "text"
      },
      "source": [
        "El progreso de entrenamiento del sistema está en el objeto `history`."
      ]
    },
    {
      "cell_type": "code",
      "metadata": {
        "id": "UHXhcQ-sDAN7",
        "colab_type": "code",
        "outputId": "fe6b0c6f-0798-4b5d-8077-083af2d537c8",
        "colab": {
          "base_uri": "https://localhost:8080/",
          "height": 566
        }
      },
      "source": [
        "hist = pd.DataFrame(history.history)\n",
        "hist['epoch'] = history.epoch\n",
        "hist.tail()\n",
        "\n",
        "print(history)\n",
        "\n",
        "def plot_history(history):\n",
        "  hist = pd.DataFrame(history.history)\n",
        "  hist['epoch'] = history.epoch\n",
        "\n",
        "  plt.figure()\n",
        "  plt.xlabel('Epoch')\n",
        "  plt.ylabel('Mean Abs Error [K]')\n",
        "  plt.plot(hist['epoch'], hist['mean_absolute_error'],\n",
        "           label='Train Error')\n",
        "  plt.plot(hist['epoch'], hist['val_mean_absolute_error'],\n",
        "           label = 'Val Error')\n",
        "  plt.ylim([0,5])\n",
        "  plt.legend()\n",
        "\n",
        "  plt.figure()\n",
        "  plt.xlabel('Epoch')\n",
        "  plt.ylabel('Mean Square Error [$K^2$]')\n",
        "  plt.plot(hist['epoch'], hist['mean_squared_error'],\n",
        "           label='Train Error')\n",
        "  plt.plot(hist['epoch'], hist['val_mean_squared_error'],\n",
        "           label = 'Val Error')\n",
        "  #plt.ylim([0,20])\n",
        "  plt.legend()\n",
        "  plt.show()\n",
        "\n",
        "\n",
        "plot_history(history)"
      ],
      "execution_count": 14,
      "outputs": [
        {
          "output_type": "stream",
          "text": [
            "<tensorflow.python.keras.callbacks.History object at 0x7f7935cbcf28>\n"
          ],
          "name": "stdout"
        },
        {
          "output_type": "display_data",
          "data": {
            "image/png": "[encoded data removed]",
            "text/plain": [
              "<Figure size 432x288 with 1 Axes>"
            ]
          },
          "metadata": {
            "tags": []
          }
        },
        {
          "output_type": "display_data",
          "data": {
            "image/png": "[encoded data removed]",
            "text/plain": [
              "<Figure size 432x288 with 1 Axes>"
            ]
          },
          "metadata": {
            "tags": []
          }
        }
      ]
    },
    {
      "cell_type": "markdown",
      "metadata": {
        "id": "TlWek3M3CxZb",
        "colab_type": "text"
      },
      "source": [
        "This graph shows little improvement, or even degradation in the validation error after about 100 epochs. Let's update the `model.fit` call to automatically stop training when the validation score doesn't improve. We'll use an *EarlyStopping callback* that tests a training condition for  every epoch. If a set amount of epochs elapses without showing improvement, then automatically stop the training.\n",
        "\n",
        "You can learn more about this callback [here](https://www.tensorflow.org/versions/master/api_docs/python/tf/keras/callbacks/EarlyStopping)."
      ]
    },
    {
      "cell_type": "code",
      "metadata": {
        "id": "ywa8UpMYCvNc",
        "colab_type": "code",
        "colab": {}
      },
      "source": [
        "#model = build_model()\n",
        "\n",
        "# The patience parameter is the amount of epochs to check for improvement\n",
        "#early_stop = keras.callbacks.EarlyStopping(monitor='val_loss', patience=10)\n",
        "\n",
        "#history = model.fit(norm_train_feat, train_labels, epochs=EPOCHS,\n",
        "#                    validation_split = 0.2, verbose=0, callbacks=[early_stop, PrintDot()])\n",
        "#print(history)\n",
        "#plot_history(history)"
      ],
      "execution_count": 0,
      "outputs": []
    },
    {
      "cell_type": "code",
      "metadata": {
        "id": "P-08c5XBCl7I",
        "colab_type": "code",
        "outputId": "872ccd78-5c9a-40be-f82d-45ab112dc7fd",
        "colab": {
          "base_uri": "https://localhost:8080/",
          "height": 34
        }
      },
      "source": [
        "norm_test_feat = (test_feat-test_feat.mean())/test_feat.std()\n",
        "norm_test_labels = (test_labels-test_labels.mean())/test_labels.std()\n",
        "\n",
        "\n",
        "loss, mae, mse = model.evaluate(norm_test_feat, norm_test_labels, verbose=0)\n",
        "\n",
        "print(\"Testing set Mean Abs Error: {:5.2f}\".format(mae))"
      ],
      "execution_count": 16,
      "outputs": [
        {
          "output_type": "stream",
          "text": [
            "Testing set Mean Abs Error:  0.20\n"
          ],
          "name": "stdout"
        }
      ]
    },
    {
      "cell_type": "markdown",
      "metadata": {
        "id": "T3FTCj6gChEg",
        "colab_type": "text"
      },
      "source": [
        "### Predicción con los datos de prueba"
      ]
    },
    {
      "cell_type": "code",
      "metadata": {
        "id": "go8xaaLkCdxN",
        "colab_type": "code",
        "outputId": "6bd2d695-47bf-4c9b-97c0-c7fe5aa02323",
        "colab": {
          "base_uri": "https://localhost:8080/",
          "height": 300
        }
      },
      "source": [
        "#print(norm_test_labels)\n",
        "\n",
        "test_predictions = model.predict(norm_test_feat).flatten()\n",
        "#print(test_predictions)\n",
        "\n",
        "test_predictions = desnorm(test_predictions, train_mean, train_std)\n",
        "\n",
        "plt.scatter(test_labels, test_predictions, color='red')\n",
        "plt.plot([0 , 12500], [0, 12500])\n",
        "plt.xlabel('True Values [K]')\n",
        "plt.ylabel('Predictions [K]')\n",
        "plt.axis('equal')\n",
        "plt.axis('square')\n",
        "#plt.xlim([0,plt.xlim()[1]])\n",
        "#plt.ylim([0,100])\n",
        "#plt.ylim([0,plt.ylim()[1]])\n",
        "#_ = plt.plot([-100, 100], [-100, 100])"
      ],
      "execution_count": 17,
      "outputs": [
        {
          "output_type": "execute_result",
          "data": {
            "text/plain": [
              "(-679.1004480286738, 14261.10940860215, -625.0, 14315.209856630823)"
            ]
          },
          "metadata": {
            "tags": []
          },
          "execution_count": 17
        },
        {
          "output_type": "display_data",
          "data": {
            "image/png": "[encoded data removed]",
            "text/plain": [
              "<Figure size 432x288 with 1 Axes>"
            ]
          },
          "metadata": {
            "tags": []
          }
        }
      ]
    },
    {
      "cell_type": "markdown",
      "metadata": {
        "id": "bBQjihVVCWkc",
        "colab_type": "text"
      },
      "source": [
        "Notemos que nuestro modelo se acerca a la función de  identidad. Ahora veamos la distribución del error absoluto:\n",
        "\n"
      ]
    },
    {
      "cell_type": "code",
      "metadata": {
        "id": "o6Re1hClCN37",
        "colab_type": "code",
        "outputId": "c7bbef2f-514b-4030-d940-4d3302246c9f",
        "colab": {
          "base_uri": "https://localhost:8080/",
          "height": 300
        }
      },
      "source": [
        "error = test_predictions - test_labels\n",
        "plt.hist(error, bins = 25)\n",
        "plt.xlabel(\"Prediction Error [K]\")\n",
        "_ = plt.ylabel(\"Count\")\n",
        "\n",
        "t_fin = time()\n",
        "\n",
        "print(t_fin - t_ini)"
      ],
      "execution_count": 19,
      "outputs": [
        {
          "output_type": "stream",
          "text": [
            "473.0372724533081\n"
          ],
          "name": "stdout"
        },
        {
          "output_type": "display_data",
          "data": {
            "image/png": "[encoded data removed]",
            "text/plain": [
              "<Figure size 432x288 with 1 Axes>"
            ]
          },
          "metadata": {
            "tags": []
          }
        }
      ]
    }
  ]
}