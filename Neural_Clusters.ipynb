{
  "nbformat": 4,
  "nbformat_minor": 0,
  "metadata": {
    "colab": {
      "name": "Neural Clusters.ipynb ",
      "version": "0.3.2",
      "provenance": [],
      "collapsed_sections": [],
      "include_colab_link": true
    },
    "kernelspec": {
      "name": "python3",
      "display_name": "Python 3"
    },
    "accelerator": "GPU"
  },
  "cells": [
    {
      "cell_type": "markdown",
      "metadata": {
        "id": "view-in-github",
        "colab_type": "text"
      },
      "source": [
        "<a href=\"https://colab.research.google.com/github/astrodatos/proyecto_neuralclusters/blob/master/Neural_Clusters.ipynb\" target=\"_parent\"><img src=\"https://colab.research.google.com/assets/colab-badge.svg\" alt=\"Open In Colab\"/></a>"
      ]
    },
    {
      "cell_type": "markdown",
      "metadata": {
        "id": "ILrFj60aE-XA",
        "colab_type": "text"
      },
      "source": [
        "In a *regression* problem, we aim to predict the output of a continuous value, like a price or a probability. Contrast this with a *classification* problem, where we aim to select a class from a list of classes (for example, where a picture contains an apple or an orange, recognizing which fruit is in the picture).\n",
        "\n",
        "This notebook uses the classic [Auto MPG](https://archive.ics.uci.edu/ml/datasets/auto+mpg) Dataset and builds a model to predict the fuel efficiency of late-1970s and early 1980s automobiles. To do this, we'll provide the model with a description of many automobiles from that time period. This description includes attributes like: cylinders, displacement, horsepower, and weight.\n",
        "\n",
        "This example uses the `tf.keras` API, see [this guide](https://www.tensorflow.org/guide/keras) for details."
      ]
    },
    {
      "cell_type": "code",
      "metadata": {
        "id": "_3BVRc6M-Ci8",
        "colab_type": "code",
        "outputId": "7713a4d9-8037-4cad-af31-75ebd94fb2f2",
        "colab": {
          "base_uri": "https://localhost:8080/",
          "height": 102
        }
      },
      "source": [
        "!pip install --pre --quiet astroquery"
      ],
      "execution_count": 1,
      "outputs": [
        {
          "output_type": "stream",
          "text": [
            "\u001b[K     |████████████████████████████████| 4.3MB 3.5MB/s \n",
            "\u001b[K     |████████████████████████████████| 2.3MB 36.9MB/s \n",
            "\u001b[K     |████████████████████████████████| 61kB 25.1MB/s \n",
            "\u001b[K     |████████████████████████████████| 102kB 30.4MB/s \n",
            "\u001b[?25h  Building wheel for astroquery (setup.py) ... \u001b[?25l\u001b[?25hdone\n"
          ],
          "name": "stdout"
        }
      ]
    },
    {
      "cell_type": "code",
      "metadata": {
        "id": "t5_yOjQBE4gz",
        "colab_type": "code",
        "outputId": "95cf7581-8548-4628-e5ad-d022e44d37c8",
        "colab": {
          "base_uri": "https://localhost:8080/",
          "height": 34
        }
      },
      "source": [
        "from __future__ import absolute_import, division, print_function, unicode_literals\n",
        "\n",
        "import pathlib\n",
        "from astroquery.sdss import SDSS\n",
        "\n",
        "import matplotlib.pyplot as plt\n",
        "import pandas as pd\n",
        "import seaborn as sns\n",
        "\n",
        "import tensorflow as tf\n",
        "from tensorflow import keras\n",
        "from tensorflow.keras import layers\n",
        "\n",
        "print(tf.__version__)"
      ],
      "execution_count": 2,
      "outputs": [
        {
          "output_type": "stream",
          "text": [
            "1.14.0-rc1\n"
          ],
          "name": "stdout"
        }
      ]
    },
    {
      "cell_type": "markdown",
      "metadata": {
        "id": "hnipyp1PEwNi",
        "colab_type": "text"
      },
      "source": [
        "## The Auto MPG dataset\n",
        "\n",
        "The dataset is available from the [UCI Machine Learning Repository](https://archive.ics.uci.edu/ml/).\n",
        "\n",
        "### Get the data\n",
        "First download the dataset.-"
      ]
    },
    {
      "cell_type": "code",
      "metadata": {
        "id": "l3cvu2Kj-iOB",
        "colab_type": "code",
        "colab": {}
      },
      "source": [
        "data = SDSS.query_sql(\"\"\"SELECT TOP 1000\n",
        "                      p.fiberMag_u, p.fiberMag_g, p.fiberMag_r, p.fiberMag_i, \n",
        "                      p.fiberMag_z,s.elodieTEff\n",
        "                   \n",
        "                      \n",
        "                      FROM PhotoObjAll AS p JOIN specObjAll s ON s.bestobjid = p.objid\n",
        "                      \n",
        "                      WHERE p.mode = 1 AND s.sciencePrimary = 1 AND p.clean = 1 AND s.class != 'QSO' AND s.class !='GALAXY'\n",
        "                      \n",
        "                      \"\"\")"
      ],
      "execution_count": 0,
      "outputs": []
    },
    {
      "cell_type": "code",
      "metadata": {
        "id": "aYU1l2WHCUJI",
        "colab_type": "code",
        "outputId": "3487afc6-f06d-460b-ce36-fc36372daf0e",
        "colab": {
          "base_uri": "https://localhost:8080/",
          "height": 1105
        }
      },
      "source": [
        "datapd=data.to_pandas()\n",
        "print(datapd)"
      ],
      "execution_count": 4,
      "outputs": [
        {
          "output_type": "stream",
          "text": [
            "     fiberMag_u  fiberMag_g  fiberMag_r  fiberMag_i  fiberMag_z  elodieTEff\n",
            "0      19.78761    18.81021    18.55947    18.44454    18.41792        6500\n",
            "1      20.46545    18.85142    18.35061    18.20708    18.03558        5320\n",
            "2      21.66110    19.73356    18.55408    17.59462    17.06819        3717\n",
            "3      22.62621    20.00452    18.71349    18.09788    17.74249        3962\n",
            "4      20.43118    19.23725    18.69031    18.43371    18.32838        5324\n",
            "5      22.78794    20.05930    18.60072    17.73286    17.27581        3980\n",
            "6      19.08168    18.16120    17.80042    17.95433    17.62448        6000\n",
            "7      20.29089    19.22616    19.01667    18.98399    18.98821        7000\n",
            "8      19.33295    18.22913    18.02131    17.98577    17.99690        7500\n",
            "9      17.26937    16.06997    15.61546    15.45759    15.42821        5860\n",
            "10     18.52893    17.50824    17.06644    16.90901    16.87038        6000\n",
            "11     19.61317    18.54408    18.13484    18.02099    18.00498        5873\n",
            "12     22.48306    19.97664    18.54950    17.48796    16.90487        3717\n",
            "13     20.34004    19.37127    19.09722    19.04263    19.00211        7000\n",
            "14     18.99954    18.55942    18.62528    18.70602    18.86328        9000\n",
            "15     20.78576    19.41052    18.84185    18.58627    18.46815        5506\n",
            "16     22.88801    21.28330    20.62952    20.33084    20.07573        5573\n",
            "17     19.15050    18.02776    17.61985    17.49666    17.46769        5762\n",
            "18     23.06062    21.02772    19.41143    18.09288    17.39617        3717\n",
            "19     19.79478    18.59673    18.59312    18.63729    18.56740        8500\n",
            "20     20.22381    18.31630    17.15052    16.46475    16.08346        3980\n",
            "21     19.07210    18.15782    17.85461    17.75564    17.72412        6000\n",
            "22     19.34633    18.16337    17.72548    17.57460    17.53204        5628\n",
            "23     21.46154    19.44841    18.50336    18.10487    17.89774        4576\n",
            "24     17.09640    15.83861    15.38037    15.20928    15.17043        5651\n",
            "25     18.78457    17.65164    17.50387    17.49547    17.49955        7500\n",
            "26     17.43293    16.47152    16.16152    16.04312    15.99471        6500\n",
            "27     19.03115    17.98295    17.90809    17.92295    17.97729        7500\n",
            "28     22.05766    19.56104    18.10551    17.15718    16.66494        3705\n",
            "29     22.76055    20.22134    18.85731    17.99507    17.51898        3980\n",
            "..          ...         ...         ...         ...         ...         ...\n",
            "970    19.18507    19.11542    19.49703    19.80427    20.07010        9000\n",
            "971    19.01034    17.80974    17.43403    17.26437    17.22171        5628\n",
            "972    17.32977    16.87742    16.94832    16.99275    17.05193        8500\n",
            "973    19.40903    18.19405    17.68678    17.53520    17.48940        5649\n",
            "974    19.70344    18.00770    17.39506    17.18642    17.07364        5221\n",
            "975    23.96553    21.60362    20.79376    20.06233    19.55127        3717\n",
            "976    20.32889    19.25492    19.43058    19.65101    19.78040        8500\n",
            "977    19.71912    18.84281    18.52903    18.41013    18.35988        6000\n",
            "978    18.27452    17.05620    16.57709    16.37229    16.30893        5476\n",
            "979    18.65335    17.42230    16.97416    16.79154    16.72343        5320\n",
            "980    16.13216    16.23193    16.64578    16.96490    17.28987        7652\n",
            "981    19.34965    18.33183    18.25654    18.29290    18.30677        7500\n",
            "982    18.82414    18.34918    18.26847    18.26042    18.30272        7500\n",
            "983    19.73480    18.79363    18.43700    18.30595    18.22567        6000\n",
            "984    22.85010    20.54927    19.18576    18.43154    17.98505        3858\n",
            "985    21.65233    19.62054    18.12774    17.45079    17.04063        3980\n",
            "986    18.85261    17.43491    16.96111    16.74988    16.62406        5476\n",
            "987    18.91947    17.79760    17.43734    17.28584    17.23220        5932\n",
            "988    18.84571    17.59080    17.13541    17.01504    16.92424        5630\n",
            "989    17.88323    16.38079    15.79660    15.58651    15.53354        5426\n",
            "990    19.60900    19.84226    20.14116    20.44385    20.68207        6000\n",
            "991    16.51072    15.43376    15.38560    15.40810    15.46791        7500\n",
            "992    19.63791    19.24300    19.46752    19.74204    19.92116        9000\n",
            "993    20.01077    17.86140    16.98573    16.65062    16.42126        4528\n",
            "994    18.63899    17.51180    17.36351    17.30923    17.34900        7500\n",
            "995    18.84155    17.71297    17.32368    17.17188    17.11815        6000\n",
            "996    22.72833    20.81811    19.43382    18.47706    17.91881        3717\n",
            "997    20.83330    18.68723    17.83936    17.46704    17.28137        4576\n",
            "998    18.52938    17.40659    17.32937    17.32512    17.32878        7500\n",
            "999    20.39266    20.35888    20.78169    21.17466    21.50738        9000\n",
            "\n",
            "[1000 rows x 6 columns]\n"
          ],
          "name": "stdout"
        }
      ]
    },
    {
      "cell_type": "markdown",
      "metadata": {
        "id": "RbqnaZgMEOdV",
        "colab_type": "text"
      },
      "source": [
        "### Split the data into train and test\n",
        "\n",
        "Now split the dataset into a training set and a test set.\n",
        "\n",
        "We will use the test set in the final evaluation of our model."
      ]
    },
    {
      "cell_type": "code",
      "metadata": {
        "id": "ytPIaTCAEMqe",
        "colab_type": "code",
        "colab": {}
      },
      "source": [
        "train_datapd = datapd.sample(frac=0.8,random_state=0)\n",
        "test_datapd = datapd.drop(train_datapd.index)\n"
      ],
      "execution_count": 0,
      "outputs": []
    },
    {
      "cell_type": "markdown",
      "metadata": {
        "id": "un9FMCKeEKJk",
        "colab_type": "text"
      },
      "source": [
        "### Inspect the data"
      ]
    },
    {
      "cell_type": "markdown",
      "metadata": {
        "id": "hJMy5AApEEMv",
        "colab_type": "text"
      },
      "source": [
        "Look at the overall statistics:"
      ]
    },
    {
      "cell_type": "code",
      "metadata": {
        "id": "IXMZjr7HEBTf",
        "colab_type": "code",
        "outputId": "92c9d9d6-3d52-4a8f-ed0a-35fd52d777b3",
        "colab": {
          "base_uri": "https://localhost:8080/",
          "height": 204
        }
      },
      "source": [
        "train_stats = train_datapd.describe()\n",
        "train_stats.pop(\"elodieTEff\")\n",
        "train_stats = train_stats.transpose()\n",
        "train_stats\n"
      ],
      "execution_count": 6,
      "outputs": [
        {
          "output_type": "execute_result",
          "data": {
            "text/html": [
              "<div>\n",
              "<style scoped>\n",
              "    .dataframe tbody tr th:only-of-type {\n",
              "        vertical-align: middle;\n",
              "    }\n",
              "\n",
              "    .dataframe tbody tr th {\n",
              "        vertical-align: top;\n",
              "    }\n",
              "\n",
              "    .dataframe thead th {\n",
              "        text-align: right;\n",
              "    }\n",
              "</style>\n",
              "<table border=\"1\" class=\"dataframe\">\n",
              "  <thead>\n",
              "    <tr style=\"text-align: right;\">\n",
              "      <th></th>\n",
              "      <th>count</th>\n",
              "      <th>mean</th>\n",
              "      <th>std</th>\n",
              "      <th>min</th>\n",
              "      <th>25%</th>\n",
              "      <th>50%</th>\n",
              "      <th>75%</th>\n",
              "      <th>max</th>\n",
              "    </tr>\n",
              "  </thead>\n",
              "  <tbody>\n",
              "    <tr>\n",
              "      <th>fiberMag_u</th>\n",
              "      <td>800.0</td>\n",
              "      <td>20.106835</td>\n",
              "      <td>1.906204</td>\n",
              "      <td>15.83426</td>\n",
              "      <td>18.843650</td>\n",
              "      <td>19.748945</td>\n",
              "      <td>21.177308</td>\n",
              "      <td>26.24836</td>\n",
              "    </tr>\n",
              "    <tr>\n",
              "      <th>fiberMag_g</th>\n",
              "      <td>800.0</td>\n",
              "      <td>18.750429</td>\n",
              "      <td>1.721557</td>\n",
              "      <td>15.31662</td>\n",
              "      <td>17.606813</td>\n",
              "      <td>18.605115</td>\n",
              "      <td>19.545817</td>\n",
              "      <td>26.15056</td>\n",
              "    </tr>\n",
              "    <tr>\n",
              "      <th>fiberMag_r</th>\n",
              "      <td>800.0</td>\n",
              "      <td>18.186018</td>\n",
              "      <td>1.479188</td>\n",
              "      <td>14.92595</td>\n",
              "      <td>17.155590</td>\n",
              "      <td>18.128115</td>\n",
              "      <td>18.951463</td>\n",
              "      <td>23.55924</td>\n",
              "    </tr>\n",
              "    <tr>\n",
              "      <th>fiberMag_i</th>\n",
              "      <td>800.0</td>\n",
              "      <td>17.876560</td>\n",
              "      <td>1.328272</td>\n",
              "      <td>14.78577</td>\n",
              "      <td>16.938932</td>\n",
              "      <td>17.794600</td>\n",
              "      <td>18.760043</td>\n",
              "      <td>21.91380</td>\n",
              "    </tr>\n",
              "    <tr>\n",
              "      <th>fiberMag_z</th>\n",
              "      <td>800.0</td>\n",
              "      <td>17.714676</td>\n",
              "      <td>1.323644</td>\n",
              "      <td>14.66739</td>\n",
              "      <td>16.755370</td>\n",
              "      <td>17.660985</td>\n",
              "      <td>18.583395</td>\n",
              "      <td>21.89454</td>\n",
              "    </tr>\n",
              "  </tbody>\n",
              "</table>\n",
              "</div>"
            ],
            "text/plain": [
              "            count       mean       std  ...        50%        75%       max\n",
              "fiberMag_u  800.0  20.106835  1.906204  ...  19.748945  21.177308  26.24836\n",
              "fiberMag_g  800.0  18.750429  1.721557  ...  18.605115  19.545817  26.15056\n",
              "fiberMag_r  800.0  18.186018  1.479188  ...  18.128115  18.951463  23.55924\n",
              "fiberMag_i  800.0  17.876560  1.328272  ...  17.794600  18.760043  21.91380\n",
              "fiberMag_z  800.0  17.714676  1.323644  ...  17.660985  18.583395  21.89454\n",
              "\n",
              "[5 rows x 8 columns]"
            ]
          },
          "metadata": {
            "tags": []
          },
          "execution_count": 6
        }
      ]
    },
    {
      "cell_type": "markdown",
      "metadata": {
        "id": "MAH7deWED8tk",
        "colab_type": "text"
      },
      "source": [
        "### Split features from labels\n",
        "\n",
        "Separate the target value, or \"label\", from the features. This label is the value that you will train the model to predict."
      ]
    },
    {
      "cell_type": "code",
      "metadata": {
        "id": "1PsmBwsvD55i",
        "colab_type": "code",
        "colab": {}
      },
      "source": [
        "train_labels = train_datapd.pop('elodieTEff')\n",
        "test_labels = test_datapd.pop('elodieTEff')\n",
        "\n",
        "train_feat = train_datapd\n",
        "test_feat = test_datapd\n",
        "\n",
        "\n"
      ],
      "execution_count": 0,
      "outputs": []
    },
    {
      "cell_type": "markdown",
      "metadata": {
        "id": "Q2fH1vq7D1Tw",
        "colab_type": "text"
      },
      "source": [
        "### Normalize the data\n",
        "\n",
        "Look again at the `train_stats` block above and note how different the ranges of each feature are.\n",
        "\n",
        "It is good practice to normalize features that use different scales and ranges. Although the model *might* converge without feature normalization, it makes training more difficult, and it makes the resulting model dependent on the choice of units used in the input.\n",
        "\n",
        "Note: Although we intentionally generate these statistics from only the training dataset, these statistics will also be used to normalize the test dataset. We need to do that to project the test dataset into the same distribution that the model has been trained on."
      ]
    },
    {
      "cell_type": "code",
      "metadata": {
        "id": "lgbVr0RWSsom",
        "colab_type": "code",
        "colab": {}
      },
      "source": [
        "#norm train label\n",
        "def norm(x):\n",
        "  r=(x-x.mean())/x.std()\n",
        "  return r"
      ],
      "execution_count": 0,
      "outputs": []
    },
    {
      "cell_type": "code",
      "metadata": {
        "id": "mWW9QfEXDxnA",
        "colab_type": "code",
        "outputId": "1d7c2338-74f4-492d-d250-a86615a652a4",
        "colab": {
          "base_uri": "https://localhost:8080/",
          "height": 1071
        }
      },
      "source": [
        "\n",
        "#normtest_temp=tf.keras.utils.normalize(test_labels,axis=0)\n",
        "train_mean=train_labels.mean()\n",
        "train_std=train_labels.std()\n",
        "\n",
        "\n",
        "norm_train_labels=(train_labels-train_mean)/train_std\n",
        "norm_train_feat = (train_feat - train_feat.mean())/train_feat.std()\n",
        "print(norm_train_labels)"
      ],
      "execution_count": 10,
      "outputs": [
        {
          "output_type": "stream",
          "text": [
            "993   -0.825415\n",
            "859   -1.331577\n",
            "298   -0.128596\n",
            "553   -0.134746\n",
            "672    1.617450\n",
            "971   -0.148891\n",
            "27     1.002429\n",
            "231    1.002429\n",
            "306    0.387407\n",
            "706    0.387407\n",
            "496    0.079897\n",
            "558    0.079897\n",
            "784    0.079897\n",
            "239   -1.217799\n",
            "578    1.650661\n",
            "55    -0.915208\n",
            "906   -1.324197\n",
            "175   -0.562801\n",
            "14     1.924961\n",
            "77    -0.915208\n",
            "31    -1.324197\n",
            "481    1.617450\n",
            "310   -1.324197\n",
            "311   -1.000081\n",
            "883   -0.673505\n",
            "788   -0.453942\n",
            "45    -1.237479\n",
            "103   -0.092309\n",
            "760    1.002429\n",
            "1     -0.338318\n",
            "         ...   \n",
            "216   -0.076319\n",
            "735    0.079897\n",
            "129   -1.237479\n",
            "349    0.079897\n",
            "111    0.079897\n",
            "166   -0.498838\n",
            "207    0.301919\n",
            "438    0.079897\n",
            "552    0.079897\n",
            "274    0.079897\n",
            "974   -0.399205\n",
            "591   -1.326042\n",
            "800   -0.049258\n",
            "937   -0.405355\n",
            "525   -1.150146\n",
            "287    0.103267\n",
            "469    0.079897\n",
            "326    1.095912\n",
            "121   -0.112605\n",
            "994    1.002429\n",
            "507   -0.562801\n",
            "228    1.002429\n",
            "673    0.079897\n",
            "595    0.387407\n",
            "445   -0.795894\n",
            "117   -0.933044\n",
            "464   -0.933044\n",
            "25     1.002429\n",
            "110   -0.795894\n",
            "149   -1.173517\n",
            "Name: elodieTEff, Length: 800, dtype: float64\n"
          ],
          "name": "stdout"
        }
      ]
    },
    {
      "cell_type": "markdown",
      "metadata": {
        "id": "Di-_dkBrDrul",
        "colab_type": "text"
      },
      "source": [
        "This normalized data is what we will use to train the model.\n",
        "\n",
        "Caution: The statistics used to normalize the inputs here (mean and standard deviation) need to be applied to any other data that is fed to the model, along with the one-hot encoding that we did earlier.  That includes the test set as well as live data when the model is used in production.\n",
        "\n"
      ]
    },
    {
      "cell_type": "markdown",
      "metadata": {
        "id": "p9KUKRQFDlPn",
        "colab_type": "text"
      },
      "source": [
        "## The model\n",
        "\n",
        "### Build the model\n",
        "\n",
        "Let's build our model. Here, we'll use a `Sequential` model with two densely connected hidden layers, and an output layer that returns a single, continuous value. The model building steps are wrapped in a function, `build_model`, since we'll create a second model, later on."
      ]
    },
    {
      "cell_type": "code",
      "metadata": {
        "id": "Asg0O1TLDjAy",
        "colab_type": "code",
        "colab": {
          "base_uri": "https://localhost:8080/",
          "height": 105
        },
        "outputId": "8292a767-a15b-44b7-8152-4880940b7036"
      },
      "source": [
        "def build_model():\n",
        "  model = keras.Sequential([\n",
        "    layers.Dense(1, activation=tf.nn.tanh, input_shape=[len(train_datapd.keys())]),\n",
        "    #layers.Dense(4, activation=tf.nn.relu),\n",
        "    #layers.Dense(4, activation=tf.nn.relu),\n",
        "    #layers.Dense(1)\n",
        "  ])\n",
        "\n",
        "  optimizer = tf.keras.optimizers.RMSprop(0.001)\n",
        "\n",
        "  model.compile(loss='mean_squared_error',\n",
        "                optimizer=optimizer,\n",
        "                metrics=['mean_absolute_error', 'mean_squared_error'])\n",
        "  return model\n",
        "\n",
        "model = build_model()"
      ],
      "execution_count": 11,
      "outputs": [
        {
          "output_type": "stream",
          "text": [
            "WARNING: Logging before flag parsing goes to stderr.\n",
            "W0613 18:49:51.398414 139931807094656 deprecation.py:506] From /usr/local/lib/python3.6/dist-packages/tensorflow/python/ops/init_ops.py:1251: calling VarianceScaling.__init__ (from tensorflow.python.ops.init_ops) with dtype is deprecated and will be removed in a future version.\n",
            "Instructions for updating:\n",
            "Call initializer instance with the dtype argument instead of passing it to the constructor\n"
          ],
          "name": "stderr"
        }
      ]
    },
    {
      "cell_type": "markdown",
      "metadata": {
        "id": "-LaH9J7aDb1B",
        "colab_type": "text"
      },
      "source": [
        "### Inspect the model\n",
        "\n",
        "Use the `.summary` method to print a simple description of the model"
      ]
    },
    {
      "cell_type": "code",
      "metadata": {
        "id": "eMeilODVDZ8L",
        "colab_type": "code",
        "outputId": "bdb725de-6da5-4d97-c463-2e2398c1afc1",
        "colab": {
          "base_uri": "https://localhost:8080/",
          "height": 187
        }
      },
      "source": [
        "model.summary()"
      ],
      "execution_count": 12,
      "outputs": [
        {
          "output_type": "stream",
          "text": [
            "Model: \"sequential\"\n",
            "_________________________________________________________________\n",
            "Layer (type)                 Output Shape              Param #   \n",
            "=================================================================\n",
            "dense (Dense)                (None, 1)                 6         \n",
            "=================================================================\n",
            "Total params: 6\n",
            "Trainable params: 6\n",
            "Non-trainable params: 0\n",
            "_________________________________________________________________\n"
          ],
          "name": "stdout"
        }
      ]
    },
    {
      "cell_type": "markdown",
      "metadata": {
        "id": "QUsEB_oUDR_j",
        "colab_type": "text"
      },
      "source": [
        "Now try out the model. Take a batch of `10` examples from the training data and call `model.predict` on it."
      ]
    },
    {
      "cell_type": "markdown",
      "metadata": {
        "id": "elZqEAdBDKF8",
        "colab_type": "text"
      },
      "source": [
        "### Train the model\n",
        "\n",
        "Train the model for 1000 epochs, and record the training and validation accuracy in the `history` object."
      ]
    },
    {
      "cell_type": "code",
      "metadata": {
        "id": "bW0KSl6iDHb0",
        "colab_type": "code",
        "outputId": "eb7bcb23-d521-43d5-f731-ada3736dc85e",
        "colab": {
          "base_uri": "https://localhost:8080/",
          "height": 204
        }
      },
      "source": [
        "# Display training progress by printing a single dot for each completed epoch\n",
        "class PrintDot(keras.callbacks.Callback):\n",
        "  def on_epoch_end(self, epoch, logs):\n",
        "    if epoch % 100 == 0: print('')\n",
        "    print('.', end='')\n",
        "\n",
        "EPOCHS = 1000\n",
        "\n",
        "history = model.fit(\n",
        "  norm_train_feat, norm_train_labels,\n",
        "  epochs=EPOCHS, validation_split = 0.2, verbose=0,\n",
        "  callbacks=[PrintDot()])"
      ],
      "execution_count": 13,
      "outputs": [
        {
          "output_type": "stream",
          "text": [
            "\n",
            "....................................................................................................\n",
            "....................................................................................................\n",
            "....................................................................................................\n",
            "....................................................................................................\n",
            "....................................................................................................\n",
            "....................................................................................................\n",
            "....................................................................................................\n",
            "....................................................................................................\n",
            "....................................................................................................\n",
            "...................................................................................................."
          ],
          "name": "stdout"
        }
      ]
    },
    {
      "cell_type": "markdown",
      "metadata": {
        "id": "iRMaIjLWDCKA",
        "colab_type": "text"
      },
      "source": [
        "Visualize the model's training progress using the stats stored in the `history` object."
      ]
    },
    {
      "cell_type": "code",
      "metadata": {
        "id": "UHXhcQ-sDAN7",
        "colab_type": "code",
        "outputId": "2ca02a1c-b789-463d-944a-0ed82980ad7c",
        "colab": {
          "base_uri": "https://localhost:8080/",
          "height": 566
        }
      },
      "source": [
        "hist = pd.DataFrame(history.history)\n",
        "hist['epoch'] = history.epoch\n",
        "hist.tail()\n",
        "\n",
        "print(history)\n",
        "\n",
        "def plot_history(history):\n",
        "  hist = pd.DataFrame(history.history)\n",
        "  hist['epoch'] = history.epoch\n",
        "\n",
        "  plt.figure()\n",
        "  plt.xlabel('Epoch')\n",
        "  plt.ylabel('Mean Abs Error [K]')\n",
        "  plt.plot(hist['epoch'], hist['mean_absolute_error'],\n",
        "           label='Train Error')\n",
        "  plt.plot(hist['epoch'], hist['val_mean_absolute_error'],\n",
        "           label = 'Val Error')\n",
        "  plt.ylim([0,5])\n",
        "  plt.legend()\n",
        "\n",
        "  plt.figure()\n",
        "  plt.xlabel('Epoch')\n",
        "  plt.ylabel('Mean Square Error [$K^2$]')\n",
        "  plt.plot(hist['epoch'], hist['mean_squared_error'],\n",
        "           label='Train Error')\n",
        "  plt.plot(hist['epoch'], hist['val_mean_squared_error'],\n",
        "           label = 'Val Error')\n",
        "  plt.ylim([0,20])\n",
        "  plt.legend()\n",
        "  plt.show()\n",
        "\n",
        "\n",
        "plot_history(history)"
      ],
      "execution_count": 14,
      "outputs": [
        {
          "output_type": "stream",
          "text": [
            "<tensorflow.python.keras.callbacks.History object at 0x7f4419255b00>\n"
          ],
          "name": "stdout"
        },
        {
          "output_type": "display_data",
          "data": {
            "image/png": "[encoded data removed]",
            "text/plain": [
              "<Figure size 432x288 with 1 Axes>"
            ]
          },
          "metadata": {
            "tags": []
          }
        },
        {
          "output_type": "display_data",
          "data": {
            "image/png": "[encoded data removed]",
            "text/plain": [
              "<Figure size 432x288 with 1 Axes>"
            ]
          },
          "metadata": {
            "tags": []
          }
        }
      ]
    },
    {
      "cell_type": "markdown",
      "metadata": {
        "id": "TlWek3M3CxZb",
        "colab_type": "text"
      },
      "source": [
        "This graph shows little improvement, or even degradation in the validation error after about 100 epochs. Let's update the `model.fit` call to automatically stop training when the validation score doesn't improve. We'll use an *EarlyStopping callback* that tests a training condition for  every epoch. If a set amount of epochs elapses without showing improvement, then automatically stop the training.\n",
        "\n",
        "You can learn more about this callback [here](https://www.tensorflow.org/versions/master/api_docs/python/tf/keras/callbacks/EarlyStopping)."
      ]
    },
    {
      "cell_type": "code",
      "metadata": {
        "id": "ywa8UpMYCvNc",
        "colab_type": "code",
        "colab": {}
      },
      "source": [
        "#model = build_model()\n",
        "\n",
        "# The patience parameter is the amount of epochs to check for improvement\n",
        "#early_stop = keras.callbacks.EarlyStopping(monitor='val_loss', patience=10)\n",
        "\n",
        "#history = model.fit(norm_train_feat, train_labels, epochs=EPOCHS,\n",
        "#                    validation_split = 0.2, verbose=0, callbacks=[early_stop, PrintDot()])\n",
        "#print(history)\n",
        "#plot_history(history)"
      ],
      "execution_count": 0,
      "outputs": []
    },
    {
      "cell_type": "markdown",
      "metadata": {
        "id": "JtiYPCm-CoeB",
        "colab_type": "text"
      },
      "source": [
        "The graph shows that on the validation set, the average error is usually around +/- 2 MPG. Is this good? We'll leave that decision up to you.\n",
        "\n",
        "Let's see how well the model generalizes by using the **test** set, which we did not use when training the model.  This tells us how well we can expect the model to predict when we use it in the real world."
      ]
    },
    {
      "cell_type": "code",
      "metadata": {
        "id": "P-08c5XBCl7I",
        "colab_type": "code",
        "outputId": "336d57e3-8729-4f5a-c62b-80ce946fbfd7",
        "colab": {
          "base_uri": "https://localhost:8080/",
          "height": 34
        }
      },
      "source": [
        "norm_test_feat = (test_feat-test_feat.mean())/test_feat.std()\n",
        "norm_test_labels = (test_labels-test_labels.mean())/test_labels.std()\n",
        "\n",
        "\n",
        "loss, mae, mse = model.evaluate(norm_test_feat, norm_test_labels, verbose=0)\n",
        "\n",
        "print(\"Testing set Mean Abs Error: {:5.2f} Kelvin\".format(mae))"
      ],
      "execution_count": 16,
      "outputs": [
        {
          "output_type": "stream",
          "text": [
            "Testing set Mean Abs Error:  0.33 Kelvin\n"
          ],
          "name": "stdout"
        }
      ]
    },
    {
      "cell_type": "markdown",
      "metadata": {
        "id": "T3FTCj6gChEg",
        "colab_type": "text"
      },
      "source": [
        "### Make predictions\n",
        "\n",
        "Finally, predict Temperature values using data in the testing set:"
      ]
    },
    {
      "cell_type": "code",
      "metadata": {
        "id": "go8xaaLkCdxN",
        "colab_type": "code",
        "outputId": "21097c42-ae42-4f02-d16d-b9b216a607d7",
        "colab": {
          "base_uri": "https://localhost:8080/",
          "height": 300
        }
      },
      "source": [
        "#print(norm_test_labels)\n",
        "\n",
        "test_predictions = model.predict(norm_test_feat).flatten()\n",
        "#test_predictions = model.predict(norm_test_feat)\n",
        "#print(test_predictions)\n",
        "\n",
        "plt.scatter(norm_test_labels, test_predictions, color='red')\n",
        "plt.xlabel('True Values [K]')\n",
        "plt.ylabel('Predictions [K]')\n",
        "plt.axis('equal')\n",
        "plt.axis('square')\n",
        "#plt.xlim([0,plt.xlim()[1]])\n",
        "#plt.ylim([0,100])\n",
        "#plt.ylim([0,plt.ylim()[1]])\n",
        "#_ = plt.plot([-100, 100], [-100, 100])"
      ],
      "execution_count": 17,
      "outputs": [
        {
          "output_type": "execute_result",
          "data": {
            "text/plain": [
              "(-1.6450949093300815, 3.14022587254141, -1.114951369390056, 3.6703694124814357)"
            ]
          },
          "metadata": {
            "tags": []
          },
          "execution_count": 17
        },
        {
          "output_type": "display_data",
          "data": {
            "image/png": "[encoded data removed]",
            "text/plain": [
              "<Figure size 432x288 with 1 Axes>"
            ]
          },
          "metadata": {
            "tags": []
          }
        }
      ]
    },
    {
      "cell_type": "markdown",
      "metadata": {
        "id": "bBQjihVVCWkc",
        "colab_type": "text"
      },
      "source": [
        "It looks like our model predicts reasonably well. Let's take a look at the error distribution."
      ]
    },
    {
      "cell_type": "code",
      "metadata": {
        "id": "o6Re1hClCN37",
        "colab_type": "code",
        "outputId": "f902a070-da10-43cd-9700-0f5d3fa71d48",
        "colab": {
          "base_uri": "https://localhost:8080/",
          "height": 283
        }
      },
      "source": [
        "error = test_predictions - norm_test_labels\n",
        "plt.hist(error, bins = 25)\n",
        "plt.xlabel(\"Prediction Error [K]\")\n",
        "_ = plt.ylabel(\"Count\")"
      ],
      "execution_count": 18,
      "outputs": [
        {
          "output_type": "display_data",
          "data": {
            "image/png": "[encoded data removed]",
            "text/plain": [
              "<Figure size 432x288 with 1 Axes>"
            ]
          },
          "metadata": {
            "tags": []
          }
        }
      ]
    },
    {
      "cell_type": "markdown",
      "metadata": {
        "id": "x-9aI2Z6CBy0",
        "colab_type": "text"
      },
      "source": [
        "It's not quite gaussian, but we might expect that because the number of samples is very small.\n",
        "\n"
      ]
    },
    {
      "cell_type": "markdown",
      "metadata": {
        "id": "-0udzTlbB1BF",
        "colab_type": "text"
      },
      "source": [
        "## Conclusion\n",
        "\n",
        "This notebook introduced a few techniques to handle a regression problem.\n",
        "\n",
        "* Mean Squared Error (MSE) is a common loss function used for regression problems (different loss functions are used for classification problems).\n",
        "* Similarly, evaluation metrics used for regression differ from classification. A common regression metric is Mean Absolute Error (MAE).\n",
        "* When numeric input data features have values with different ranges, each feature should be scaled independently to the same range.\n",
        "* If there is not much training data, one technique is to prefer a small network with few hidden layers to avoid overfitting.\n",
        "* Early stopping is a useful technique to prevent overfitting.\n"
      ]
    }
  ]
}