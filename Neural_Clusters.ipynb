{
  "nbformat": 4,
  "nbformat_minor": 0,
  "metadata": {
    "colab": {
      "name": "Neural Clusters.ipynb ",
      "version": "0.3.2",
      "provenance": [],
      "collapsed_sections": [],
      "toc_visible": true,
      "include_colab_link": true
    },
    "kernelspec": {
      "name": "python3",
      "display_name": "Python 3"
    },
    "accelerator": "TPU"
  },
  "cells": [
    {
      "cell_type": "markdown",
      "metadata": {
        "id": "view-in-github",
        "colab_type": "text"
      },
      "source": [
        "<a href=\"https://colab.research.google.com/github/astrodatos/proyecto_neuralclusters/blob/master/Neural_Clusters.ipynb\" target=\"_parent\"><img src=\"https://colab.research.google.com/assets/colab-badge.svg\" alt=\"Open In Colab\"/></a>"
      ]
    },
    {
      "cell_type": "markdown",
      "metadata": {
        "id": "ILrFj60aE-XA",
        "colab_type": "text"
      },
      "source": [
        "Se predecirá la temperatura efectiva de una estrella a través de sus magnitudes absolutas en cinco bandas fotométricas (problema de regresión). Se ha utilizado la base de datos del SDSS, consultando el mismo a través de astroquery."
      ]
    },
    {
      "cell_type": "code",
      "metadata": {
        "id": "_3BVRc6M-Ci8",
        "colab_type": "code",
        "colab": {}
      },
      "source": [
        "!pip install --pre --quiet astroquery"
      ],
      "execution_count": 0,
      "outputs": []
    },
    {
      "cell_type": "code",
      "metadata": {
        "id": "t5_yOjQBE4gz",
        "colab_type": "code",
        "outputId": "8dfee6c0-3f92-413c-c01c-2e877dd07385",
        "colab": {
          "base_uri": "https://localhost:8080/",
          "height": 34
        }
      },
      "source": [
        "from __future__ import absolute_import, division, print_function, unicode_literals\n",
        "\n",
        "from time import time\n",
        "from astroquery.sdss import SDSS\n",
        "\n",
        "import matplotlib.pyplot as plt\n",
        "import pandas as pd\n",
        "\n",
        "import tensorflow as tf\n",
        "from tensorflow import keras\n",
        "from tensorflow.keras import layers\n",
        "\n",
        "\n",
        "print(tf.__version__)"
      ],
      "execution_count": 111,
      "outputs": [
        {
          "output_type": "stream",
          "text": [
            "1.14.0\n"
          ],
          "name": "stdout"
        }
      ]
    },
    {
      "cell_type": "markdown",
      "metadata": {
        "id": "hnipyp1PEwNi",
        "colab_type": "text"
      },
      "source": [
        "## Datos del SDSS\n",
        "\n",
        "Disponible en enlace\n",
        "\n"
      ]
    },
    {
      "cell_type": "markdown",
      "metadata": {
        "id": "KKOzVSMUrt1F",
        "colab_type": "text"
      },
      "source": [
        "###Consulta con Astroquery###"
      ]
    },
    {
      "cell_type": "code",
      "metadata": {
        "id": "l3cvu2Kj-iOB",
        "colab_type": "code",
        "colab": {}
      },
      "source": [
        "t_ini = time()\n",
        "\n",
        "data = SDSS.query_sql(\"\"\"SELECT TOP 1000\n",
        "                      p.fiberMag_u, p.fiberMag_g, p.fiberMag_r, p.fiberMag_i, \n",
        "                      p.fiberMag_z, s.elodieTEff\n",
        "                   \n",
        "                      \n",
        "                      FROM PhotoObjAll AS p JOIN specObjAll s ON s.bestobjid = p.objid\n",
        "                      \n",
        "                      WHERE p.mode = 1 AND s.sciencePrimary = 1 AND p.clean = 1 AND s.class = 'STAR'\n",
        "                      \n",
        "                      \"\"\")"
      ],
      "execution_count": 0,
      "outputs": []
    },
    {
      "cell_type": "code",
      "metadata": {
        "id": "aYU1l2WHCUJI",
        "colab_type": "code",
        "outputId": "5b3a80c4-476b-4f49-9972-d33fbf6f7346",
        "colab": {
          "base_uri": "https://localhost:8080/",
          "height": 1000
        }
      },
      "source": [
        "datapd=data.to_pandas()\n",
        "datapd = datapd[(datapd != -9999).dropna()]\n",
        "datapd = datapd.dropna()\n",
        "print(datapd)"
      ],
      "execution_count": 124,
      "outputs": [
        {
          "output_type": "stream",
          "text": [
            "     fiberMag_u  fiberMag_g  fiberMag_r  fiberMag_i  fiberMag_z  elodieTEff\n",
            "0      19.78761    18.81021    18.55947    18.44454    18.41792        6500\n",
            "1      20.46545    18.85142    18.35061    18.20708    18.03558        5320\n",
            "2      21.36420    19.53852    18.79207    18.48760    18.21579        4576\n",
            "3      21.54065    19.62002    18.69980    18.26637    17.98270        4576\n",
            "4      22.42662    20.11089    18.85497    17.81604    17.23922        3717\n",
            "5      21.31945    19.43962    18.75341    18.42968    18.18701        4955\n",
            "6      20.62838    18.82706    18.13433    17.83871    17.72808        4955\n",
            "7      21.05210    19.52236    18.93390    18.62222    18.50867        4576\n",
            "8      22.26805    20.22126    18.81904    17.37300    16.61288        3717\n",
            "9      21.86569    19.46522    18.28040    17.74466    17.46696        4382\n",
            "10     23.29790    20.16792    18.85043    17.69284    17.09843        3717\n",
            "11     22.67853    19.79411    18.46184    17.82746    17.47438        3962\n",
            "12     20.34311    19.29885    18.94422    18.73397    18.74008        5704\n",
            "13     19.83613    18.85328    18.58360    18.38989    18.42928        6000\n",
            "14     20.88540    19.01156    18.27138    17.95111    17.76436        4955\n",
            "15     22.66233    20.03238    18.79149    18.28328    17.98473        4382\n",
            "16     22.13163    19.77023    18.49681    17.92480    17.56828        3962\n",
            "17     21.24226    19.54380    18.84217    18.59059    18.39779        4801\n",
            "18     19.75598    18.87830    18.56452    18.45562    18.43674        6000\n",
            "19     20.26340    18.80114    18.35157    18.24499    18.06677        5324\n",
            "20     21.92579    19.88942    18.96974    18.66862    18.33779        4576\n",
            "21     22.44512    19.76980    18.43930    17.37404    16.70520        3717\n",
            "22     22.13773    19.77115    18.48708    17.88360    17.45365        3962\n",
            "23     20.25087    19.05713    18.73949    18.60119    18.41479        5860\n",
            "24     20.00332    18.95732    18.65393    18.49445    18.36246        5651\n",
            "25     22.61579    20.16788    18.94827    18.35211    17.93302        3962\n",
            "26     20.78349    19.39804    18.90624    18.63659    18.48486        5285\n",
            "27     23.02712    20.15181    18.73266    17.26997    16.46183        3717\n",
            "28     21.82538    19.47808    18.30425    17.72437    17.39177        3962\n",
            "29     20.80910    19.11144    18.43123    18.08933    17.91497        4955\n",
            "..          ...         ...         ...         ...         ...         ...\n",
            "970    19.48465    18.44680    18.39193    18.40866    18.46693        7368\n",
            "971    20.73496    19.62749    19.38170    19.23894    19.21086        6000\n",
            "972    18.40195    17.17676    17.13418    17.14757    17.17220        6500\n",
            "973    19.21377    18.05907    18.11812    18.16948    18.21036        9000\n",
            "974    20.08765    18.90418    18.67462    18.59975    18.54039        7000\n",
            "975    20.42742    19.50324    19.46614    19.48076    19.49052        7500\n",
            "976    17.88986    16.77208    16.39181    16.22152    16.18324        5373\n",
            "977    19.96613    18.76947    18.26315    18.03276    17.90753        5704\n",
            "978    25.07349    22.40184    21.15070    20.30242    19.82085        3900\n",
            "979    19.39705    18.14632    17.70059    17.51649    17.42178        5474\n",
            "980    22.01719    20.24779    19.15346    18.37056    17.89281        3980\n",
            "981    20.82597    19.78028    19.30930    18.91396    18.57900        3690\n",
            "982    19.35312    18.08659    17.55301    17.33770    17.25437        5000\n",
            "983    19.67603    18.41998    17.96837    17.81128    17.71881        5659\n",
            "984    19.18841    18.28838    17.87878    17.73592    17.67125        6000\n",
            "985    25.42546    23.71969    22.37985    20.66884    19.71012        3717\n",
            "986    23.44517    23.54623    22.72818    19.96786    18.57454        3717\n",
            "987    17.66612    16.57346    16.21758    15.98575    16.03173        6000\n",
            "988    18.31761    17.18481    16.77180    16.63054    16.60615        6038\n",
            "989    19.37342    18.22303    18.08654    18.05102    18.06683        7500\n",
            "990    18.79983    18.49326    18.47700    17.95103    17.43991        9000\n",
            "991    21.81522    19.95872    18.97414    18.40137    18.04336        3858\n",
            "992    16.92682    15.75901    15.37330    15.27654    15.23524        6038\n",
            "993    20.11990    18.77221    18.16035    17.86335    17.73721        5285\n",
            "994    18.26421    17.00852    16.46609    16.26221    16.15271        5152\n",
            "995    17.57374    16.48605    16.13404    16.02280    15.99744        5873\n",
            "996    17.88854    16.84896    16.81246    16.83492    16.90080        7500\n",
            "997    21.73261    19.92854    18.93051    18.64311    18.52863        5000\n",
            "998    18.85978    18.45002    18.51233    18.65212    18.82182        9000\n",
            "999    20.13095    18.67442    18.09254    17.80560    17.72772        5285\n",
            "\n",
            "[1000 rows x 6 columns]\n"
          ],
          "name": "stdout"
        }
      ]
    },
    {
      "cell_type": "markdown",
      "metadata": {
        "id": "RbqnaZgMEOdV",
        "colab_type": "text"
      },
      "source": [
        "### Separación entre datos de entrenamiento y datos de prueba "
      ]
    },
    {
      "cell_type": "code",
      "metadata": {
        "id": "ytPIaTCAEMqe",
        "colab_type": "code",
        "colab": {}
      },
      "source": [
        "train_datapd = datapd.sample(frac=0.8,random_state=0)\n",
        "test_datapd = datapd.drop(train_datapd.index)"
      ],
      "execution_count": 0,
      "outputs": []
    },
    {
      "cell_type": "markdown",
      "metadata": {
        "id": "un9FMCKeEKJk",
        "colab_type": "text"
      },
      "source": [
        "### Chequeo a los datos"
      ]
    },
    {
      "cell_type": "markdown",
      "metadata": {
        "id": "hJMy5AApEEMv",
        "colab_type": "text"
      },
      "source": [
        "Estadísticas:"
      ]
    },
    {
      "cell_type": "code",
      "metadata": {
        "id": "IXMZjr7HEBTf",
        "colab_type": "code",
        "outputId": "2e4f583c-07ac-43ab-e4bf-ac2b47dc2b65",
        "colab": {
          "base_uri": "https://localhost:8080/",
          "height": 204
        }
      },
      "source": [
        "train_stats = train_datapd.describe()\n",
        "train_stats.pop(\"elodieTEff\")\n",
        "train_stats = train_stats.transpose()\n",
        "train_stats\n"
      ],
      "execution_count": 126,
      "outputs": [
        {
          "output_type": "execute_result",
          "data": {
            "text/html": [
              "<div>\n",
              "<style scoped>\n",
              "    .dataframe tbody tr th:only-of-type {\n",
              "        vertical-align: middle;\n",
              "    }\n",
              "\n",
              "    .dataframe tbody tr th {\n",
              "        vertical-align: top;\n",
              "    }\n",
              "\n",
              "    .dataframe thead th {\n",
              "        text-align: right;\n",
              "    }\n",
              "</style>\n",
              "<table border=\"1\" class=\"dataframe\">\n",
              "  <thead>\n",
              "    <tr style=\"text-align: right;\">\n",
              "      <th></th>\n",
              "      <th>count</th>\n",
              "      <th>mean</th>\n",
              "      <th>std</th>\n",
              "      <th>min</th>\n",
              "      <th>25%</th>\n",
              "      <th>50%</th>\n",
              "      <th>75%</th>\n",
              "      <th>max</th>\n",
              "    </tr>\n",
              "  </thead>\n",
              "  <tbody>\n",
              "    <tr>\n",
              "      <th>fiberMag_u</th>\n",
              "      <td>800.0</td>\n",
              "      <td>20.210242</td>\n",
              "      <td>1.950748</td>\n",
              "      <td>15.83426</td>\n",
              "      <td>18.806405</td>\n",
              "      <td>19.858840</td>\n",
              "      <td>21.347507</td>\n",
              "      <td>26.24836</td>\n",
              "    </tr>\n",
              "    <tr>\n",
              "      <th>fiberMag_g</th>\n",
              "      <td>800.0</td>\n",
              "      <td>18.869877</td>\n",
              "      <td>1.728762</td>\n",
              "      <td>15.04047</td>\n",
              "      <td>17.703588</td>\n",
              "      <td>18.735245</td>\n",
              "      <td>19.758385</td>\n",
              "      <td>24.98989</td>\n",
              "    </tr>\n",
              "    <tr>\n",
              "      <th>fiberMag_r</th>\n",
              "      <td>800.0</td>\n",
              "      <td>18.343110</td>\n",
              "      <td>1.502875</td>\n",
              "      <td>14.88521</td>\n",
              "      <td>17.277135</td>\n",
              "      <td>18.281530</td>\n",
              "      <td>19.157787</td>\n",
              "      <td>23.55924</td>\n",
              "    </tr>\n",
              "    <tr>\n",
              "      <th>fiberMag_i</th>\n",
              "      <td>800.0</td>\n",
              "      <td>18.012636</td>\n",
              "      <td>1.330279</td>\n",
              "      <td>14.74759</td>\n",
              "      <td>17.055145</td>\n",
              "      <td>17.951070</td>\n",
              "      <td>18.966375</td>\n",
              "      <td>21.88524</td>\n",
              "    </tr>\n",
              "    <tr>\n",
              "      <th>fiberMag_z</th>\n",
              "      <td>800.0</td>\n",
              "      <td>17.843510</td>\n",
              "      <td>1.330327</td>\n",
              "      <td>14.71799</td>\n",
              "      <td>16.863622</td>\n",
              "      <td>17.770590</td>\n",
              "      <td>18.790955</td>\n",
              "      <td>21.48817</td>\n",
              "    </tr>\n",
              "  </tbody>\n",
              "</table>\n",
              "</div>"
            ],
            "text/plain": [
              "            count       mean       std  ...        50%        75%       max\n",
              "fiberMag_u  800.0  20.210242  1.950748  ...  19.858840  21.347507  26.24836\n",
              "fiberMag_g  800.0  18.869877  1.728762  ...  18.735245  19.758385  24.98989\n",
              "fiberMag_r  800.0  18.343110  1.502875  ...  18.281530  19.157787  23.55924\n",
              "fiberMag_i  800.0  18.012636  1.330279  ...  17.951070  18.966375  21.88524\n",
              "fiberMag_z  800.0  17.843510  1.330327  ...  17.770590  18.790955  21.48817\n",
              "\n",
              "[5 rows x 8 columns]"
            ]
          },
          "metadata": {
            "tags": []
          },
          "execution_count": 126
        }
      ]
    },
    {
      "cell_type": "markdown",
      "metadata": {
        "id": "MAH7deWED8tk",
        "colab_type": "text"
      },
      "source": [
        "### Separacaión entre atributos y etiquetas\n",
        "\n",
        "En este caso, la temperatura es la etiqueta, mientras que los atributos son las magnitudes absolutas en cinco bandas fotométricas."
      ]
    },
    {
      "cell_type": "code",
      "metadata": {
        "id": "1PsmBwsvD55i",
        "colab_type": "code",
        "colab": {}
      },
      "source": [
        "train_labels = train_datapd.pop('elodieTEff')\n",
        "test_labels = test_datapd.pop('elodieTEff')\n",
        "\n",
        "train_feat = train_datapd\n",
        "test_feat = test_datapd\n"
      ],
      "execution_count": 0,
      "outputs": []
    },
    {
      "cell_type": "markdown",
      "metadata": {
        "id": "Q2fH1vq7D1Tw",
        "colab_type": "text"
      },
      "source": [
        "### Normalización de los datos\n"
      ]
    },
    {
      "cell_type": "code",
      "metadata": {
        "id": "lgbVr0RWSsom",
        "colab_type": "code",
        "colab": {}
      },
      "source": [
        "def norm(x):\n",
        "  r=(x-x.mean())/x.std()\n",
        "  return r"
      ],
      "execution_count": 0,
      "outputs": []
    },
    {
      "cell_type": "code",
      "metadata": {
        "id": "mWW9QfEXDxnA",
        "colab_type": "code",
        "colab": {}
      },
      "source": [
        "norm_train_labels = norm(train_labels)\n",
        "norm_train_feat = norm(train_feat)\n",
        "\n",
        "norm_test_feat = norm(test_feat)"
      ],
      "execution_count": 0,
      "outputs": []
    },
    {
      "cell_type": "markdown",
      "metadata": {
        "id": "Di-_dkBrDrul",
        "colab_type": "text"
      },
      "source": [
        "Se utilizarán los datos normalizados para entrenar el modelo.\n"
      ]
    },
    {
      "cell_type": "markdown",
      "metadata": {
        "id": "p9KUKRQFDlPn",
        "colab_type": "text"
      },
      "source": [
        "## El modelo"
      ]
    },
    {
      "cell_type": "markdown",
      "metadata": {
        "id": "fj8zlMCwvSKL",
        "colab_type": "text"
      },
      "source": [
        "###Estructura de la red neuronal"
      ]
    },
    {
      "cell_type": "code",
      "metadata": {
        "id": "Asg0O1TLDjAy",
        "colab_type": "code",
        "colab": {}
      },
      "source": [
        "def build_model():\n",
        "  model = keras.Sequential([\n",
        "    layers.Dense(5, activation=tf.nn.tanh, input_shape=[len(train_datapd.keys())]),\n",
        "    layers.Dense(5, activation=tf.nn.tanh),\n",
        "    #layers.Dense(4, activation=tf.nn.relu),\n",
        "    layers.Dense(1)\n",
        "  ])\n",
        "\n",
        "  optimizer = tf.keras.optimizers.RMSprop(0.001)\n",
        "\n",
        "  model.compile(loss='mean_squared_error',\n",
        "                optimizer=optimizer,\n",
        "                metrics=['mean_absolute_error', 'mean_squared_error'])\n",
        "  return model\n",
        "\n",
        "model = build_model()"
      ],
      "execution_count": 0,
      "outputs": []
    },
    {
      "cell_type": "markdown",
      "metadata": {
        "id": "fRs-X--DeKcQ",
        "colab_type": "text"
      },
      "source": [
        "###Desnormalización"
      ]
    },
    {
      "cell_type": "code",
      "metadata": {
        "id": "2aaIKxJbeJZA",
        "colab_type": "code",
        "colab": {}
      },
      "source": [
        "def desnorm(dato, media, std):\n",
        "  datonuevo = dato*std + media\n",
        "  return datonuevo"
      ],
      "execution_count": 0,
      "outputs": []
    },
    {
      "cell_type": "markdown",
      "metadata": {
        "id": "-LaH9J7aDb1B",
        "colab_type": "text"
      },
      "source": [
        "### Inspección del modelo"
      ]
    },
    {
      "cell_type": "code",
      "metadata": {
        "id": "eMeilODVDZ8L",
        "colab_type": "code",
        "outputId": "c9e4dfb4-ea42-49e9-fc5a-2426a3db24a1",
        "colab": {
          "base_uri": "https://localhost:8080/",
          "height": 255
        }
      },
      "source": [
        "model.summary()"
      ],
      "execution_count": 132,
      "outputs": [
        {
          "output_type": "stream",
          "text": [
            "Model: \"sequential_8\"\n",
            "_________________________________________________________________\n",
            "Layer (type)                 Output Shape              Param #   \n",
            "=================================================================\n",
            "dense_24 (Dense)             (None, 5)                 30        \n",
            "_________________________________________________________________\n",
            "dense_25 (Dense)             (None, 5)                 30        \n",
            "_________________________________________________________________\n",
            "dense_26 (Dense)             (None, 1)                 6         \n",
            "=================================================================\n",
            "Total params: 66\n",
            "Trainable params: 66\n",
            "Non-trainable params: 0\n",
            "_________________________________________________________________\n"
          ],
          "name": "stdout"
        }
      ]
    },
    {
      "cell_type": "markdown",
      "metadata": {
        "id": "elZqEAdBDKF8",
        "colab_type": "text"
      },
      "source": [
        "### Entrenamiento del modelo"
      ]
    },
    {
      "cell_type": "code",
      "metadata": {
        "id": "bW0KSl6iDHb0",
        "colab_type": "code",
        "outputId": "620cf957-9b55-4af8-c583-7bd843a7d1aa",
        "colab": {
          "base_uri": "https://localhost:8080/",
          "height": 204
        }
      },
      "source": [
        "# Imprime un punto por cada epoch completado\n",
        "class PrintDot(keras.callbacks.Callback):\n",
        "  def on_epoch_end(self, epoch, logs):\n",
        "    if epoch % 100 == 0: print('')\n",
        "    print('.', end='')\n",
        "\n",
        "EPOCHS = 1000\n",
        "\n",
        "history = model.fit(\n",
        "  norm_train_feat, norm_train_labels,\n",
        "  epochs=EPOCHS, validation_split = 0.2, verbose=0,\n",
        "  callbacks=[PrintDot()])"
      ],
      "execution_count": 133,
      "outputs": [
        {
          "output_type": "stream",
          "text": [
            "\n",
            "....................................................................................................\n",
            "....................................................................................................\n",
            "....................................................................................................\n",
            "....................................................................................................\n",
            "....................................................................................................\n",
            "....................................................................................................\n",
            "....................................................................................................\n",
            "....................................................................................................\n",
            "....................................................................................................\n",
            "...................................................................................................."
          ],
          "name": "stdout"
        }
      ]
    },
    {
      "cell_type": "markdown",
      "metadata": {
        "id": "iRMaIjLWDCKA",
        "colab_type": "text"
      },
      "source": [
        "El progreso de entrenamiento del sistema está en el objeto `history`."
      ]
    },
    {
      "cell_type": "code",
      "metadata": {
        "id": "UHXhcQ-sDAN7",
        "colab_type": "code",
        "outputId": "a09c6056-6fc4-490c-a09b-cebdca463041",
        "colab": {
          "base_uri": "https://localhost:8080/",
          "height": 566
        }
      },
      "source": [
        "hist = pd.DataFrame(history.history)\n",
        "hist['epoch'] = history.epoch\n",
        "hist.tail()\n",
        "\n",
        "print(history)\n",
        "\n",
        "def plot_history(history):\n",
        "  hist = pd.DataFrame(history.history)\n",
        "  hist['epoch'] = history.epoch\n",
        "\n",
        "  plt.figure()\n",
        "  plt.xlabel('Epoch')\n",
        "  plt.ylabel('Mean Abs Error [K]')\n",
        "  plt.plot(hist['epoch'], hist['mean_absolute_error'],\n",
        "           label='Train Error')\n",
        "  plt.plot(hist['epoch'], hist['val_mean_absolute_error'],\n",
        "           label = 'Val Error')\n",
        "  #plt.ylim([0,5])\n",
        "  plt.legend()\n",
        "\n",
        "  plt.figure()\n",
        "  plt.xlabel('Epoch')\n",
        "  plt.ylabel('Mean Square Error [$K^2$]')\n",
        "  plt.plot(hist['epoch'], hist['mean_squared_error'],\n",
        "           label='Train Error')\n",
        "  plt.plot(hist['epoch'], hist['val_mean_squared_error'],\n",
        "           label = 'Val Error')\n",
        "  #plt.ylim([0,20])\n",
        "  plt.legend()\n",
        "  plt.show()\n",
        "\n",
        "\n",
        "plot_history(history)"
      ],
      "execution_count": 134,
      "outputs": [
        {
          "output_type": "stream",
          "text": [
            "<tensorflow.python.keras.callbacks.History object at 0x7f3f514377f0>\n"
          ],
          "name": "stdout"
        },
        {
          "output_type": "display_data",
          "data": {
            "image/png": "[encoded data removed]",
            "text/plain": [
              "<Figure size 432x288 with 1 Axes>"
            ]
          },
          "metadata": {
            "tags": []
          }
        },
        {
          "output_type": "display_data",
          "data": {
            "image/png": "[encoded data removed]",
            "text/plain": [
              "<Figure size 432x288 with 1 Axes>"
            ]
          },
          "metadata": {
            "tags": []
          }
        }
      ]
    },
    {
      "cell_type": "markdown",
      "metadata": {
        "id": "9OiJUrMvzz4k",
        "colab_type": "text"
      },
      "source": [
        "###Tiempo de Ejecución"
      ]
    },
    {
      "cell_type": "code",
      "metadata": {
        "id": "MBV0HbkYzzFa",
        "colab_type": "code",
        "colab": {}
      },
      "source": [
        "t_fin = time()\n",
        "t_ejecucion = t_fin - t_ini"
      ],
      "execution_count": 0,
      "outputs": []
    },
    {
      "cell_type": "markdown",
      "metadata": {
        "id": "T3FTCj6gChEg",
        "colab_type": "text"
      },
      "source": [
        "### Predicción con los datos de prueba"
      ]
    },
    {
      "cell_type": "code",
      "metadata": {
        "id": "go8xaaLkCdxN",
        "colab_type": "code",
        "outputId": "2445dbb1-a90b-433a-a87f-8794a6f5b426",
        "colab": {
          "base_uri": "https://localhost:8080/",
          "height": 300
        }
      },
      "source": [
        "test_predictions = model.predict(norm_test_feat).flatten()\n",
        "\n",
        "test_predictions = desnorm(test_predictions, train_labels.mean(), train_labels.std())\n",
        "m1 = min(test_labels)\n",
        "M1 = max(test_labels)\n",
        "\n",
        "m2 = min(test_predictions)\n",
        "M2 = max(test_predictions)\n",
        "\n",
        "m = min([m1, m2])\n",
        "M = max([M1, M2])\n",
        "\n",
        "plt.scatter(test_labels, test_predictions,s=10, alpha = 0.3,color='red')\n",
        "plt.plot([m , M], [m, M])\n",
        "plt.xlabel('True Values [K]')\n",
        "plt.ylabel('Predictions [K]')\n",
        "plt.axis('equal')\n",
        "plt.axis('square')\n",
        "#plt.xlim([0,plt.xlim()[1]])\n",
        "#plt.ylim([0,100])\n",
        "#plt.ylim([0,plt.ylim()[1]])\n",
        "#_ = plt.plot([-100, 100], [-100, 100])"
      ],
      "execution_count": 148,
      "outputs": [
        {
          "output_type": "execute_result",
          "data": {
            "text/plain": [
              "(3081.336124236951, 14082.046320368641, 3081.3220855106583, 14082.03228164235)"
            ]
          },
          "metadata": {
            "tags": []
          },
          "execution_count": 148
        },
        {
          "output_type": "display_data",
          "data": {
            "image/png": "[encoded data removed]",
            "text/plain": [
              "<Figure size 432x288 with 1 Axes>"
            ]
          },
          "metadata": {
            "tags": []
          }
        }
      ]
    },
    {
      "cell_type": "markdown",
      "metadata": {
        "id": "bBQjihVVCWkc",
        "colab_type": "text"
      },
      "source": [
        "Notemos que nuestro modelo se debe acercar a la función de  identidad. Ahora veamos la distribución del error absoluto:\n",
        "\n"
      ]
    },
    {
      "cell_type": "markdown",
      "metadata": {
        "id": "m5gflQ0P81Ml",
        "colab_type": "text"
      },
      "source": [
        "### Errores"
      ]
    },
    {
      "cell_type": "code",
      "metadata": {
        "id": "o6Re1hClCN37",
        "colab_type": "code",
        "outputId": "48e0b02f-daa1-4fde-a6bf-c0e76f08f9b8",
        "colab": {
          "base_uri": "https://localhost:8080/",
          "height": 334
        }
      },
      "source": [
        "import numpy as np\n",
        "error = test_predictions - test_labels\n",
        "error2 = error**2\n",
        "\n",
        "plt.hist(error, bins = 30)\n",
        "plt.xlabel(\"Prediction Error [K]\")\n",
        "_ = plt.ylabel(\"Count\")\n",
        "\n",
        "MeanAbsError = np.abs(error).mean()\n",
        "MeanSQError = error2.mean()\n",
        "\n",
        "print('Tiempo de Ejecución:', t_ejecucion)\n",
        "print('Error Absoluto Medio:', MeanAbsError)\n",
        "print('Error Cuadrático Medio:', MeanSQError)"
      ],
      "execution_count": 137,
      "outputs": [
        {
          "output_type": "stream",
          "text": [
            "Tiempo de Ejecución: 39.372135162353516\n",
            "Error Absoluto Medio: 424.00126708984374\n",
            "Error Cuadrático Medio: 500545.6899398959\n"
          ],
          "name": "stdout"
        },
        {
          "output_type": "display_data",
          "data": {
            "image/png": "[encoded data removed]",
            "text/plain": [
              "<Figure size 432x288 with 1 Axes>"
            ]
          },
          "metadata": {
            "tags": []
          }
        }
      ]
    }
  ]
}